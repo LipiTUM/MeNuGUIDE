{
 "cells": [
  {
   "cell_type": "markdown",
   "source": [
    "*MeNu GUIDE*\n",
    "\n",
    "# Match Genes and Enzymes"
   ],
   "metadata": {
    "collapsed": false
   }
  },
  {
   "cell_type": "code",
   "source": [
    "import os\n",
    "import pandas as pd"
   ],
   "metadata": {
    "collapsed": false,
    "ExecuteTime": {
     "end_time": "2024-06-30T15:42:22.882980Z",
     "start_time": "2024-06-30T15:42:22.122473Z"
    }
   },
   "outputs": [],
   "execution_count": 1
  },
  {
   "metadata": {},
   "cell_type": "code",
   "outputs": [],
   "execution_count": null,
   "source": [
    "kegg_folder = '/path/to/kegg/data/folder/'\n",
    "vmh_folder = '/path/to/vmh/data/folder/'\n",
    "processed_data_folder = \"/path/to/processed/data/folder/\""
   ]
  },
  {
   "cell_type": "code",
   "source": [
    "kegg_proteins = pd.read_csv(os.path.join(kegg_folder, \"kegg_enzymes.csv\"))\n",
    "kegg_genes = pd.read_csv(os.path.join(kegg_folder, \"kegg_enzyme_genes.csv\"))\n",
    "vmh_genes = pd.read_csv(os.path.join(vmh_folder, \"vmh_human_genes.csv\"))"
   ],
   "metadata": {
    "collapsed": false,
    "ExecuteTime": {
     "end_time": "2024-06-30T15:42:22.925678Z",
     "start_time": "2024-06-30T15:42:22.884383Z"
    }
   },
   "outputs": [],
   "execution_count": 2
  },
  {
   "cell_type": "markdown",
   "source": "## Clean up KEGG genes table",
   "metadata": {
    "collapsed": false
   }
  },
  {
   "cell_type": "code",
   "source": [
    "kegg_genes = kegg_genes[kegg_genes.gene.str.contains('\\(')]\n",
    "kegg_genes.loc[:, 'gene_name'] = kegg_genes.gene.apply(lambda x: x.split('(')[1].rstrip(')'))\n",
    "kegg_genes.loc[:, 'kegg_gene_id'] = kegg_genes.gene.apply(lambda x: f\"hsa:{x.split('(')[0]}\")\n",
    "kegg_genes = kegg_genes.drop(columns='gene')\n",
    "kegg_genes = kegg_genes.rename(columns={'enzyme_id': 'kegg_enzyme_id'})\n",
    "kegg_genes"
   ],
   "metadata": {
    "collapsed": false,
    "ExecuteTime": {
     "end_time": "2024-06-30T15:42:23.490695Z",
     "start_time": "2024-06-30T15:42:23.470995Z"
    }
   },
   "outputs": [
    {
     "data": {
      "text/plain": [
       "     kegg_enzyme_id gene_name kegg_gene_id\n",
       "0        EC 1.1.1.1     ADH1A      hsa:124\n",
       "1        EC 1.1.1.1     ADH1B      hsa:125\n",
       "2        EC 1.1.1.1     ADH1C      hsa:126\n",
       "3        EC 1.1.1.1      ADH4      hsa:127\n",
       "4        EC 1.1.1.1      ADH5      hsa:128\n",
       "...             ...       ...          ...\n",
       "3744     EC 7.6.2.3     ABCC1     hsa:4363\n",
       "3745     EC 7.6.2.4     ABCD1      hsa:215\n",
       "3746     EC 7.6.2.4     ABCD2      hsa:225\n",
       "3747     EC 7.6.2.4     ABCD3     hsa:5825\n",
       "3748     EC 7.6.2.8     ABCD4     hsa:5826\n",
       "\n",
       "[3747 rows x 3 columns]"
      ],
      "text/html": [
       "<div>\n",
       "<style scoped>\n",
       "    .dataframe tbody tr th:only-of-type {\n",
       "        vertical-align: middle;\n",
       "    }\n",
       "\n",
       "    .dataframe tbody tr th {\n",
       "        vertical-align: top;\n",
       "    }\n",
       "\n",
       "    .dataframe thead th {\n",
       "        text-align: right;\n",
       "    }\n",
       "</style>\n",
       "<table border=\"1\" class=\"dataframe\">\n",
       "  <thead>\n",
       "    <tr style=\"text-align: right;\">\n",
       "      <th></th>\n",
       "      <th>kegg_enzyme_id</th>\n",
       "      <th>gene_name</th>\n",
       "      <th>kegg_gene_id</th>\n",
       "    </tr>\n",
       "  </thead>\n",
       "  <tbody>\n",
       "    <tr>\n",
       "      <th>0</th>\n",
       "      <td>EC 1.1.1.1</td>\n",
       "      <td>ADH1A</td>\n",
       "      <td>hsa:124</td>\n",
       "    </tr>\n",
       "    <tr>\n",
       "      <th>1</th>\n",
       "      <td>EC 1.1.1.1</td>\n",
       "      <td>ADH1B</td>\n",
       "      <td>hsa:125</td>\n",
       "    </tr>\n",
       "    <tr>\n",
       "      <th>2</th>\n",
       "      <td>EC 1.1.1.1</td>\n",
       "      <td>ADH1C</td>\n",
       "      <td>hsa:126</td>\n",
       "    </tr>\n",
       "    <tr>\n",
       "      <th>3</th>\n",
       "      <td>EC 1.1.1.1</td>\n",
       "      <td>ADH4</td>\n",
       "      <td>hsa:127</td>\n",
       "    </tr>\n",
       "    <tr>\n",
       "      <th>4</th>\n",
       "      <td>EC 1.1.1.1</td>\n",
       "      <td>ADH5</td>\n",
       "      <td>hsa:128</td>\n",
       "    </tr>\n",
       "    <tr>\n",
       "      <th>...</th>\n",
       "      <td>...</td>\n",
       "      <td>...</td>\n",
       "      <td>...</td>\n",
       "    </tr>\n",
       "    <tr>\n",
       "      <th>3744</th>\n",
       "      <td>EC 7.6.2.3</td>\n",
       "      <td>ABCC1</td>\n",
       "      <td>hsa:4363</td>\n",
       "    </tr>\n",
       "    <tr>\n",
       "      <th>3745</th>\n",
       "      <td>EC 7.6.2.4</td>\n",
       "      <td>ABCD1</td>\n",
       "      <td>hsa:215</td>\n",
       "    </tr>\n",
       "    <tr>\n",
       "      <th>3746</th>\n",
       "      <td>EC 7.6.2.4</td>\n",
       "      <td>ABCD2</td>\n",
       "      <td>hsa:225</td>\n",
       "    </tr>\n",
       "    <tr>\n",
       "      <th>3747</th>\n",
       "      <td>EC 7.6.2.4</td>\n",
       "      <td>ABCD3</td>\n",
       "      <td>hsa:5825</td>\n",
       "    </tr>\n",
       "    <tr>\n",
       "      <th>3748</th>\n",
       "      <td>EC 7.6.2.8</td>\n",
       "      <td>ABCD4</td>\n",
       "      <td>hsa:5826</td>\n",
       "    </tr>\n",
       "  </tbody>\n",
       "</table>\n",
       "<p>3747 rows × 3 columns</p>\n",
       "</div>"
      ]
     },
     "execution_count": 3,
     "metadata": {},
     "output_type": "execute_result"
    }
   ],
   "execution_count": 3
  },
  {
   "metadata": {},
   "cell_type": "markdown",
   "source": "## Merge KEGG genes and proteins tables"
  },
  {
   "cell_type": "code",
   "source": [
    "kegg_proteins = kegg_proteins.merge(kegg_genes, how='inner', on='kegg_enzyme_id')\n",
    "kegg_proteins = kegg_proteins.rename(columns={'gene_name': 'symbol'})\n",
    "kegg_proteins"
   ],
   "metadata": {
    "collapsed": false,
    "ExecuteTime": {
     "end_time": "2024-06-30T15:42:25.620136Z",
     "start_time": "2024-06-30T15:42:25.604323Z"
    }
   },
   "outputs": [
    {
     "data": {
      "text/plain": [
       "     kegg_enzyme_id                                   enzyme_name  \\\n",
       "0        EC 1.1.1.1                         alcohol dehydrogenase   \n",
       "1        EC 1.1.1.1                         alcohol dehydrogenase   \n",
       "2        EC 1.1.1.1                         alcohol dehydrogenase   \n",
       "3        EC 1.1.1.1                         alcohol dehydrogenase   \n",
       "4        EC 1.1.1.1                         alcohol dehydrogenase   \n",
       "...             ...                                           ...   \n",
       "3742     EC 7.6.2.3  ABC-type glutathione-S-conjugate transporter   \n",
       "3743     EC 7.6.2.4           ABC-type fatty-acyl-CoA transporter   \n",
       "3744     EC 7.6.2.4           ABC-type fatty-acyl-CoA transporter   \n",
       "3745     EC 7.6.2.4           ABC-type fatty-acyl-CoA transporter   \n",
       "3746     EC 7.6.2.8              ABC-type vitamin B12 transporter   \n",
       "\n",
       "         enzyme_class symbol kegg_gene_id  \n",
       "0     Oxidoreductases  ADH1A      hsa:124  \n",
       "1     Oxidoreductases  ADH1B      hsa:125  \n",
       "2     Oxidoreductases  ADH1C      hsa:126  \n",
       "3     Oxidoreductases   ADH4      hsa:127  \n",
       "4     Oxidoreductases   ADH5      hsa:128  \n",
       "...               ...    ...          ...  \n",
       "3742     Translocases  ABCC1     hsa:4363  \n",
       "3743     Translocases  ABCD1      hsa:215  \n",
       "3744     Translocases  ABCD2      hsa:225  \n",
       "3745     Translocases  ABCD3     hsa:5825  \n",
       "3746     Translocases  ABCD4     hsa:5826  \n",
       "\n",
       "[3747 rows x 5 columns]"
      ],
      "text/html": [
       "<div>\n",
       "<style scoped>\n",
       "    .dataframe tbody tr th:only-of-type {\n",
       "        vertical-align: middle;\n",
       "    }\n",
       "\n",
       "    .dataframe tbody tr th {\n",
       "        vertical-align: top;\n",
       "    }\n",
       "\n",
       "    .dataframe thead th {\n",
       "        text-align: right;\n",
       "    }\n",
       "</style>\n",
       "<table border=\"1\" class=\"dataframe\">\n",
       "  <thead>\n",
       "    <tr style=\"text-align: right;\">\n",
       "      <th></th>\n",
       "      <th>kegg_enzyme_id</th>\n",
       "      <th>enzyme_name</th>\n",
       "      <th>enzyme_class</th>\n",
       "      <th>symbol</th>\n",
       "      <th>kegg_gene_id</th>\n",
       "    </tr>\n",
       "  </thead>\n",
       "  <tbody>\n",
       "    <tr>\n",
       "      <th>0</th>\n",
       "      <td>EC 1.1.1.1</td>\n",
       "      <td>alcohol dehydrogenase</td>\n",
       "      <td>Oxidoreductases</td>\n",
       "      <td>ADH1A</td>\n",
       "      <td>hsa:124</td>\n",
       "    </tr>\n",
       "    <tr>\n",
       "      <th>1</th>\n",
       "      <td>EC 1.1.1.1</td>\n",
       "      <td>alcohol dehydrogenase</td>\n",
       "      <td>Oxidoreductases</td>\n",
       "      <td>ADH1B</td>\n",
       "      <td>hsa:125</td>\n",
       "    </tr>\n",
       "    <tr>\n",
       "      <th>2</th>\n",
       "      <td>EC 1.1.1.1</td>\n",
       "      <td>alcohol dehydrogenase</td>\n",
       "      <td>Oxidoreductases</td>\n",
       "      <td>ADH1C</td>\n",
       "      <td>hsa:126</td>\n",
       "    </tr>\n",
       "    <tr>\n",
       "      <th>3</th>\n",
       "      <td>EC 1.1.1.1</td>\n",
       "      <td>alcohol dehydrogenase</td>\n",
       "      <td>Oxidoreductases</td>\n",
       "      <td>ADH4</td>\n",
       "      <td>hsa:127</td>\n",
       "    </tr>\n",
       "    <tr>\n",
       "      <th>4</th>\n",
       "      <td>EC 1.1.1.1</td>\n",
       "      <td>alcohol dehydrogenase</td>\n",
       "      <td>Oxidoreductases</td>\n",
       "      <td>ADH5</td>\n",
       "      <td>hsa:128</td>\n",
       "    </tr>\n",
       "    <tr>\n",
       "      <th>...</th>\n",
       "      <td>...</td>\n",
       "      <td>...</td>\n",
       "      <td>...</td>\n",
       "      <td>...</td>\n",
       "      <td>...</td>\n",
       "    </tr>\n",
       "    <tr>\n",
       "      <th>3742</th>\n",
       "      <td>EC 7.6.2.3</td>\n",
       "      <td>ABC-type glutathione-S-conjugate transporter</td>\n",
       "      <td>Translocases</td>\n",
       "      <td>ABCC1</td>\n",
       "      <td>hsa:4363</td>\n",
       "    </tr>\n",
       "    <tr>\n",
       "      <th>3743</th>\n",
       "      <td>EC 7.6.2.4</td>\n",
       "      <td>ABC-type fatty-acyl-CoA transporter</td>\n",
       "      <td>Translocases</td>\n",
       "      <td>ABCD1</td>\n",
       "      <td>hsa:215</td>\n",
       "    </tr>\n",
       "    <tr>\n",
       "      <th>3744</th>\n",
       "      <td>EC 7.6.2.4</td>\n",
       "      <td>ABC-type fatty-acyl-CoA transporter</td>\n",
       "      <td>Translocases</td>\n",
       "      <td>ABCD2</td>\n",
       "      <td>hsa:225</td>\n",
       "    </tr>\n",
       "    <tr>\n",
       "      <th>3745</th>\n",
       "      <td>EC 7.6.2.4</td>\n",
       "      <td>ABC-type fatty-acyl-CoA transporter</td>\n",
       "      <td>Translocases</td>\n",
       "      <td>ABCD3</td>\n",
       "      <td>hsa:5825</td>\n",
       "    </tr>\n",
       "    <tr>\n",
       "      <th>3746</th>\n",
       "      <td>EC 7.6.2.8</td>\n",
       "      <td>ABC-type vitamin B12 transporter</td>\n",
       "      <td>Translocases</td>\n",
       "      <td>ABCD4</td>\n",
       "      <td>hsa:5826</td>\n",
       "    </tr>\n",
       "  </tbody>\n",
       "</table>\n",
       "<p>3747 rows × 5 columns</p>\n",
       "</div>"
      ]
     },
     "execution_count": 4,
     "metadata": {},
     "output_type": "execute_result"
    }
   ],
   "execution_count": 4
  },
  {
   "cell_type": "markdown",
   "source": "## Match VMH & KEGG",
   "metadata": {
    "collapsed": false
   }
  },
  {
   "cell_type": "code",
   "source": [
    "vmh_genes = vmh_genes.drop(columns=['Unnamed: 0', 'genes_id', 'abbreviation'])"
   ],
   "metadata": {
    "collapsed": false,
    "ExecuteTime": {
     "end_time": "2024-06-30T15:42:27.679737Z",
     "start_time": "2024-06-30T15:42:27.674331Z"
    }
   },
   "outputs": [],
   "execution_count": 5
  },
  {
   "cell_type": "code",
   "source": [
    "kegg_vmh_merge = vmh_genes.merge(kegg_proteins, how='outer', on='symbol')\n",
    "print(f\"Number of unmatched VMH genes: {len(kegg_vmh_merge[kegg_vmh_merge.gene_number.isna()])}\")\n",
    "print(f\"Number of unmatched KEGG genes: {len(kegg_vmh_merge[kegg_vmh_merge.kegg_enzyme_id.isna()])}\")\n",
    "print(f\"Number of matched genes: {len(kegg_vmh_merge[(kegg_vmh_merge.kegg_enzyme_id.notna()) & (kegg_vmh_merge.gene_number.notna())])}\")"
   ],
   "metadata": {
    "collapsed": false,
    "ExecuteTime": {
     "end_time": "2024-06-30T15:43:00.124957Z",
     "start_time": "2024-06-30T15:43:00.093235Z"
    }
   },
   "outputs": [
    {
     "name": "stdout",
     "output_type": "stream",
     "text": [
      "Number of unmatched VMH genes: 1103\n",
      "Number of unmatched KEGG genes: 1018\n",
      "Number of matched genes: 2991\n"
     ]
    }
   ],
   "execution_count": 7
  },
  {
   "cell_type": "code",
   "source": "kegg_vmh_merge.to_csv(os.path.join(processed_data_folder, \"proteins_genes_kegg_vmh.csv\"), index=False)",
   "metadata": {
    "collapsed": false,
    "ExecuteTime": {
     "end_time": "2024-06-30T15:43:13.731545Z",
     "start_time": "2024-06-30T15:43:13.657701Z"
    }
   },
   "outputs": [],
   "execution_count": 8
  },
  {
   "cell_type": "code",
   "source": [
    "kegg_vmh_merge_genes = kegg_vmh_merge[['symbol', 'gene_number', 'chromosome', 'description', 'ensembl_gene', 'chebl_id', 'uniprot_gname', 'kegg_gene_id']]\n",
    "kegg_vmh_merge_genes.to_csv(os.path.join(processed_data_folder, \"genes_kegg_vmh.csv\"), index=False)"
   ],
   "metadata": {
    "collapsed": false,
    "ExecuteTime": {
     "end_time": "2024-06-30T15:44:44.992312Z",
     "start_time": "2024-06-30T15:44:44.890709Z"
    }
   },
   "outputs": [],
   "execution_count": 14
  },
  {
   "cell_type": "code",
   "source": [
    "kegg_vmh_merge_genes_to_enzymes = kegg_vmh_merge[['symbol', 'kegg_enzyme_id']]\n",
    "kegg_vmh_merge_genes_to_enzymes = kegg_vmh_merge_genes_to_enzymes[kegg_vmh_merge_genes_to_enzymes.kegg_enzyme_id.notna()]\n",
    "kegg_vmh_merge_genes_to_enzymes = kegg_vmh_merge_genes_to_enzymes.drop_duplicates()\n",
    "kegg_vmh_merge_genes_to_enzymes.to_csv(os.path.join(processed_data_folder, \"kegg_enzyme_gene_symbols.csv\"), index=False)"
   ],
   "metadata": {
    "collapsed": false,
    "ExecuteTime": {
     "end_time": "2024-06-30T15:44:45.612029Z",
     "start_time": "2024-06-30T15:44:45.601186Z"
    }
   },
   "outputs": [],
   "execution_count": 15
  },
  {
   "metadata": {
    "ExecuteTime": {
     "end_time": "2024-06-30T15:44:46.945768Z",
     "start_time": "2024-06-30T15:44:46.939083Z"
    }
   },
   "cell_type": "code",
   "source": "kegg_vmh_merge_genes_to_enzymes[kegg_vmh_merge_genes_to_enzymes.kegg_enzyme_id == 'EC 1.1.1.1']",
   "outputs": [
    {
     "data": {
      "text/plain": [
       "    symbol kegg_enzyme_id\n",
       "203  ADH1A     EC 1.1.1.1\n",
       "204  ADH1B     EC 1.1.1.1\n",
       "205  ADH1C     EC 1.1.1.1\n",
       "206   ADH4     EC 1.1.1.1\n",
       "207   ADH5     EC 1.1.1.1\n",
       "209   ADH6     EC 1.1.1.1\n",
       "210   ADH7     EC 1.1.1.1"
      ],
      "text/html": [
       "<div>\n",
       "<style scoped>\n",
       "    .dataframe tbody tr th:only-of-type {\n",
       "        vertical-align: middle;\n",
       "    }\n",
       "\n",
       "    .dataframe tbody tr th {\n",
       "        vertical-align: top;\n",
       "    }\n",
       "\n",
       "    .dataframe thead th {\n",
       "        text-align: right;\n",
       "    }\n",
       "</style>\n",
       "<table border=\"1\" class=\"dataframe\">\n",
       "  <thead>\n",
       "    <tr style=\"text-align: right;\">\n",
       "      <th></th>\n",
       "      <th>symbol</th>\n",
       "      <th>kegg_enzyme_id</th>\n",
       "    </tr>\n",
       "  </thead>\n",
       "  <tbody>\n",
       "    <tr>\n",
       "      <th>203</th>\n",
       "      <td>ADH1A</td>\n",
       "      <td>EC 1.1.1.1</td>\n",
       "    </tr>\n",
       "    <tr>\n",
       "      <th>204</th>\n",
       "      <td>ADH1B</td>\n",
       "      <td>EC 1.1.1.1</td>\n",
       "    </tr>\n",
       "    <tr>\n",
       "      <th>205</th>\n",
       "      <td>ADH1C</td>\n",
       "      <td>EC 1.1.1.1</td>\n",
       "    </tr>\n",
       "    <tr>\n",
       "      <th>206</th>\n",
       "      <td>ADH4</td>\n",
       "      <td>EC 1.1.1.1</td>\n",
       "    </tr>\n",
       "    <tr>\n",
       "      <th>207</th>\n",
       "      <td>ADH5</td>\n",
       "      <td>EC 1.1.1.1</td>\n",
       "    </tr>\n",
       "    <tr>\n",
       "      <th>209</th>\n",
       "      <td>ADH6</td>\n",
       "      <td>EC 1.1.1.1</td>\n",
       "    </tr>\n",
       "    <tr>\n",
       "      <th>210</th>\n",
       "      <td>ADH7</td>\n",
       "      <td>EC 1.1.1.1</td>\n",
       "    </tr>\n",
       "  </tbody>\n",
       "</table>\n",
       "</div>"
      ]
     },
     "execution_count": 16,
     "metadata": {},
     "output_type": "execute_result"
    }
   ],
   "execution_count": 16
  },
  {
   "metadata": {},
   "cell_type": "code",
   "outputs": [],
   "execution_count": null,
   "source": ""
  }
 ],
 "metadata": {
  "kernelspec": {
   "display_name": "Python 3",
   "language": "python",
   "name": "python3"
  },
  "language_info": {
   "codemirror_mode": {
    "name": "ipython",
    "version": 2
   },
   "file_extension": ".py",
   "mimetype": "text/x-python",
   "name": "python",
   "nbconvert_exporter": "python",
   "pygments_lexer": "ipython2",
   "version": "2.7.6"
  }
 },
 "nbformat": 4,
 "nbformat_minor": 0
}
