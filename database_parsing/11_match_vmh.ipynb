{
 "cells": [
  {
   "cell_type": "markdown",
   "source": [
    "*MeNu GUIDE*\n",
    "\n",
    "# Match VMH/Recon3"
   ],
   "metadata": {
    "collapsed": false
   }
  },
  {
   "cell_type": "code",
   "source": [
    "import pandas as pd\n",
    "import os"
   ],
   "metadata": {
    "collapsed": false,
    "ExecuteTime": {
     "end_time": "2024-06-23T14:05:15.327514Z",
     "start_time": "2024-06-23T14:05:15.299791Z"
    }
   },
   "outputs": [],
   "execution_count": 33
  },
  {
   "metadata": {},
   "cell_type": "code",
   "outputs": [],
   "execution_count": null,
   "source": [
    "vmh_folder = '/path/to/vmh/data/folder/'\n",
    "processed_data_folder = \"/path/to/processed/data/folder/\""
   ]
  },
  {
   "cell_type": "code",
   "source": "merged_data = pd.read_csv(os.path.join(processed_data_folder, \"foodb_hmdb_markerdb_chebi_exposomeexplorer_kegg.csv\"), dtype={'drugbank_id': 'string', 'knapsack_id': 'string', 'wikipedia_id': 'string', 'biocyc_id': 'string', 'vmh_id': 'string', 'pdb_id': 'string', 'description': 'string', 'cas_number': 'string', 'kingdom': 'string', 'superclass': 'string', 'class': 'string', 'subclass': 'string', 'chebi_id': 'string', 'kegg_id': 'string','lipid_maps': 'string', 'meta_cyc': 'string', 'synonym': 'string', 'foodb_id': 'string', 'markerdb_id': 'string', 'classification': 'string'})",
   "metadata": {
    "collapsed": false,
    "ExecuteTime": {
     "end_time": "2024-06-23T15:35:54.339980Z",
     "start_time": "2024-06-23T15:35:47.540074Z"
    }
   },
   "outputs": [],
   "execution_count": 138
  },
  {
   "cell_type": "markdown",
   "source": "## Clean up VMH ID duplicates",
   "metadata": {
    "collapsed": false
   }
  },
  {
   "metadata": {
    "ExecuteTime": {
     "end_time": "2024-06-23T15:35:54.370066Z",
     "start_time": "2024-06-23T15:35:54.341932Z"
    }
   },
   "cell_type": "code",
   "source": "merged_data[(merged_data.vmh_id.duplicated()) & (merged_data.vmh_id.notna())][['hmdb_id', 'foodb_id', 'chebi_id', 'kegg_id', 'vmh_id', 'name']]",
   "outputs": [
    {
     "data": {
      "text/plain": [
       "            hmdb_id   foodb_id chebi_id kegg_id  vmh_id  \\\n",
       "10      HMDB0000217       <NA>    25523  C00006    NADP   \n",
       "794     HMDB0242149  FDB001134    17151  C00379    XYLT   \n",
       "1857    HMDB0302754       <NA>    37024  C00956  L2AADP   \n",
       "94341   HMDB0012515  FDB029108   172659    <NA>  CE5855   \n",
       "353289  HMDB0254327       <NA>     <NA>    <NA>  M03165   \n",
       "\n",
       "                               name  \n",
       "10                             nadp  \n",
       "794                         xylitol  \n",
       "1857             2-aminoadipic acid  \n",
       "94341   11'-carboxy-alpha-chromanol  \n",
       "353289               mannoheptulose  "
      ],
      "text/html": [
       "<div>\n",
       "<style scoped>\n",
       "    .dataframe tbody tr th:only-of-type {\n",
       "        vertical-align: middle;\n",
       "    }\n",
       "\n",
       "    .dataframe tbody tr th {\n",
       "        vertical-align: top;\n",
       "    }\n",
       "\n",
       "    .dataframe thead th {\n",
       "        text-align: right;\n",
       "    }\n",
       "</style>\n",
       "<table border=\"1\" class=\"dataframe\">\n",
       "  <thead>\n",
       "    <tr style=\"text-align: right;\">\n",
       "      <th></th>\n",
       "      <th>hmdb_id</th>\n",
       "      <th>foodb_id</th>\n",
       "      <th>chebi_id</th>\n",
       "      <th>kegg_id</th>\n",
       "      <th>vmh_id</th>\n",
       "      <th>name</th>\n",
       "    </tr>\n",
       "  </thead>\n",
       "  <tbody>\n",
       "    <tr>\n",
       "      <th>10</th>\n",
       "      <td>HMDB0000217</td>\n",
       "      <td>&lt;NA&gt;</td>\n",
       "      <td>25523</td>\n",
       "      <td>C00006</td>\n",
       "      <td>NADP</td>\n",
       "      <td>nadp</td>\n",
       "    </tr>\n",
       "    <tr>\n",
       "      <th>794</th>\n",
       "      <td>HMDB0242149</td>\n",
       "      <td>FDB001134</td>\n",
       "      <td>17151</td>\n",
       "      <td>C00379</td>\n",
       "      <td>XYLT</td>\n",
       "      <td>xylitol</td>\n",
       "    </tr>\n",
       "    <tr>\n",
       "      <th>1857</th>\n",
       "      <td>HMDB0302754</td>\n",
       "      <td>&lt;NA&gt;</td>\n",
       "      <td>37024</td>\n",
       "      <td>C00956</td>\n",
       "      <td>L2AADP</td>\n",
       "      <td>2-aminoadipic acid</td>\n",
       "    </tr>\n",
       "    <tr>\n",
       "      <th>94341</th>\n",
       "      <td>HMDB0012515</td>\n",
       "      <td>FDB029108</td>\n",
       "      <td>172659</td>\n",
       "      <td>&lt;NA&gt;</td>\n",
       "      <td>CE5855</td>\n",
       "      <td>11'-carboxy-alpha-chromanol</td>\n",
       "    </tr>\n",
       "    <tr>\n",
       "      <th>353289</th>\n",
       "      <td>HMDB0254327</td>\n",
       "      <td>&lt;NA&gt;</td>\n",
       "      <td>&lt;NA&gt;</td>\n",
       "      <td>&lt;NA&gt;</td>\n",
       "      <td>M03165</td>\n",
       "      <td>mannoheptulose</td>\n",
       "    </tr>\n",
       "  </tbody>\n",
       "</table>\n",
       "</div>"
      ]
     },
     "execution_count": 139,
     "metadata": {},
     "output_type": "execute_result"
    }
   ],
   "execution_count": 139
  },
  {
   "metadata": {
    "ExecuteTime": {
     "end_time": "2024-06-23T15:35:54.440888Z",
     "start_time": "2024-06-23T15:35:54.370964Z"
    }
   },
   "cell_type": "code",
   "source": [
    "merged_data.loc[10, 'vmh_id'] = float('NaN') # HMDB0000217 \n",
    "merged_data.loc[794, 'vmh_id'] = float('NaN') # HMDB0242149\n",
    "merged_data.loc[1857, 'vmh_id'] = float('NaN') # HMDB0302754\n",
    "merged_data.loc[94341, 'vmh_id'] = float('NaN') # HMDB0012515\n",
    "merged_data.loc[353289, 'vmh_id'] = float('NaN') # HMDB0254327"
   ],
   "outputs": [],
   "execution_count": 140
  },
  {
   "cell_type": "markdown",
   "source": [
    "## Match with VMH metabolites"
   ],
   "metadata": {
    "collapsed": false
   }
  },
  {
   "cell_type": "code",
   "source": "vmh_metabolites = pd.read_csv(os.path.join(vmh_folder, \"vmh_metabolites_all.csv\"), dtype={'cheBlId': 'string'})",
   "metadata": {
    "collapsed": false,
    "ExecuteTime": {
     "end_time": "2024-06-23T15:35:54.526460Z",
     "start_time": "2024-06-23T15:35:54.443191Z"
    }
   },
   "outputs": [],
   "execution_count": 141
  },
  {
   "cell_type": "markdown",
   "source": [
    "I have the following identifiers to merge with:\n",
    "* iupac\n",
    "* keggId\n",
    "* pubChemId\n",
    "* cheBlId\n",
    "* inchiString\n",
    "* inchiKey\n",
    "* hmdb\n",
    "* food_db\n",
    "\n",
    "$\\rightarrow$ start with hmdb, then foodb, then chebi"
   ],
   "metadata": {
    "collapsed": false
   }
  },
  {
   "cell_type": "markdown",
   "source": [
    "### Clean up VMH dataframe"
   ],
   "metadata": {
    "collapsed": false
   }
  },
  {
   "cell_type": "code",
   "source": "vmh_metabolites['formula'] = vmh_metabolites.apply(lambda row: row.chargedFormula if pd.notna(row.chargedFormula) else row.neutralFormula, axis=1)",
   "metadata": {
    "collapsed": false,
    "ExecuteTime": {
     "end_time": "2024-06-23T15:35:54.563464Z",
     "start_time": "2024-06-23T15:35:54.527330Z"
    }
   },
   "outputs": [],
   "execution_count": 142
  },
  {
   "cell_type": "code",
   "source": "vmh_metabolites = vmh_metabolites.drop(columns=['Unnamed: 0', 'index', 'createdDate', 'updatedDate', 'lmId', 'ehmnId', 'hepatonetId', 'metanetx', 'seed', 'pdmapName', 'reconMap', 'golgimap', 'lysosomemap', 'mitochondrionmap', 'nucleusmap', 'reticulummap', 'peroxisomemap', 'epa_id', 'echa_id', 'iuphar_id', 'fda_id', 'mesh_id', 'chodb_id', 'isHuman', 'isMicrobe', 'charge', 'chargedFormula', 'neutralFormula', 'synonyms', 'met_id', 'miriam', 'avgmolweight', 'biggId', 'chembl'])",
   "metadata": {
    "collapsed": false,
    "ExecuteTime": {
     "end_time": "2024-06-23T15:35:54.569641Z",
     "start_time": "2024-06-23T15:35:54.564052Z"
    }
   },
   "outputs": [],
   "execution_count": 143
  },
  {
   "metadata": {
    "ExecuteTime": {
     "end_time": "2024-06-23T15:35:54.572724Z",
     "start_time": "2024-06-23T15:35:54.570442Z"
    }
   },
   "cell_type": "code",
   "source": "merged_data.columns",
   "outputs": [
    {
     "data": {
      "text/plain": [
       "Index(['hmdb_id', 'name', 'chemical_formula', 'chemspider_id', 'drugbank_id',\n",
       "       'pubchem_compound_id', 'knapsack_id', 'wikipedia_id', 'metlin_id',\n",
       "       'biocyc_id', 'bigg_id', 'vmh_id', 'phenol_explorer_compound_id',\n",
       "       'pdb_id', 'foodb_id_internal', 'kingdom', 'superclass', 'class',\n",
       "       'subclass', 'lipid_maps', 'meta_cyc', 'synonym', 'foodb_id',\n",
       "       'description', 'mono_mass', 'iupac', 'inchi', 'inchikey', 'cas_number',\n",
       "       'smiles', 'chebi_id', 'kegg_id', 'markerdb_id', 'stars_chebi',\n",
       "       'exposome_explorer_id', 'classification'],\n",
       "      dtype='object')"
      ]
     },
     "execution_count": 144,
     "metadata": {},
     "output_type": "execute_result"
    }
   ],
   "execution_count": 144
  },
  {
   "cell_type": "code",
   "source": [
    "vmh_metabolites = vmh_metabolites.rename(columns={'abbreviation': 'vmh_id', 'fullName': 'name', 'monoisotopicweight': 'mono_mass', 'keggId': 'kegg_id', 'pubChemId': 'pubchem_compound_id', 'cheBlId': 'chebi_id', 'inchiString': 'inchi', 'inchiKey': 'inchikey', 'hmdb': 'hmdb_id', 'reconMap3': 'recon3', 'food_db': 'foodb_id', 'chemspider': 'chemspider_id', 'biocyc': 'biocyc_id', 'wikipedia': 'wikipedia_id', 'drugbank': 'drugbank_id', 'knapsack': 'knapsack_id', 'phenolExplorer': 'phenol_explorer_compound_id', 'metlin': 'metlin_id', 'casRegistry': 'cas_number', 'formula': 'chemical_formula', 'smile': 'smiles'})\n",
    "vmh_metabolites['name'] = vmh_metabolites['name'].str.lower()"
   ],
   "metadata": {
    "collapsed": false,
    "ExecuteTime": {
     "end_time": "2024-06-23T15:35:54.579626Z",
     "start_time": "2024-06-23T15:35:54.573298Z"
    }
   },
   "outputs": [],
   "execution_count": 145
  },
  {
   "cell_type": "code",
   "source": [
    "vmh_metabolites_hmdb = vmh_metabolites[vmh_metabolites.hmdb_id.notna()][['vmh_id', 'hmdb_id']]\n",
    "vmh_metabolites_foodb = vmh_metabolites[vmh_metabolites.foodb_id.notna()][['vmh_id', 'foodb_id']]\n",
    "vmh_metabolites_chebi = vmh_metabolites[vmh_metabolites.chebi_id.notna()][['vmh_id', 'chebi_id']]\n",
    "vmh_metabolites_name = vmh_metabolites[vmh_metabolites.name.notna()][['vmh_id', 'name']]"
   ],
   "metadata": {
    "collapsed": false,
    "ExecuteTime": {
     "end_time": "2024-06-23T15:35:54.587004Z",
     "start_time": "2024-06-23T15:35:54.580336Z"
    }
   },
   "outputs": [],
   "execution_count": 146
  },
  {
   "cell_type": "code",
   "source": [
    "vmh_abbreviations_hmdb = dict(zip(vmh_metabolites_hmdb.hmdb_id, vmh_metabolites_hmdb.vmh_id))\n",
    "vmh_abbreviations_foodb = dict(zip(vmh_metabolites_foodb.foodb_id, vmh_metabolites_foodb.vmh_id))\n",
    "vmh_abbreviations_chebi = dict(zip(vmh_metabolites_chebi.chebi_id, vmh_metabolites_chebi.vmh_id))\n",
    "vmh_abbreviations_name = dict(zip(vmh_metabolites_name.name, vmh_metabolites_name.vmh_id))"
   ],
   "metadata": {
    "collapsed": false,
    "ExecuteTime": {
     "end_time": "2024-06-23T15:35:54.592362Z",
     "start_time": "2024-06-23T15:35:54.588606Z"
    }
   },
   "outputs": [],
   "execution_count": 147
  },
  {
   "cell_type": "markdown",
   "source": [
    "### Match as many VMH metabolites as possible"
   ],
   "metadata": {
    "collapsed": false
   }
  },
  {
   "metadata": {
    "ExecuteTime": {
     "end_time": "2024-06-23T15:35:54.618253Z",
     "start_time": "2024-06-23T15:35:54.593089Z"
    }
   },
   "cell_type": "code",
   "source": [
    "merged_data['vmh_id'] = merged_data.vmh_id.str.lower()\n",
    "vmh_metabolites['vmh_id'] = vmh_metabolites.vmh_id.str.lower()"
   ],
   "outputs": [],
   "execution_count": 148
  },
  {
   "cell_type": "code",
   "source": [
    "def match_vmh(row):\n",
    "    hmdb_match = vmh_abbreviations_hmdb[row.hmdb_id] if (pd.notna(row.hmdb_id) and (row.hmdb_id in vmh_abbreviations_hmdb.keys())) else None\n",
    "    foodb_match = vmh_abbreviations_foodb[row.foodb_id] if (pd.notna(row.foodb_id) and (row.foodb_id in vmh_abbreviations_foodb.keys())) else None\n",
    "    chebi_match = vmh_abbreviations_chebi[row.chebi_id] if (pd.notna(row.chebi_id) and (row.chebi_id in vmh_abbreviations_chebi.keys())) else None\n",
    "    name_match = vmh_abbreviations_name[row.name] if (pd.notna(row.name) and (row.name in vmh_abbreviations_name.keys())) else None\n",
    "\n",
    "    if pd.notna(row.vmh_id):\n",
    "        return row.vmh_id.lower()\n",
    "    elif pd.notna(name_match):\n",
    "        return name_match.lower()\n",
    "    elif pd.notna(hmdb_match):\n",
    "        return hmdb_match.lower()\n",
    "    elif pd.notna(foodb_match):\n",
    "        return foodb_match.lower()\n",
    "    elif pd.notna(chebi_match):\n",
    "        return chebi_match.lower()\n",
    "    else:\n",
    "        return None"
   ],
   "metadata": {
    "collapsed": false,
    "ExecuteTime": {
     "end_time": "2024-06-23T15:35:54.622196Z",
     "start_time": "2024-06-23T15:35:54.619043Z"
    }
   },
   "outputs": [],
   "execution_count": 149
  },
  {
   "cell_type": "code",
   "source": [
    "print(merged_data.vmh_id.nunique())\n",
    "print(merged_data.vmh_id.count())"
   ],
   "metadata": {
    "collapsed": false,
    "ExecuteTime": {
     "end_time": "2024-06-23T15:35:54.655026Z",
     "start_time": "2024-06-23T15:35:54.622688Z"
    }
   },
   "outputs": [
    {
     "name": "stdout",
     "output_type": "stream",
     "text": [
      "1529\n",
      "1529\n"
     ]
    }
   ],
   "execution_count": 150
  },
  {
   "cell_type": "code",
   "source": "merged_data['vmh_id'] = merged_data.apply(match_vmh, axis=1)",
   "metadata": {
    "collapsed": false,
    "ExecuteTime": {
     "end_time": "2024-06-23T15:36:00.460438Z",
     "start_time": "2024-06-23T15:35:54.655721Z"
    }
   },
   "outputs": [],
   "execution_count": 151
  },
  {
   "cell_type": "code",
   "source": [
    "print(merged_data.vmh_id.nunique())\n",
    "print(merged_data.vmh_id.count())"
   ],
   "metadata": {
    "collapsed": false,
    "ExecuteTime": {
     "end_time": "2024-06-23T15:36:00.472101Z",
     "start_time": "2024-06-23T15:36:00.461753Z"
    }
   },
   "outputs": [
    {
     "name": "stdout",
     "output_type": "stream",
     "text": [
      "1859\n",
      "2315\n"
     ]
    }
   ],
   "execution_count": 152
  },
  {
   "cell_type": "markdown",
   "source": [
    "### Merge dataframes"
   ],
   "metadata": {
    "collapsed": false
   }
  },
  {
   "cell_type": "code",
   "source": "merge_temp = merged_data.merge(vmh_metabolites, how='outer', on='vmh_id', suffixes=['', '_vmh'])",
   "metadata": {
    "collapsed": false,
    "ExecuteTime": {
     "end_time": "2024-06-23T15:41:05.308052Z",
     "start_time": "2024-06-23T15:41:03.905597Z"
    }
   },
   "outputs": [],
   "execution_count": 158
  },
  {
   "metadata": {
    "ExecuteTime": {
     "end_time": "2024-06-23T15:41:05.619525Z",
     "start_time": "2024-06-23T15:41:05.316479Z"
    }
   },
   "cell_type": "code",
   "source": "merge_temp = merge_temp.drop(columns=['hmdb_id_vmh', 'chebi_id_vmh', 'foodb_id_vmh'])",
   "outputs": [],
   "execution_count": 159
  },
  {
   "metadata": {
    "ExecuteTime": {
     "end_time": "2024-06-23T15:41:05.622982Z",
     "start_time": "2024-06-23T15:41:05.620219Z"
    }
   },
   "cell_type": "code",
   "source": "merge_temp.columns",
   "outputs": [
    {
     "data": {
      "text/plain": [
       "Index(['hmdb_id', 'name', 'chemical_formula', 'chemspider_id', 'drugbank_id',\n",
       "       'pubchem_compound_id', 'knapsack_id', 'wikipedia_id', 'metlin_id',\n",
       "       'biocyc_id', 'bigg_id', 'vmh_id', 'phenol_explorer_compound_id',\n",
       "       'pdb_id', 'foodb_id_internal', 'kingdom', 'superclass', 'class',\n",
       "       'subclass', 'lipid_maps', 'meta_cyc', 'synonym', 'foodb_id',\n",
       "       'description', 'mono_mass', 'iupac', 'inchi', 'inchikey', 'cas_number',\n",
       "       'smiles', 'chebi_id', 'kegg_id', 'markerdb_id', 'stars_chebi',\n",
       "       'exposome_explorer_id', 'classification', 'name_vmh', 'description_vmh',\n",
       "       'iupac_vmh', 'mono_mass_vmh', 'kegg_id_vmh', 'pubchem_compound_id_vmh',\n",
       "       'inchi_vmh', 'inchikey_vmh', 'smiles_vmh', 'recon3',\n",
       "       'chemspider_id_vmh', 'biocyc_id_vmh', 'wikipedia_id_vmh',\n",
       "       'drugbank_id_vmh', 'knapsack_id_vmh', 'phenol_explorer_compound_id_vmh',\n",
       "       'metlin_id_vmh', 'cas_number_vmh', 'chemical_formula_vmh'],\n",
       "      dtype='object')"
      ]
     },
     "execution_count": 160,
     "metadata": {},
     "output_type": "execute_result"
    }
   ],
   "execution_count": 160
  },
  {
   "metadata": {
    "ExecuteTime": {
     "end_time": "2024-06-23T15:41:37.332085Z",
     "start_time": "2024-06-23T15:41:05.624056Z"
    }
   },
   "cell_type": "code",
   "source": [
    "columns_to_clean = ['name', 'description', 'iupac', 'kegg_id', 'drugbank_id', 'cas_number', 'pubchem_compound_id', 'chemspider_id', 'biocyc_id', 'wikipedia_id', 'knapsack_id', 'phenol_explorer_compound_id', 'metlin_id', 'chemical_formula', 'mono_mass', 'inchi', 'inchikey', 'smiles']\n",
    "\n",
    "for column in columns_to_clean:\n",
    "    column_vmh = column + '_vmh'\n",
    "\n",
    "    merge_temp[column] = merge_temp.apply(lambda row: row[column] if pd.notna(row[column]) else row[column_vmh], axis=1)\n",
    "    merge_temp = merge_temp.drop(columns=[column_vmh])"
   ],
   "outputs": [],
   "execution_count": 161
  },
  {
   "metadata": {
    "ExecuteTime": {
     "end_time": "2024-06-23T15:41:37.337917Z",
     "start_time": "2024-06-23T15:41:37.334253Z"
    }
   },
   "cell_type": "code",
   "source": "merge_temp.columns",
   "outputs": [
    {
     "data": {
      "text/plain": [
       "Index(['hmdb_id', 'name', 'chemical_formula', 'chemspider_id', 'drugbank_id',\n",
       "       'pubchem_compound_id', 'knapsack_id', 'wikipedia_id', 'metlin_id',\n",
       "       'biocyc_id', 'bigg_id', 'vmh_id', 'phenol_explorer_compound_id',\n",
       "       'pdb_id', 'foodb_id_internal', 'kingdom', 'superclass', 'class',\n",
       "       'subclass', 'lipid_maps', 'meta_cyc', 'synonym', 'foodb_id',\n",
       "       'description', 'mono_mass', 'iupac', 'inchi', 'inchikey', 'cas_number',\n",
       "       'smiles', 'chebi_id', 'kegg_id', 'markerdb_id', 'stars_chebi',\n",
       "       'exposome_explorer_id', 'classification', 'recon3'],\n",
       "      dtype='object')"
      ]
     },
     "execution_count": 162,
     "metadata": {},
     "output_type": "execute_result"
    }
   ],
   "execution_count": 162
  },
  {
   "cell_type": "code",
   "source": "merge_temp.to_csv(os.path.join(processed_data_folder, \"metabolites_all_databases_merged.csv\"), index=False)",
   "metadata": {
    "collapsed": false,
    "ExecuteTime": {
     "end_time": "2024-06-23T15:42:10.878404Z",
     "start_time": "2024-06-23T15:42:03.247599Z"
    }
   },
   "outputs": [],
   "execution_count": 163
  },
  {
   "cell_type": "code",
   "execution_count": null,
   "source": [],
   "metadata": {
    "collapsed": false
   },
   "outputs": []
  }
 ],
 "metadata": {
  "kernelspec": {
   "display_name": "Python 3",
   "language": "python",
   "name": "python3"
  },
  "language_info": {
   "codemirror_mode": {
    "name": "ipython",
    "version": 2
   },
   "file_extension": ".py",
   "mimetype": "text/x-python",
   "name": "python",
   "nbconvert_exporter": "python",
   "pygments_lexer": "ipython2",
   "version": "2.7.6"
  }
 },
 "nbformat": 4,
 "nbformat_minor": 0
}
