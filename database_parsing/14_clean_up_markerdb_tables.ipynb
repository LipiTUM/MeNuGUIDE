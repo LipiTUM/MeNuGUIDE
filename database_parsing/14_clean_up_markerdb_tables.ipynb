{
 "cells": [
  {
   "cell_type": "markdown",
   "source": [
    "*MeNu GUIDE*\n",
    "\n",
    "# Clean up MarkerDB tables"
   ],
   "metadata": {
    "collapsed": false
   }
  },
  {
   "cell_type": "code",
   "source": [
    "import pandas as pd\n",
    "import os"
   ],
   "metadata": {
    "collapsed": false,
    "ExecuteTime": {
     "end_time": "2024-06-30T13:07:30.909603Z",
     "start_time": "2024-06-30T13:07:29.890145Z"
    }
   },
   "outputs": [],
   "execution_count": 1
  },
  {
   "metadata": {},
   "cell_type": "code",
   "outputs": [],
   "execution_count": null,
   "source": [
    "markerdb_folder = \"/path/to/markerdb/data/folder/\"\n",
    "processed_data_folder = \"/path/to/processed/data/folder/\""
   ]
  },
  {
   "cell_type": "markdown",
   "source": "## Chemicals",
   "metadata": {
    "collapsed": false
   }
  },
  {
   "cell_type": "code",
   "source": "all_chemicals = pd.read_csv(os.path.join(markerdb_folder, \"all_chemicals.tsv\"), header=None, sep='\\t')",
   "metadata": {
    "collapsed": false,
    "ExecuteTime": {
     "end_time": "2024-06-30T13:08:29.135474Z",
     "start_time": "2024-06-30T13:08:29.040661Z"
    }
   },
   "outputs": [],
   "execution_count": 5
  },
  {
   "cell_type": "code",
   "source": [
    "all_chemicals = all_chemicals.rename(columns={0: 'markerdb_id', 1: 'name_markerdb', 2: 'condition_id', 3: 'condition', 4: 'cohort', 5: 'sex', 6: 'sample_type', 7: 'concentration', 8: 'unit', 9: 'notes', 10: 'reference_id', 11: 'reference_name', 12: 'pubmed_id'})"
   ],
   "metadata": {
    "collapsed": false,
    "ExecuteTime": {
     "end_time": "2024-06-30T13:08:29.835327Z",
     "start_time": "2024-06-30T13:08:29.828078Z"
    }
   },
   "outputs": [],
   "execution_count": 6
  },
  {
   "cell_type": "code",
   "source": [
    "all_chemicals"
   ],
   "metadata": {
    "collapsed": false,
    "ExecuteTime": {
     "end_time": "2024-06-30T13:08:30.527969Z",
     "start_time": "2024-06-30T13:08:30.514356Z"
    }
   },
   "outputs": [
    {
     "data": {
      "text/plain": [
       "      markerdb_id      name_markerdb  condition_id            condition  \\\n",
       "0               1  1-Methylhistidine           251              Obesity   \n",
       "1               1  1-Methylhistidine             1               Normal   \n",
       "2               1  1-Methylhistidine            33  Alzheimer's Disease   \n",
       "3               1  1-Methylhistidine            34            Pregnancy   \n",
       "4               1  1-Methylhistidine             1               Normal   \n",
       "...           ...                ...           ...                  ...   \n",
       "3766         5017          Triclosan             1               Normal   \n",
       "3767         5017          Triclosan          6689   Triclosan Exposure   \n",
       "3768         5017          Triclosan             1               Normal   \n",
       "3769         5017          Triclosan          6689   Triclosan Exposure   \n",
       "3770         5017          Triclosan             1               Normal   \n",
       "\n",
       "                   cohort     sex sample_type  \\\n",
       "0     Adult: >=18 yrs old    Both       Urine   \n",
       "1     Adult: >=18 yrs old    Both       Urine   \n",
       "2     Adult: >=18 yrs old    Both       Urine   \n",
       "3     Adult: >=18 yrs old  Female       Blood   \n",
       "4     Adult: >=18 yrs old    Both       Blood   \n",
       "...                   ...     ...         ...   \n",
       "3766                  All    Both       Urine   \n",
       "3767                  All    Both       Urine   \n",
       "3768                  All    Both       Urine   \n",
       "3769                  All    Both       Urine   \n",
       "3770                  All    Both       Urine   \n",
       "\n",
       "                                    concentration                  unit  \\\n",
       "0           10.9 (0.80-21.0) umol/mmol creatinine  umol/mmol creatinine   \n",
       "1          85.8 (17.7-153.8) umol/mmol creatinine  umol/mmol creatinine   \n",
       "2           15.7 (11.7-19.7) umol/mmol creatinine  umol/mmol creatinine   \n",
       "3                                         50.0 uM                    uM   \n",
       "4                                         12.7 uM                    uM   \n",
       "...                                           ...                   ...   \n",
       "3766  0.0059 (0.0052-0.0068) umol/mmol creatinine  umol/mmol creatinine   \n",
       "3767        0.25 (0.20-0.31) umol/mmol creatinine  umol/mmol creatinine   \n",
       "3768  0.0052 (0.0046-0.0059) umol/mmol creatinine  umol/mmol creatinine   \n",
       "3769        0.14 (0.11-0.17) umol/mmol creatinine  umol/mmol creatinine   \n",
       "3770  0.0038 (0.0035-0.0042) umol/mmol creatinine  umol/mmol creatinine   \n",
       "\n",
       "                               notes  reference_id  \\\n",
       "0                                NaN           654   \n",
       "1                                NaN        367200   \n",
       "2                                NaN           129   \n",
       "3                                NaN        367357   \n",
       "4                                NaN        116748   \n",
       "...                              ...           ...   \n",
       "3766                             NaN        367558   \n",
       "3767  Total population (2011 - 2012)        367558   \n",
       "3768                             NaN        367558   \n",
       "3769  Total population (2013 - 2014)        367558   \n",
       "3770                             NaN        367558   \n",
       "\n",
       "                                         reference_name   pubmed_id  \n",
       "0     Tuma, P., Samcova, E. & Balinova, P. Determina...  15899597.0  \n",
       "1     David F. Putnam Composition and Concentrative ...         NaN  \n",
       "2     Fonteh, A. N., Harrington, R. J., Tsai, A., Li...  17031479.0  \n",
       "3                                                   NaN  22494326.0  \n",
       "4     Dohm, G. L., Williams, R. T., Kasperek, G. J. ...   7061274.0  \n",
       "...                                                 ...         ...  \n",
       "3766  National Health and Nutrition Examination Surv...         NaN  \n",
       "3767  National Health and Nutrition Examination Surv...         NaN  \n",
       "3768  National Health and Nutrition Examination Surv...         NaN  \n",
       "3769  National Health and Nutrition Examination Surv...         NaN  \n",
       "3770  National Health and Nutrition Examination Surv...         NaN  \n",
       "\n",
       "[3771 rows x 13 columns]"
      ],
      "text/html": [
       "<div>\n",
       "<style scoped>\n",
       "    .dataframe tbody tr th:only-of-type {\n",
       "        vertical-align: middle;\n",
       "    }\n",
       "\n",
       "    .dataframe tbody tr th {\n",
       "        vertical-align: top;\n",
       "    }\n",
       "\n",
       "    .dataframe thead th {\n",
       "        text-align: right;\n",
       "    }\n",
       "</style>\n",
       "<table border=\"1\" class=\"dataframe\">\n",
       "  <thead>\n",
       "    <tr style=\"text-align: right;\">\n",
       "      <th></th>\n",
       "      <th>markerdb_id</th>\n",
       "      <th>name_markerdb</th>\n",
       "      <th>condition_id</th>\n",
       "      <th>condition</th>\n",
       "      <th>cohort</th>\n",
       "      <th>sex</th>\n",
       "      <th>sample_type</th>\n",
       "      <th>concentration</th>\n",
       "      <th>unit</th>\n",
       "      <th>notes</th>\n",
       "      <th>reference_id</th>\n",
       "      <th>reference_name</th>\n",
       "      <th>pubmed_id</th>\n",
       "    </tr>\n",
       "  </thead>\n",
       "  <tbody>\n",
       "    <tr>\n",
       "      <th>0</th>\n",
       "      <td>1</td>\n",
       "      <td>1-Methylhistidine</td>\n",
       "      <td>251</td>\n",
       "      <td>Obesity</td>\n",
       "      <td>Adult: &gt;=18 yrs old</td>\n",
       "      <td>Both</td>\n",
       "      <td>Urine</td>\n",
       "      <td>10.9 (0.80-21.0) umol/mmol creatinine</td>\n",
       "      <td>umol/mmol creatinine</td>\n",
       "      <td>NaN</td>\n",
       "      <td>654</td>\n",
       "      <td>Tuma, P., Samcova, E. &amp; Balinova, P. Determina...</td>\n",
       "      <td>15899597.0</td>\n",
       "    </tr>\n",
       "    <tr>\n",
       "      <th>1</th>\n",
       "      <td>1</td>\n",
       "      <td>1-Methylhistidine</td>\n",
       "      <td>1</td>\n",
       "      <td>Normal</td>\n",
       "      <td>Adult: &gt;=18 yrs old</td>\n",
       "      <td>Both</td>\n",
       "      <td>Urine</td>\n",
       "      <td>85.8 (17.7-153.8) umol/mmol creatinine</td>\n",
       "      <td>umol/mmol creatinine</td>\n",
       "      <td>NaN</td>\n",
       "      <td>367200</td>\n",
       "      <td>David F. Putnam Composition and Concentrative ...</td>\n",
       "      <td>NaN</td>\n",
       "    </tr>\n",
       "    <tr>\n",
       "      <th>2</th>\n",
       "      <td>1</td>\n",
       "      <td>1-Methylhistidine</td>\n",
       "      <td>33</td>\n",
       "      <td>Alzheimer's Disease</td>\n",
       "      <td>Adult: &gt;=18 yrs old</td>\n",
       "      <td>Both</td>\n",
       "      <td>Urine</td>\n",
       "      <td>15.7 (11.7-19.7) umol/mmol creatinine</td>\n",
       "      <td>umol/mmol creatinine</td>\n",
       "      <td>NaN</td>\n",
       "      <td>129</td>\n",
       "      <td>Fonteh, A. N., Harrington, R. J., Tsai, A., Li...</td>\n",
       "      <td>17031479.0</td>\n",
       "    </tr>\n",
       "    <tr>\n",
       "      <th>3</th>\n",
       "      <td>1</td>\n",
       "      <td>1-Methylhistidine</td>\n",
       "      <td>34</td>\n",
       "      <td>Pregnancy</td>\n",
       "      <td>Adult: &gt;=18 yrs old</td>\n",
       "      <td>Female</td>\n",
       "      <td>Blood</td>\n",
       "      <td>50.0 uM</td>\n",
       "      <td>uM</td>\n",
       "      <td>NaN</td>\n",
       "      <td>367357</td>\n",
       "      <td>NaN</td>\n",
       "      <td>22494326.0</td>\n",
       "    </tr>\n",
       "    <tr>\n",
       "      <th>4</th>\n",
       "      <td>1</td>\n",
       "      <td>1-Methylhistidine</td>\n",
       "      <td>1</td>\n",
       "      <td>Normal</td>\n",
       "      <td>Adult: &gt;=18 yrs old</td>\n",
       "      <td>Both</td>\n",
       "      <td>Blood</td>\n",
       "      <td>12.7 uM</td>\n",
       "      <td>uM</td>\n",
       "      <td>NaN</td>\n",
       "      <td>116748</td>\n",
       "      <td>Dohm, G. L., Williams, R. T., Kasperek, G. J. ...</td>\n",
       "      <td>7061274.0</td>\n",
       "    </tr>\n",
       "    <tr>\n",
       "      <th>...</th>\n",
       "      <td>...</td>\n",
       "      <td>...</td>\n",
       "      <td>...</td>\n",
       "      <td>...</td>\n",
       "      <td>...</td>\n",
       "      <td>...</td>\n",
       "      <td>...</td>\n",
       "      <td>...</td>\n",
       "      <td>...</td>\n",
       "      <td>...</td>\n",
       "      <td>...</td>\n",
       "      <td>...</td>\n",
       "      <td>...</td>\n",
       "    </tr>\n",
       "    <tr>\n",
       "      <th>3766</th>\n",
       "      <td>5017</td>\n",
       "      <td>Triclosan</td>\n",
       "      <td>1</td>\n",
       "      <td>Normal</td>\n",
       "      <td>All</td>\n",
       "      <td>Both</td>\n",
       "      <td>Urine</td>\n",
       "      <td>0.0059 (0.0052-0.0068) umol/mmol creatinine</td>\n",
       "      <td>umol/mmol creatinine</td>\n",
       "      <td>NaN</td>\n",
       "      <td>367558</td>\n",
       "      <td>National Health and Nutrition Examination Surv...</td>\n",
       "      <td>NaN</td>\n",
       "    </tr>\n",
       "    <tr>\n",
       "      <th>3767</th>\n",
       "      <td>5017</td>\n",
       "      <td>Triclosan</td>\n",
       "      <td>6689</td>\n",
       "      <td>Triclosan Exposure</td>\n",
       "      <td>All</td>\n",
       "      <td>Both</td>\n",
       "      <td>Urine</td>\n",
       "      <td>0.25 (0.20-0.31) umol/mmol creatinine</td>\n",
       "      <td>umol/mmol creatinine</td>\n",
       "      <td>Total population (2011 - 2012)</td>\n",
       "      <td>367558</td>\n",
       "      <td>National Health and Nutrition Examination Surv...</td>\n",
       "      <td>NaN</td>\n",
       "    </tr>\n",
       "    <tr>\n",
       "      <th>3768</th>\n",
       "      <td>5017</td>\n",
       "      <td>Triclosan</td>\n",
       "      <td>1</td>\n",
       "      <td>Normal</td>\n",
       "      <td>All</td>\n",
       "      <td>Both</td>\n",
       "      <td>Urine</td>\n",
       "      <td>0.0052 (0.0046-0.0059) umol/mmol creatinine</td>\n",
       "      <td>umol/mmol creatinine</td>\n",
       "      <td>NaN</td>\n",
       "      <td>367558</td>\n",
       "      <td>National Health and Nutrition Examination Surv...</td>\n",
       "      <td>NaN</td>\n",
       "    </tr>\n",
       "    <tr>\n",
       "      <th>3769</th>\n",
       "      <td>5017</td>\n",
       "      <td>Triclosan</td>\n",
       "      <td>6689</td>\n",
       "      <td>Triclosan Exposure</td>\n",
       "      <td>All</td>\n",
       "      <td>Both</td>\n",
       "      <td>Urine</td>\n",
       "      <td>0.14 (0.11-0.17) umol/mmol creatinine</td>\n",
       "      <td>umol/mmol creatinine</td>\n",
       "      <td>Total population (2013 - 2014)</td>\n",
       "      <td>367558</td>\n",
       "      <td>National Health and Nutrition Examination Surv...</td>\n",
       "      <td>NaN</td>\n",
       "    </tr>\n",
       "    <tr>\n",
       "      <th>3770</th>\n",
       "      <td>5017</td>\n",
       "      <td>Triclosan</td>\n",
       "      <td>1</td>\n",
       "      <td>Normal</td>\n",
       "      <td>All</td>\n",
       "      <td>Both</td>\n",
       "      <td>Urine</td>\n",
       "      <td>0.0038 (0.0035-0.0042) umol/mmol creatinine</td>\n",
       "      <td>umol/mmol creatinine</td>\n",
       "      <td>NaN</td>\n",
       "      <td>367558</td>\n",
       "      <td>National Health and Nutrition Examination Surv...</td>\n",
       "      <td>NaN</td>\n",
       "    </tr>\n",
       "  </tbody>\n",
       "</table>\n",
       "<p>3771 rows × 13 columns</p>\n",
       "</div>"
      ]
     },
     "execution_count": 7,
     "metadata": {},
     "output_type": "execute_result"
    }
   ],
   "execution_count": 7
  },
  {
   "metadata": {
    "ExecuteTime": {
     "end_time": "2024-06-30T13:09:03.218812Z",
     "start_time": "2024-06-30T13:09:03.204383Z"
    }
   },
   "cell_type": "code",
   "source": "all_chemicals.condition.unique()",
   "outputs": [
    {
     "data": {
      "text/plain": [
       "array(['Obesity', 'Normal', \"Alzheimer's Disease\", 'Pregnancy',\n",
       "       'Preeclampsia/Eclampsia', 'Chronic Kidney Disease', 'Leukemia',\n",
       "       'Pyruvate Dehydrogenase Deficiency', 'Prolactinoma',\n",
       "       'Fumarase Deficiency', 'Pyruvate Carboxylase Deficiency',\n",
       "       'Diabetes Mellitus Type 2', 'Meningitis', 'Anoxia',\n",
       "       'Medium Chain Acyl Co A Dehydrogenase Deficiency',\n",
       "       'Pyruvate Dehydrogenase Phosphatase Deficiency',\n",
       "       'Long Chain 3 Hydroxyacyl Co A Dehydrogenase Deficiency',\n",
       "       '3 Hydroxyacyl Co A Dehydrogenase Deficiency',\n",
       "       '3 Hydroxy 3 Methylglutaryl Co A Lyase Deficiency',\n",
       "       'Carnitine Palmitoyltransferase I Deficiency', 'Schizophrenia',\n",
       "       'Eosinophilic Esophagitis', '11 Beta Hydroxylase Deficiency',\n",
       "       'Congenital Adrenal Hyperplaia due to 17-alpha-Hydroxylase Deficiency',\n",
       "       'Maple Syrup Urine Disease', 'Phenylketonuria', 'Lung Cancer',\n",
       "       \"Parkinson's Disease\", 'Mild Metachromatic Leukodystrophy',\n",
       "       'Myocardial Infarction', 'Head Injury', 'Carnosinuria',\n",
       "       'Lewy Body Dementia', 'Lipoid Congenital Adrenal Hyperplasia',\n",
       "       'Antenatal Bartter Syndrome Type 2', 'Type 4B Bartter Syndrome',\n",
       "       'Antenatal Bartter Syndrome Type 1',\n",
       "       'Congenital Adrenal Insufficiency with 46,XY Sex Reversal',\n",
       "       'Corticosterone Methyloxidase Type I Deficiency', 'A.I.D.S.',\n",
       "       'Ulcerative Colitis', 'Irritable Bowel Syndrome',\n",
       "       \"Crohn's Disease\", 'Propionic Acidemia',\n",
       "       'Argininosuccinic Aciduria', 'Peritoneal Dialysis', 'Hemodialysis',\n",
       "       'Hyperoxalemia', 'Adenylosuccinate Lyase Deficiency', 'Sepsis',\n",
       "       'Adult Onset Type II Citrullinemia',\n",
       "       'N Acetylglutamate Synthase Deficiency',\n",
       "       'Sulfite Oxidase Deficiency', 'Classic Citrullinemia',\n",
       "       'Rheumatoid Arthritis', 'Polycystic Ovary Syndrome',\n",
       "       'Congenital Adrenal Hyperplasia', 'Cerebral Vasospasm',\n",
       "       'Lathosterolosis',\n",
       "       'Lecithin:Cholesterol Acyltransferase Deficiency',\n",
       "       'Glucose 6 Phosphate Dehydrogenase Deficiency',\n",
       "       'Crigler Najjar Syndrome', 'Growth Hormone Deficiency',\n",
       "       'Donohue Syndrome', 'Congenital Bile Acid Synthesis Defect',\n",
       "       'Progressive Familial Intrahepatic Cholestasis',\n",
       "       'Dyserythropoietic Congenital Anemia Type II',\n",
       "       'Dihydropyrimidinase Deficiency', 'GABA-Transaminase Deficiency',\n",
       "       'Ketosis', 'Glucose Transporter Type 1 Deficiency Syndrome',\n",
       "       'Succinyl Co A:3 Oxoacid Co A Transferase Deficiency',\n",
       "       'Oculocerebrorenal Syndrome', 'Stress',\n",
       "       'Functional Hypothalamic Amenorrhea',\n",
       "       'Benign Gynecological Diseases',\n",
       "       'Antley Bixler Syndrome With Genital Anomalies And Disordered Steroidogenesis',\n",
       "       'Isolated ACTH Deficiency', 'Proprotein Convertase 1/3 Deficiency',\n",
       "       'Apparent Mineralocorticoid Excess', 'Glucocorticoid Resistance',\n",
       "       'Aromatase Deficiency', 'Rhabdomyolysis', 'Uremia',\n",
       "       'Hypercholesterolemia', 'Smith Lemli Opitz Syndrome',\n",
       "       \"Addison's Disease\", 'Zellweger Syndrome', 'Adrenoleukodystrophy',\n",
       "       'Peroxisomal Diogenesis Disorder', 'Anemia', 'Refsum Disease',\n",
       "       'Pyridoxine Dependent Epilepsy', 'Infantile Refsum Disease',\n",
       "       'Purine Nucleoside Phosphorylase Deficiency',\n",
       "       'Aromatic L Amino Acid Decarboxylase Deficiency', 'Vitiligo',\n",
       "       'Hypothyroidism', 'Encephalitis',\n",
       "       'Congenital Dopamine Beta-Hydroxylase Deficiency',\n",
       "       '21 Hydroxylase Deficiency', 'Beta Ureidopropionase Deficiency',\n",
       "       'Canavan Disease', 'Amish Type Microcephaly', 'Spina Bifida',\n",
       "       'Small Bowel Bacterial Overgrowth Syndrome', 'Cystathioninuria',\n",
       "       'Adenosine Deaminase Deficiency', 'Ethanol Consumption',\n",
       "       'Epilepsy', 'Febrile Seizures', 'Hepatic Encephalopathy',\n",
       "       'Glycolic Aciduria', 'D 2 Hydroxyglutaric Aciduria',\n",
       "       'Primary Hyperoxaluria Type I', 'Brunner Syndrome',\n",
       "       'Celiac Disease', 'Urocanase Deficiency',\n",
       "       'Sepiapterin Reductase Deficiency', \"Friedreich's Ataxia\",\n",
       "       'Hereditary Folate Malabsorption', 'Fanconi Syndrome',\n",
       "       'Lipodystrophy', 'Fructose 1,6 Bisphosphatase Deficiency',\n",
       "       'Familial Hyperinsulinemic Hypoglycemia',\n",
       "       'Acute Myelogenous Leukemia',\n",
       "       'Autosomal Dominant Polycystic Kidney Disease',\n",
       "       'Hyperammonemia due to Carbamoyl Phosphate Synthetase I Deficiency',\n",
       "       'Phosphoserine Aminotransferase Deficiency',\n",
       "       'Phosphoserine Phosphatase Deficiency', 'D Glyceric Acidemia',\n",
       "       'Glucoglycinuria', 'Multiple Sclerosis', 'Alkaptonuria',\n",
       "       'Glycogen Storage Disease', 'Alpha 1 Antitrypsin Deficiency',\n",
       "       'Intrahepatic Biliary Hypoplasia', 'Portal Vein Obstruction',\n",
       "       'Hepatobiliary Diseases', 'Chronic Active Hepatitis',\n",
       "       'Glutaric Acidemia Type 2', 'Methyl Formate Exposure',\n",
       "       'Heart Failure', 'X-Linked Ichthyosis',\n",
       "       'Idiopathic Oro Facial Pain',\n",
       "       'Phosphoribosylpyrophosphate Synthetase Superactivity',\n",
       "       'Xanthinuria Type 1', 'Lesch Nyhan Syndrome', 'Hydrocephalus',\n",
       "       'Hawkinsinuria', 'Hyperphenylalaninemia', 'Bacterial Infections',\n",
       "       'Paraquat Poisoning', 'Pearson Marrow Pancreas Syndrome',\n",
       "       'Iminoglycinuria', 'Hyperprolinemia Type I',\n",
       "       'Glutathione Synthetase Deficiency', 'Histidinemia',\n",
       "       'Dengue Fever', 'L 2 Hydroxyglutaric Aciduria', 'Cystinuria',\n",
       "       'Lysinuric Protein Intolerance', 'Adult Type Lactose Intolerance',\n",
       "       'Phosphoglycerate Dehydrogenase Deficiency',\n",
       "       'Type V 3-Methylglutaconic Aciduria', 'Coenzyme Q10 Deficiency',\n",
       "       'Cytochrome C Oxidase Deficiency',\n",
       "       'Leber Optic Atrophy And Dystonia', 'Leigh Syndrome',\n",
       "       'Mitochondrial Phosphate Carrier Deficiency',\n",
       "       'G.R.A.C.I.L.E. Syndrome', 'Hereditary Fructose Intolerance',\n",
       "       'Hereditary Myopathy With Lactic Acidosis',\n",
       "       'Acute Infantile Liver Failure', 'M.L.A.S.A.', 'Cirrhosis',\n",
       "       'Molybdenum Cofactor Deficiency', 'Acute Seizures',\n",
       "       'cblB Deficiency Methylmalonic Aciduria',\n",
       "       'Transcobalamin Ii Deficiency',\n",
       "       'Malonyl Co A Decarboxylase Deficiency',\n",
       "       'cblA Deficiency Methylmalonic Aciduria',\n",
       "       'Ribose 5 Phosphate Isomerase Deficiency',\n",
       "       'Subarachnoid Hemorrhage', 'Heat Stress',\n",
       "       'Alpha Aminoadipic Aciduria',\n",
       "       'Ornithine Transcarbamylase Deficiency', 'Orotic Aciduria',\n",
       "       'Mevalonic Aciduria', 'Sodium Nitrate Consumption',\n",
       "       'Amyotrophic Lateral Sclerosis', 'Hepatic Coma',\n",
       "       'Cadmium Exposure', 'Methylmalonic Acidemia', 'Sickle Cell Anemia',\n",
       "       'Brown Vialetto Van Laere Syndrome', 'Porphyria',\n",
       "       'Combined Pituitary Hormone Deficiency', 'Pendred Syndrome',\n",
       "       'Congenital Nongoitrous Hypothyroidism', 'Sarcosinemia',\n",
       "       'Congenital Disorder of Glycosylation Type 1A', 'Cachexia',\n",
       "       'Degenerative Disc Disease', 'Argininemia', 'Endometrial Cancer',\n",
       "       'Menkes Disease', 'Aldosterone Biosynthesis Defects',\n",
       "       'Aldehyde Dehydrogenase Deficiency',\n",
       "       '2 Methylbutyryl Co A Dehydrogenase Deficiency',\n",
       "       'Biotinidase Deficiency', '3-Methylglutaconic Aciduria Type I',\n",
       "       'Ovarian Cancer', 'Glutaryl Co A Dehydrogenase Deficiency (Gdhd)',\n",
       "       'Carnitine Acylcarnitine Translocase Deficiency',\n",
       "       'Segawa Syndrome', 'Aspartylglucosaminuria',\n",
       "       'Familial Mediterranean Fever', 'Cystic Fibrosis',\n",
       "       'Prostate Cancer', 'Aminoacylase I Deficiency', 'Stroke',\n",
       "       'Rachialgia', 'Type 4A Bartter Syndrome',\n",
       "       'Type I Autosonal Dominant Pseudyhopoaldosteronism',\n",
       "       'Liver Disease', 'Peripheral Neuropathy', 'Hyperthyroidism',\n",
       "       \"Paget's Disease\", 'Vitamin B12 Deficiency', 'Glutaric Acidemia I',\n",
       "       'Isobutyryl Co A Dehydrogenase Deficiency',\n",
       "       'Ethylmaonic Encephalopathy', 'Congenital Glutamine Defficiency',\n",
       "       'Isovaleric Acidemia', 'Homocystinuria', 'Iron Deficiency',\n",
       "       'Glycine N Methyltransferase Deficiency',\n",
       "       'Methionine Adenosyltransferase Deficiency', 'Pellagra',\n",
       "       'Succinic Semialdehyde Dehydrogenase Deficiency', 'Malaria',\n",
       "       'Prolidase Deficiency', 'Carcinoid Tumors', 'Bipolar Disorder',\n",
       "       'Alpha Methylacyl Co A Racemase Deficiency',\n",
       "       'Rhizomelic Chondrodysplasia Punctata', 'Hypertension',\n",
       "       'CNS Infections', 'Sitosterolemia', 'Nephrotic Syndrome',\n",
       "       'Kynureninase Deficiency', 'Mastocytosis',\n",
       "       'Dermal Fibroproliferative Disorder', 'Trimethylaminuria',\n",
       "       'Acute Liver Disease', 'Smoking', 'Cotinine Exposure',\n",
       "       'Beta Thalassemia', 'Cerebrotendinous Xanthomatosis', 'Eczema',\n",
       "       'Breast Cancer', 'Molybdenum Exposure', 'Rett Syndrome',\n",
       "       'Pancreatic Cancer', 'Mild Cognitive Impairment',\n",
       "       'Neuroborreliosis', 'Thiocyanate Exposure', 'Alcoholism',\n",
       "       'Sjogren Larsson Syndrome', 'Pentosuria', 'Asthma',\n",
       "       'Abetalipoproteinemia',\n",
       "       'Familial Isolated Deficiency of Vitamin E', 'Narcolepsy',\n",
       "       'Hypoxic Ischemic Encephalopathy', 'Motor Neuron Disease',\n",
       "       'Tert Amyl Methyl Ether Exposed', 'Tungsten Exposure',\n",
       "       'D Bifunctional Protein Deficiency', 'Megaloblastic Anemia 1',\n",
       "       'Equol Exposure', 'Benzene Exposure', 'Adrenomyeloneuropathy',\n",
       "       'Autism', 'Desmosterolosis', 'Prader Willi Syndrome',\n",
       "       'Cardiopulmonary Resuscitation', 'Coronary Heart Disease',\n",
       "       'Genistein Exposure', 'Cervical Cancer', 'Stomach Cancer',\n",
       "       'Gamma Glutamyltransferase Deficiency', 'Mercury Exposure',\n",
       "       'Macular Degeneration', 'Prepartum Depression',\n",
       "       'Antimony Exposure', 'Angina', 'Coronary Artery Disease',\n",
       "       'Lead Exposure', 'O-Desmethylangolensin Exposure',\n",
       "       'Hypobetalipoproteinemia', 'Enterodiol Exposure',\n",
       "       'Kidney Transplantation', 'Enterolactone Exposure',\n",
       "       \"Reye's Syndrome\", 'Rhinitis', 'Vertebral Osteoporosis',\n",
       "       '1-Hydroxyphenanthrene Exposure', '1-Hydroxypyrene Exposure',\n",
       "       '1-Naphthol Exposure', '2-Hydroxyfluorene Exposure',\n",
       "       '2-Naphthol Exposure', '2,4-Dichlorophenol Exposure',\n",
       "       '2,4-Dichlorophenoxyacetic acid Exposure',\n",
       "       '2,4,5-Trichlorophenol Exposure', '2,4,6-Trichlorophenol Exposure',\n",
       "       '2,5-Dichlorophenol Exposure', '2,5-Dimethylfuran Exposure',\n",
       "       '3-Hydroxyfluorene Exposure', '3-Hydroxyphenanthrene Exposure',\n",
       "       '9-Hydroxyfluorene Exposure', 'Arsenic Exposure',\n",
       "       'Barium Exposure', 'Bisphenol A Exposure', 'Chloroform Exposure',\n",
       "       'Chondrillasterol Exposure', 'Diethyldithiophosphate Exposure',\n",
       "       'Dimethyldithiophosphate Exposure', 'Dimethylphosphate Exposure',\n",
       "       'Ethylbenzene Exposure',\n",
       "       'Mono-(2-ethyl-5-carboxypentyl) phthalate Exposure',\n",
       "       'Mono-(2-ethyl-5-hydroxyhexyl) phthalate Exposure',\n",
       "       'Mono-(2-ethyl-5-oxohexyl) phthalate Exposure',\n",
       "       'Mono-(3-carboxypropyl) phthalate Exposure',\n",
       "       'Mono-benzyl phthalate Exposure', 'Nitrate Exposure',\n",
       "       'o-Xylene Exposure', 'Pentachlorophenol Exposure',\n",
       "       'Perchlorate Exposure', 'Perchloroethylene Exposure',\n",
       "       'Perfluorodecanoic acid Exposure',\n",
       "       'Perfluorohexane sulfonic acid Exposure',\n",
       "       'Perfluorononanoic acid Exposure',\n",
       "       'Perfluorooctane sulfonamide Exposure',\n",
       "       'Perfluorooctanesulfonic acid Exposure',\n",
       "       'Perfluorooctanoic acid Exposure',\n",
       "       'Perfluoroundecanoic acid Exposure', 'Styrene Exposure',\n",
       "       'Thallium Exposure', 'Toluene Exposure', 'Triclosan Exposure'],\n",
       "      dtype=object)"
      ]
     },
     "execution_count": 8,
     "metadata": {},
     "output_type": "execute_result"
    }
   ],
   "execution_count": 8
  },
  {
   "metadata": {
    "ExecuteTime": {
     "end_time": "2024-06-30T13:09:24.643761Z",
     "start_time": "2024-06-30T13:09:24.620253Z"
    }
   },
   "cell_type": "code",
   "source": "all_chemicals.condition.nunique()",
   "outputs": [
    {
     "data": {
      "text/plain": [
       "352"
      ]
     },
     "execution_count": 9,
     "metadata": {},
     "output_type": "execute_result"
    }
   ],
   "execution_count": 9
  },
  {
   "metadata": {},
   "cell_type": "code",
   "outputs": [],
   "execution_count": null,
   "source": "all_chemicals"
  },
  {
   "cell_type": "code",
   "execution_count": 45,
   "outputs": [],
   "source": "all_chemicals.to_csv(os.path.join(processed_data_folder, 'markerdb_chemical_associations.csv'), index=False)",
   "metadata": {
    "collapsed": false
   }
  },
  {
   "metadata": {},
   "cell_type": "markdown",
   "source": "## Proteins"
  },
  {
   "cell_type": "code",
   "execution_count": 42,
   "outputs": [
    {
     "data": {
      "text/plain": "      0                          1     2   \\\n0      1        Glycated hemoglobin   115   \n1      1        Glycated hemoglobin   115   \n2      1        Glycated hemoglobin   115   \n3      1        Glycated hemoglobin     1   \n4      1        Glycated hemoglobin     1   \n..   ...                        ...   ...   \n665  203       Alanine transaminase  6535   \n666  205  Anti-gliadin antibody IgG    73   \n667  205  Anti-gliadin antibody IgG     1   \n668  206                    D-dimer  6547   \n669  206                    D-dimer     1   \n\n                                         3                         4     5   \\\n0                  Diabetes Mellitus Type 2       Adult: >=18 yrs old  Both   \n1                  Diabetes Mellitus Type 2  Adolescent:13-18 yrs old  Both   \n2                  Diabetes Mellitus Type 2       Adult: >=18 yrs old  Both   \n3                                    Normal       Adult: >=18 yrs old  Both   \n4                                    Normal  Adolescent:13-18 yrs old  Both   \n..                                      ...                       ...   ...   \n665                         Liver metastase       Adult: >=18 yrs old  Both   \n666                          Celiac Disease                       All  Both   \n667                                  Normal                       All  Both   \n668  Disseminated intravascular coagulation       Adult: >=18 yrs old  Both   \n669                                  Normal       Adult: >=18 yrs old  Both   \n\n        6                                       7   \\\n0    Serum                                  >6.5 %   \n1    Serum                                  >6.5 %   \n2    blood                                  >6.5 %   \n3    blood                                  <5.7 %   \n4    Serum                                  <6.5 %   \n..     ...                                     ...   \n665  blood                                >36 IU/L   \n666  serum                                   >30 U   \n667  serum                                 <20.0 U   \n668  blood   >500 ng/mL Fibrinogen Equivalent Unit   \n669  blood  <=500 ng/mL Fibrinogen Equivalent Unit   \n\n                                   8   \\\n0                                   %   \n1                                   %   \n2                                   %   \n3                                   %   \n4                                   %   \n..                                ...   \n665                              IU/L   \n666                                 U   \n667                                 U   \n668  ng/mL Fibrinogen Equivalent Unit   \n669  ng/mL Fibrinogen Equivalent Unit   \n\n                                              9   \\\n0    The specific age range is for 19-79 yrs old   \n1    The specific age range is for 12-18 yrs old   \n2                                            NaN   \n3                                            NaN   \n4                                            NaN   \n..                                           ...   \n665                                          NaN   \n666                                          NaN   \n667                                          NaN   \n668                                          NaN   \n669                                          NaN   \n\n                                                    10          11  \n0    Lee, J. M., Wu, E. L., Tarini, B., Herman, W. ...  21195416.0  \n1    Lee, J. M., Wu, E. L., Tarini, B., Herman, W. ...  21195416.0  \n2                                Mayo clinic: A1C test         NaN  \n3                                Mayo clinic: A1C test         NaN  \n4    Lee, J. M., Wu, E. L., Tarini, B., Herman, W. ...  21195416.0  \n..                                                 ...         ...  \n665                                         BC Cancer:         NaN  \n666  Mayo clinic: Gliadin (Deamidated) Antibodies E...         NaN  \n667                                                NaN     89031.0  \n668                        Mayo clinic: D-dimer plasma         NaN  \n669                        Mayo clinic: D-dimer plasma         NaN  \n\n[670 rows x 12 columns]",
      "text/html": "<div>\n<style scoped>\n    .dataframe tbody tr th:only-of-type {\n        vertical-align: middle;\n    }\n\n    .dataframe tbody tr th {\n        vertical-align: top;\n    }\n\n    .dataframe thead th {\n        text-align: right;\n    }\n</style>\n<table border=\"1\" class=\"dataframe\">\n  <thead>\n    <tr style=\"text-align: right;\">\n      <th></th>\n      <th>0</th>\n      <th>1</th>\n      <th>2</th>\n      <th>3</th>\n      <th>4</th>\n      <th>5</th>\n      <th>6</th>\n      <th>7</th>\n      <th>8</th>\n      <th>9</th>\n      <th>10</th>\n      <th>11</th>\n    </tr>\n  </thead>\n  <tbody>\n    <tr>\n      <th>0</th>\n      <td>1</td>\n      <td>Glycated hemoglobin</td>\n      <td>115</td>\n      <td>Diabetes Mellitus Type 2</td>\n      <td>Adult: &gt;=18 yrs old</td>\n      <td>Both</td>\n      <td>Serum</td>\n      <td>&gt;6.5 %</td>\n      <td>%</td>\n      <td>The specific age range is for 19-79 yrs old</td>\n      <td>Lee, J. M., Wu, E. L., Tarini, B., Herman, W. ...</td>\n      <td>21195416.0</td>\n    </tr>\n    <tr>\n      <th>1</th>\n      <td>1</td>\n      <td>Glycated hemoglobin</td>\n      <td>115</td>\n      <td>Diabetes Mellitus Type 2</td>\n      <td>Adolescent:13-18 yrs old</td>\n      <td>Both</td>\n      <td>Serum</td>\n      <td>&gt;6.5 %</td>\n      <td>%</td>\n      <td>The specific age range is for 12-18 yrs old</td>\n      <td>Lee, J. M., Wu, E. L., Tarini, B., Herman, W. ...</td>\n      <td>21195416.0</td>\n    </tr>\n    <tr>\n      <th>2</th>\n      <td>1</td>\n      <td>Glycated hemoglobin</td>\n      <td>115</td>\n      <td>Diabetes Mellitus Type 2</td>\n      <td>Adult: &gt;=18 yrs old</td>\n      <td>Both</td>\n      <td>blood</td>\n      <td>&gt;6.5 %</td>\n      <td>%</td>\n      <td>NaN</td>\n      <td>Mayo clinic: A1C test</td>\n      <td>NaN</td>\n    </tr>\n    <tr>\n      <th>3</th>\n      <td>1</td>\n      <td>Glycated hemoglobin</td>\n      <td>1</td>\n      <td>Normal</td>\n      <td>Adult: &gt;=18 yrs old</td>\n      <td>Both</td>\n      <td>blood</td>\n      <td>&lt;5.7 %</td>\n      <td>%</td>\n      <td>NaN</td>\n      <td>Mayo clinic: A1C test</td>\n      <td>NaN</td>\n    </tr>\n    <tr>\n      <th>4</th>\n      <td>1</td>\n      <td>Glycated hemoglobin</td>\n      <td>1</td>\n      <td>Normal</td>\n      <td>Adolescent:13-18 yrs old</td>\n      <td>Both</td>\n      <td>Serum</td>\n      <td>&lt;6.5 %</td>\n      <td>%</td>\n      <td>NaN</td>\n      <td>Lee, J. M., Wu, E. L., Tarini, B., Herman, W. ...</td>\n      <td>21195416.0</td>\n    </tr>\n    <tr>\n      <th>...</th>\n      <td>...</td>\n      <td>...</td>\n      <td>...</td>\n      <td>...</td>\n      <td>...</td>\n      <td>...</td>\n      <td>...</td>\n      <td>...</td>\n      <td>...</td>\n      <td>...</td>\n      <td>...</td>\n      <td>...</td>\n    </tr>\n    <tr>\n      <th>665</th>\n      <td>203</td>\n      <td>Alanine transaminase</td>\n      <td>6535</td>\n      <td>Liver metastase</td>\n      <td>Adult: &gt;=18 yrs old</td>\n      <td>Both</td>\n      <td>blood</td>\n      <td>&gt;36 IU/L</td>\n      <td>IU/L</td>\n      <td>NaN</td>\n      <td>BC Cancer:</td>\n      <td>NaN</td>\n    </tr>\n    <tr>\n      <th>666</th>\n      <td>205</td>\n      <td>Anti-gliadin antibody IgG</td>\n      <td>73</td>\n      <td>Celiac Disease</td>\n      <td>All</td>\n      <td>Both</td>\n      <td>serum</td>\n      <td>&gt;30 U</td>\n      <td>U</td>\n      <td>NaN</td>\n      <td>Mayo clinic: Gliadin (Deamidated) Antibodies E...</td>\n      <td>NaN</td>\n    </tr>\n    <tr>\n      <th>667</th>\n      <td>205</td>\n      <td>Anti-gliadin antibody IgG</td>\n      <td>1</td>\n      <td>Normal</td>\n      <td>All</td>\n      <td>Both</td>\n      <td>serum</td>\n      <td>&lt;20.0 U</td>\n      <td>U</td>\n      <td>NaN</td>\n      <td>NaN</td>\n      <td>89031.0</td>\n    </tr>\n    <tr>\n      <th>668</th>\n      <td>206</td>\n      <td>D-dimer</td>\n      <td>6547</td>\n      <td>Disseminated intravascular coagulation</td>\n      <td>Adult: &gt;=18 yrs old</td>\n      <td>Both</td>\n      <td>blood</td>\n      <td>&gt;500 ng/mL Fibrinogen Equivalent Unit</td>\n      <td>ng/mL Fibrinogen Equivalent Unit</td>\n      <td>NaN</td>\n      <td>Mayo clinic: D-dimer plasma</td>\n      <td>NaN</td>\n    </tr>\n    <tr>\n      <th>669</th>\n      <td>206</td>\n      <td>D-dimer</td>\n      <td>1</td>\n      <td>Normal</td>\n      <td>Adult: &gt;=18 yrs old</td>\n      <td>Both</td>\n      <td>blood</td>\n      <td>&lt;=500 ng/mL Fibrinogen Equivalent Unit</td>\n      <td>ng/mL Fibrinogen Equivalent Unit</td>\n      <td>NaN</td>\n      <td>Mayo clinic: D-dimer plasma</td>\n      <td>NaN</td>\n    </tr>\n  </tbody>\n</table>\n<p>670 rows × 12 columns</p>\n</div>"
     },
     "execution_count": 42,
     "metadata": {},
     "output_type": "execute_result"
    }
   ],
   "source": [
    "all_proteins = pd.read_csv(os.path.join(markerdb_folder, \"all_proteins.tsv\"), header=None, sep='\\t')\n",
    "all_proteins    "
   ],
   "metadata": {
    "collapsed": false
   }
  },
  {
   "cell_type": "code",
   "execution_count": 44,
   "outputs": [
    {
     "data": {
      "text/plain": "     markerdb_id              name_markerdb  condition_id  \\\n0              1        Glycated hemoglobin           115   \n1              1        Glycated hemoglobin           115   \n2              1        Glycated hemoglobin           115   \n3              1        Glycated hemoglobin             1   \n4              1        Glycated hemoglobin             1   \n..           ...                        ...           ...   \n665          203       Alanine transaminase          6535   \n666          205  Anti-gliadin antibody IgG            73   \n667          205  Anti-gliadin antibody IgG             1   \n668          206                    D-dimer          6547   \n669          206                    D-dimer             1   \n\n                                  condition                    cohort   sex  \\\n0                  Diabetes Mellitus Type 2       Adult: >=18 yrs old  Both   \n1                  Diabetes Mellitus Type 2  Adolescent:13-18 yrs old  Both   \n2                  Diabetes Mellitus Type 2       Adult: >=18 yrs old  Both   \n3                                    Normal       Adult: >=18 yrs old  Both   \n4                                    Normal  Adolescent:13-18 yrs old  Both   \n..                                      ...                       ...   ...   \n665                         Liver metastase       Adult: >=18 yrs old  Both   \n666                          Celiac Disease                       All  Both   \n667                                  Normal                       All  Both   \n668  Disseminated intravascular coagulation       Adult: >=18 yrs old  Both   \n669                                  Normal       Adult: >=18 yrs old  Both   \n\n    sample_type                           concentration  \\\n0         Serum                                  >6.5 %   \n1         Serum                                  >6.5 %   \n2         blood                                  >6.5 %   \n3         blood                                  <5.7 %   \n4         Serum                                  <6.5 %   \n..          ...                                     ...   \n665       blood                                >36 IU/L   \n666       serum                                   >30 U   \n667       serum                                 <20.0 U   \n668       blood   >500 ng/mL Fibrinogen Equivalent Unit   \n669       blood  <=500 ng/mL Fibrinogen Equivalent Unit   \n\n                                 unit  \\\n0                                   %   \n1                                   %   \n2                                   %   \n3                                   %   \n4                                   %   \n..                                ...   \n665                              IU/L   \n666                                 U   \n667                                 U   \n668  ng/mL Fibrinogen Equivalent Unit   \n669  ng/mL Fibrinogen Equivalent Unit   \n\n                                           notes  \\\n0    The specific age range is for 19-79 yrs old   \n1    The specific age range is for 12-18 yrs old   \n2                                            NaN   \n3                                            NaN   \n4                                            NaN   \n..                                           ...   \n665                                          NaN   \n666                                          NaN   \n667                                          NaN   \n668                                          NaN   \n669                                          NaN   \n\n                                        reference_name   pubmed_id  \n0    Lee, J. M., Wu, E. L., Tarini, B., Herman, W. ...  21195416.0  \n1    Lee, J. M., Wu, E. L., Tarini, B., Herman, W. ...  21195416.0  \n2                                Mayo clinic: A1C test         NaN  \n3                                Mayo clinic: A1C test         NaN  \n4    Lee, J. M., Wu, E. L., Tarini, B., Herman, W. ...  21195416.0  \n..                                                 ...         ...  \n665                                         BC Cancer:         NaN  \n666  Mayo clinic: Gliadin (Deamidated) Antibodies E...         NaN  \n667                                                NaN     89031.0  \n668                        Mayo clinic: D-dimer plasma         NaN  \n669                        Mayo clinic: D-dimer plasma         NaN  \n\n[670 rows x 12 columns]",
      "text/html": "<div>\n<style scoped>\n    .dataframe tbody tr th:only-of-type {\n        vertical-align: middle;\n    }\n\n    .dataframe tbody tr th {\n        vertical-align: top;\n    }\n\n    .dataframe thead th {\n        text-align: right;\n    }\n</style>\n<table border=\"1\" class=\"dataframe\">\n  <thead>\n    <tr style=\"text-align: right;\">\n      <th></th>\n      <th>markerdb_id</th>\n      <th>name_markerdb</th>\n      <th>condition_id</th>\n      <th>condition</th>\n      <th>cohort</th>\n      <th>sex</th>\n      <th>sample_type</th>\n      <th>concentration</th>\n      <th>unit</th>\n      <th>notes</th>\n      <th>reference_name</th>\n      <th>pubmed_id</th>\n    </tr>\n  </thead>\n  <tbody>\n    <tr>\n      <th>0</th>\n      <td>1</td>\n      <td>Glycated hemoglobin</td>\n      <td>115</td>\n      <td>Diabetes Mellitus Type 2</td>\n      <td>Adult: &gt;=18 yrs old</td>\n      <td>Both</td>\n      <td>Serum</td>\n      <td>&gt;6.5 %</td>\n      <td>%</td>\n      <td>The specific age range is for 19-79 yrs old</td>\n      <td>Lee, J. M., Wu, E. L., Tarini, B., Herman, W. ...</td>\n      <td>21195416.0</td>\n    </tr>\n    <tr>\n      <th>1</th>\n      <td>1</td>\n      <td>Glycated hemoglobin</td>\n      <td>115</td>\n      <td>Diabetes Mellitus Type 2</td>\n      <td>Adolescent:13-18 yrs old</td>\n      <td>Both</td>\n      <td>Serum</td>\n      <td>&gt;6.5 %</td>\n      <td>%</td>\n      <td>The specific age range is for 12-18 yrs old</td>\n      <td>Lee, J. M., Wu, E. L., Tarini, B., Herman, W. ...</td>\n      <td>21195416.0</td>\n    </tr>\n    <tr>\n      <th>2</th>\n      <td>1</td>\n      <td>Glycated hemoglobin</td>\n      <td>115</td>\n      <td>Diabetes Mellitus Type 2</td>\n      <td>Adult: &gt;=18 yrs old</td>\n      <td>Both</td>\n      <td>blood</td>\n      <td>&gt;6.5 %</td>\n      <td>%</td>\n      <td>NaN</td>\n      <td>Mayo clinic: A1C test</td>\n      <td>NaN</td>\n    </tr>\n    <tr>\n      <th>3</th>\n      <td>1</td>\n      <td>Glycated hemoglobin</td>\n      <td>1</td>\n      <td>Normal</td>\n      <td>Adult: &gt;=18 yrs old</td>\n      <td>Both</td>\n      <td>blood</td>\n      <td>&lt;5.7 %</td>\n      <td>%</td>\n      <td>NaN</td>\n      <td>Mayo clinic: A1C test</td>\n      <td>NaN</td>\n    </tr>\n    <tr>\n      <th>4</th>\n      <td>1</td>\n      <td>Glycated hemoglobin</td>\n      <td>1</td>\n      <td>Normal</td>\n      <td>Adolescent:13-18 yrs old</td>\n      <td>Both</td>\n      <td>Serum</td>\n      <td>&lt;6.5 %</td>\n      <td>%</td>\n      <td>NaN</td>\n      <td>Lee, J. M., Wu, E. L., Tarini, B., Herman, W. ...</td>\n      <td>21195416.0</td>\n    </tr>\n    <tr>\n      <th>...</th>\n      <td>...</td>\n      <td>...</td>\n      <td>...</td>\n      <td>...</td>\n      <td>...</td>\n      <td>...</td>\n      <td>...</td>\n      <td>...</td>\n      <td>...</td>\n      <td>...</td>\n      <td>...</td>\n      <td>...</td>\n    </tr>\n    <tr>\n      <th>665</th>\n      <td>203</td>\n      <td>Alanine transaminase</td>\n      <td>6535</td>\n      <td>Liver metastase</td>\n      <td>Adult: &gt;=18 yrs old</td>\n      <td>Both</td>\n      <td>blood</td>\n      <td>&gt;36 IU/L</td>\n      <td>IU/L</td>\n      <td>NaN</td>\n      <td>BC Cancer:</td>\n      <td>NaN</td>\n    </tr>\n    <tr>\n      <th>666</th>\n      <td>205</td>\n      <td>Anti-gliadin antibody IgG</td>\n      <td>73</td>\n      <td>Celiac Disease</td>\n      <td>All</td>\n      <td>Both</td>\n      <td>serum</td>\n      <td>&gt;30 U</td>\n      <td>U</td>\n      <td>NaN</td>\n      <td>Mayo clinic: Gliadin (Deamidated) Antibodies E...</td>\n      <td>NaN</td>\n    </tr>\n    <tr>\n      <th>667</th>\n      <td>205</td>\n      <td>Anti-gliadin antibody IgG</td>\n      <td>1</td>\n      <td>Normal</td>\n      <td>All</td>\n      <td>Both</td>\n      <td>serum</td>\n      <td>&lt;20.0 U</td>\n      <td>U</td>\n      <td>NaN</td>\n      <td>NaN</td>\n      <td>89031.0</td>\n    </tr>\n    <tr>\n      <th>668</th>\n      <td>206</td>\n      <td>D-dimer</td>\n      <td>6547</td>\n      <td>Disseminated intravascular coagulation</td>\n      <td>Adult: &gt;=18 yrs old</td>\n      <td>Both</td>\n      <td>blood</td>\n      <td>&gt;500 ng/mL Fibrinogen Equivalent Unit</td>\n      <td>ng/mL Fibrinogen Equivalent Unit</td>\n      <td>NaN</td>\n      <td>Mayo clinic: D-dimer plasma</td>\n      <td>NaN</td>\n    </tr>\n    <tr>\n      <th>669</th>\n      <td>206</td>\n      <td>D-dimer</td>\n      <td>1</td>\n      <td>Normal</td>\n      <td>Adult: &gt;=18 yrs old</td>\n      <td>Both</td>\n      <td>blood</td>\n      <td>&lt;=500 ng/mL Fibrinogen Equivalent Unit</td>\n      <td>ng/mL Fibrinogen Equivalent Unit</td>\n      <td>NaN</td>\n      <td>Mayo clinic: D-dimer plasma</td>\n      <td>NaN</td>\n    </tr>\n  </tbody>\n</table>\n<p>670 rows × 12 columns</p>\n</div>"
     },
     "execution_count": 44,
     "metadata": {},
     "output_type": "execute_result"
    }
   ],
   "source": [
    "all_proteins = all_proteins.rename(columns={0: 'markerdb_id', 1: 'name_markerdb', 2: 'condition_id', 3: 'condition', 4: 'cohort', 5: 'sex', 6: 'sample_type', 7: 'concentration', 8: 'unit', 9: 'notes', 10: 'reference_name', 11: 'pubmed_id'})\n",
    "all_proteins"
   ],
   "metadata": {
    "collapsed": false
   }
  },
  {
   "cell_type": "code",
   "execution_count": 46,
   "outputs": [],
   "source": "all_proteins.to_csv(os.path.join(processed_data_folder, 'all_protein_associations_markerdb.csv'), index=False)",
   "metadata": {
    "collapsed": false
   }
  },
  {
   "metadata": {},
   "cell_type": "markdown",
   "source": "## Genes"
  },
  {
   "cell_type": "code",
   "execution_count": 48,
   "outputs": [
    {
     "data": {
      "text/plain": "           0                     1  \\\n0      14030                  LRP1   \n1      14031                   ERG   \n2      14032                   ERG   \n3      14035                TBXAS1   \n4      14036                TBXAS1   \n...      ...                   ...   \n11617  22290     Core Antigen Gene   \n11618  22291  Surface Antigen Gene   \n11619  22292                    GB   \n11620  22293                    GB   \n11621  22294                   TSA   \n\n                                                  2  \\\n0                                         rs1385526   \n1                                         rs2836411   \n2                                          rs602633   \n3                                        rs17837497   \n4                                        rs17079534   \n...                                             ...   \n11617      PCR test: Core antigen Hepatitis B virus   \n11618   PCR test: Surface antigen Hepatitis B virus   \n11619  PCR test: Gb segment: Herpes Simplex Virus 1   \n11620  PCR test: Gb segment: Herpes Simplex Virus 2   \n11621                    PCR test: antigen R. typhi   \n\n                                        3           4   5   6   7   8  \n0      Familial Abdominal Aortic Aneurysm  Pathogenic NaN NaN NaN NaN  \n1      Familial Abdominal Aortic Aneurysm  Pathogenic NaN NaN NaN NaN  \n2      Familial Abdominal Aortic Aneurysm  Pathogenic NaN NaN NaN NaN  \n3            Acute Lymphoblastic Leukemia  Pathogenic NaN NaN NaN NaN  \n4            Acute Lymphoblastic Leukemia  Pathogenic NaN NaN NaN NaN  \n...                                   ...         ...  ..  ..  ..  ..  \n11617                         Hepatitis B  Pathogenic NaN NaN NaN NaN  \n11618                         Hepatitis B  Pathogenic NaN NaN NaN NaN  \n11619                     HSV-1 Infection  Pathogenic NaN NaN NaN NaN  \n11620                     HSV-2 Infection  Pathogenic NaN NaN NaN NaN  \n11621                              Typhus  Pathogenic NaN NaN NaN NaN  \n\n[11622 rows x 9 columns]",
      "text/html": "<div>\n<style scoped>\n    .dataframe tbody tr th:only-of-type {\n        vertical-align: middle;\n    }\n\n    .dataframe tbody tr th {\n        vertical-align: top;\n    }\n\n    .dataframe thead th {\n        text-align: right;\n    }\n</style>\n<table border=\"1\" class=\"dataframe\">\n  <thead>\n    <tr style=\"text-align: right;\">\n      <th></th>\n      <th>0</th>\n      <th>1</th>\n      <th>2</th>\n      <th>3</th>\n      <th>4</th>\n      <th>5</th>\n      <th>6</th>\n      <th>7</th>\n      <th>8</th>\n    </tr>\n  </thead>\n  <tbody>\n    <tr>\n      <th>0</th>\n      <td>14030</td>\n      <td>LRP1</td>\n      <td>rs1385526</td>\n      <td>Familial Abdominal Aortic Aneurysm</td>\n      <td>Pathogenic</td>\n      <td>NaN</td>\n      <td>NaN</td>\n      <td>NaN</td>\n      <td>NaN</td>\n    </tr>\n    <tr>\n      <th>1</th>\n      <td>14031</td>\n      <td>ERG</td>\n      <td>rs2836411</td>\n      <td>Familial Abdominal Aortic Aneurysm</td>\n      <td>Pathogenic</td>\n      <td>NaN</td>\n      <td>NaN</td>\n      <td>NaN</td>\n      <td>NaN</td>\n    </tr>\n    <tr>\n      <th>2</th>\n      <td>14032</td>\n      <td>ERG</td>\n      <td>rs602633</td>\n      <td>Familial Abdominal Aortic Aneurysm</td>\n      <td>Pathogenic</td>\n      <td>NaN</td>\n      <td>NaN</td>\n      <td>NaN</td>\n      <td>NaN</td>\n    </tr>\n    <tr>\n      <th>3</th>\n      <td>14035</td>\n      <td>TBXAS1</td>\n      <td>rs17837497</td>\n      <td>Acute Lymphoblastic Leukemia</td>\n      <td>Pathogenic</td>\n      <td>NaN</td>\n      <td>NaN</td>\n      <td>NaN</td>\n      <td>NaN</td>\n    </tr>\n    <tr>\n      <th>4</th>\n      <td>14036</td>\n      <td>TBXAS1</td>\n      <td>rs17079534</td>\n      <td>Acute Lymphoblastic Leukemia</td>\n      <td>Pathogenic</td>\n      <td>NaN</td>\n      <td>NaN</td>\n      <td>NaN</td>\n      <td>NaN</td>\n    </tr>\n    <tr>\n      <th>...</th>\n      <td>...</td>\n      <td>...</td>\n      <td>...</td>\n      <td>...</td>\n      <td>...</td>\n      <td>...</td>\n      <td>...</td>\n      <td>...</td>\n      <td>...</td>\n    </tr>\n    <tr>\n      <th>11617</th>\n      <td>22290</td>\n      <td>Core Antigen Gene</td>\n      <td>PCR test: Core antigen Hepatitis B virus</td>\n      <td>Hepatitis B</td>\n      <td>Pathogenic</td>\n      <td>NaN</td>\n      <td>NaN</td>\n      <td>NaN</td>\n      <td>NaN</td>\n    </tr>\n    <tr>\n      <th>11618</th>\n      <td>22291</td>\n      <td>Surface Antigen Gene</td>\n      <td>PCR test: Surface antigen Hepatitis B virus</td>\n      <td>Hepatitis B</td>\n      <td>Pathogenic</td>\n      <td>NaN</td>\n      <td>NaN</td>\n      <td>NaN</td>\n      <td>NaN</td>\n    </tr>\n    <tr>\n      <th>11619</th>\n      <td>22292</td>\n      <td>GB</td>\n      <td>PCR test: Gb segment: Herpes Simplex Virus 1</td>\n      <td>HSV-1 Infection</td>\n      <td>Pathogenic</td>\n      <td>NaN</td>\n      <td>NaN</td>\n      <td>NaN</td>\n      <td>NaN</td>\n    </tr>\n    <tr>\n      <th>11620</th>\n      <td>22293</td>\n      <td>GB</td>\n      <td>PCR test: Gb segment: Herpes Simplex Virus 2</td>\n      <td>HSV-2 Infection</td>\n      <td>Pathogenic</td>\n      <td>NaN</td>\n      <td>NaN</td>\n      <td>NaN</td>\n      <td>NaN</td>\n    </tr>\n    <tr>\n      <th>11621</th>\n      <td>22294</td>\n      <td>TSA</td>\n      <td>PCR test: antigen R. typhi</td>\n      <td>Typhus</td>\n      <td>Pathogenic</td>\n      <td>NaN</td>\n      <td>NaN</td>\n      <td>NaN</td>\n      <td>NaN</td>\n    </tr>\n  </tbody>\n</table>\n<p>11622 rows × 9 columns</p>\n</div>"
     },
     "execution_count": 48,
     "metadata": {},
     "output_type": "execute_result"
    }
   ],
   "source": [
    "all_genes = pd.read_csv(os.path.join(markerdb_folder, \"all_genetics.tsv\"), header=None, sep='\\t')\n",
    "all_genes"
   ],
   "metadata": {
    "collapsed": false
   }
  },
  {
   "cell_type": "code",
   "execution_count": 54,
   "outputs": [],
   "source": [
    "all_genes = all_genes.drop(columns=[5, 6, 7, 8])"
   ],
   "metadata": {
    "collapsed": false
   }
  },
  {
   "cell_type": "code",
   "execution_count": 55,
   "outputs": [
    {
     "data": {
      "text/plain": "       markerdb_id           gene_symbol  \\\n0            14030                  LRP1   \n1            14031                   ERG   \n2            14032                   ERG   \n3            14035                TBXAS1   \n4            14036                TBXAS1   \n...            ...                   ...   \n11617        22290     Core Antigen Gene   \n11618        22291  Surface Antigen Gene   \n11619        22292                    GB   \n11620        22293                    GB   \n11621        22294                   TSA   \n\n                                             snp_id  \\\n0                                         rs1385526   \n1                                         rs2836411   \n2                                          rs602633   \n3                                        rs17837497   \n4                                        rs17079534   \n...                                             ...   \n11617      PCR test: Core antigen Hepatitis B virus   \n11618   PCR test: Surface antigen Hepatitis B virus   \n11619  PCR test: Gb segment: Herpes Simplex Virus 1   \n11620  PCR test: Gb segment: Herpes Simplex Virus 2   \n11621                    PCR test: antigen R. typhi   \n\n                                condition clinical_significance  \n0      Familial Abdominal Aortic Aneurysm            Pathogenic  \n1      Familial Abdominal Aortic Aneurysm            Pathogenic  \n2      Familial Abdominal Aortic Aneurysm            Pathogenic  \n3            Acute Lymphoblastic Leukemia            Pathogenic  \n4            Acute Lymphoblastic Leukemia            Pathogenic  \n...                                   ...                   ...  \n11617                         Hepatitis B            Pathogenic  \n11618                         Hepatitis B            Pathogenic  \n11619                     HSV-1 Infection            Pathogenic  \n11620                     HSV-2 Infection            Pathogenic  \n11621                              Typhus            Pathogenic  \n\n[11622 rows x 5 columns]",
      "text/html": "<div>\n<style scoped>\n    .dataframe tbody tr th:only-of-type {\n        vertical-align: middle;\n    }\n\n    .dataframe tbody tr th {\n        vertical-align: top;\n    }\n\n    .dataframe thead th {\n        text-align: right;\n    }\n</style>\n<table border=\"1\" class=\"dataframe\">\n  <thead>\n    <tr style=\"text-align: right;\">\n      <th></th>\n      <th>markerdb_id</th>\n      <th>gene_symbol</th>\n      <th>snp_id</th>\n      <th>condition</th>\n      <th>clinical_significance</th>\n    </tr>\n  </thead>\n  <tbody>\n    <tr>\n      <th>0</th>\n      <td>14030</td>\n      <td>LRP1</td>\n      <td>rs1385526</td>\n      <td>Familial Abdominal Aortic Aneurysm</td>\n      <td>Pathogenic</td>\n    </tr>\n    <tr>\n      <th>1</th>\n      <td>14031</td>\n      <td>ERG</td>\n      <td>rs2836411</td>\n      <td>Familial Abdominal Aortic Aneurysm</td>\n      <td>Pathogenic</td>\n    </tr>\n    <tr>\n      <th>2</th>\n      <td>14032</td>\n      <td>ERG</td>\n      <td>rs602633</td>\n      <td>Familial Abdominal Aortic Aneurysm</td>\n      <td>Pathogenic</td>\n    </tr>\n    <tr>\n      <th>3</th>\n      <td>14035</td>\n      <td>TBXAS1</td>\n      <td>rs17837497</td>\n      <td>Acute Lymphoblastic Leukemia</td>\n      <td>Pathogenic</td>\n    </tr>\n    <tr>\n      <th>4</th>\n      <td>14036</td>\n      <td>TBXAS1</td>\n      <td>rs17079534</td>\n      <td>Acute Lymphoblastic Leukemia</td>\n      <td>Pathogenic</td>\n    </tr>\n    <tr>\n      <th>...</th>\n      <td>...</td>\n      <td>...</td>\n      <td>...</td>\n      <td>...</td>\n      <td>...</td>\n    </tr>\n    <tr>\n      <th>11617</th>\n      <td>22290</td>\n      <td>Core Antigen Gene</td>\n      <td>PCR test: Core antigen Hepatitis B virus</td>\n      <td>Hepatitis B</td>\n      <td>Pathogenic</td>\n    </tr>\n    <tr>\n      <th>11618</th>\n      <td>22291</td>\n      <td>Surface Antigen Gene</td>\n      <td>PCR test: Surface antigen Hepatitis B virus</td>\n      <td>Hepatitis B</td>\n      <td>Pathogenic</td>\n    </tr>\n    <tr>\n      <th>11619</th>\n      <td>22292</td>\n      <td>GB</td>\n      <td>PCR test: Gb segment: Herpes Simplex Virus 1</td>\n      <td>HSV-1 Infection</td>\n      <td>Pathogenic</td>\n    </tr>\n    <tr>\n      <th>11620</th>\n      <td>22293</td>\n      <td>GB</td>\n      <td>PCR test: Gb segment: Herpes Simplex Virus 2</td>\n      <td>HSV-2 Infection</td>\n      <td>Pathogenic</td>\n    </tr>\n    <tr>\n      <th>11621</th>\n      <td>22294</td>\n      <td>TSA</td>\n      <td>PCR test: antigen R. typhi</td>\n      <td>Typhus</td>\n      <td>Pathogenic</td>\n    </tr>\n  </tbody>\n</table>\n<p>11622 rows × 5 columns</p>\n</div>"
     },
     "execution_count": 55,
     "metadata": {},
     "output_type": "execute_result"
    }
   ],
   "source": [
    "all_genes = all_genes.rename(columns={0: 'markerdb_id', 1: 'gene_symbol', 2: 'snp_id', 3: 'condition', 4: 'clinical_significance'})\n",
    "all_genes"
   ],
   "metadata": {
    "collapsed": false
   }
  },
  {
   "cell_type": "code",
   "execution_count": 56,
   "outputs": [],
   "source": "all_genes.to_csv(os.path.join(processed_data_folder, 'all_gene_associations_markerdb.csv'), index=False)",
   "metadata": {
    "collapsed": false
   }
  },
  {
   "cell_type": "code",
   "execution_count": null,
   "outputs": [],
   "source": [],
   "metadata": {
    "collapsed": false
   }
  }
 ],
 "metadata": {
  "kernelspec": {
   "display_name": "Python 3",
   "language": "python",
   "name": "python3"
  },
  "language_info": {
   "codemirror_mode": {
    "name": "ipython",
    "version": 2
   },
   "file_extension": ".py",
   "mimetype": "text/x-python",
   "name": "python",
   "nbconvert_exporter": "python",
   "pygments_lexer": "ipython2",
   "version": "2.7.6"
  }
 },
 "nbformat": 4,
 "nbformat_minor": 0
}
