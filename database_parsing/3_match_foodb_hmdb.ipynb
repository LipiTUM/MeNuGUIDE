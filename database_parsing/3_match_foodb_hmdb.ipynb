{
 "cells": [
  {
   "metadata": {},
   "cell_type": "markdown",
   "source": [
    "*MeNu GUIDE*\n",
    "\n",
    "# Matching FooDB and HMDB Compounds"
   ]
  },
  {
   "metadata": {
    "ExecuteTime": {
     "end_time": "2024-06-23T12:17:56.705455Z",
     "start_time": "2024-06-23T12:17:56.696734Z"
    }
   },
   "cell_type": "code",
   "source": "import pandas as pd",
   "outputs": [],
   "execution_count": 27
  },
  {
   "metadata": {},
   "cell_type": "code",
   "outputs": [],
   "execution_count": null,
   "source": "processed_data_folder = \"/path/to/processed/data/folder/\""
  },
  {
   "cell_type": "code",
   "source": [
    "foodb_df = pd.read_csv(f'{processed_data_folder}foodb_compounds_with_external_descriptors.csv', dtype={'description': 'string', 'cas_number': 'string', 'kingdom': 'string', 'superclass': 'string', 'class': 'string', 'subclass': 'string', 'chebi': 'string', 'kegg': 'string','lipid_maps': 'string', 'meta_cyc': 'string', 'synonym': 'string'})\n",
    "\n",
    "hmdb_df = pd.read_csv(f'{processed_data_folder}hmdb_metabolites.csv', dtype={'cas_registry_number': 'string', 'drugbank_id': 'string', 'knapsack_id': 'string', 'kegg_id': 'string', 'biocyc_id': 'string', 'vmh_id': 'string', 'pdb_id': 'string', 'chebi_id': 'string'})"
   ],
   "metadata": {
    "collapsed": false,
    "ExecuteTime": {
     "end_time": "2024-06-23T12:18:05.046194Z",
     "start_time": "2024-06-23T12:17:58.108431Z"
    }
   },
   "outputs": [],
   "execution_count": 28
  },
  {
   "cell_type": "markdown",
   "source": [
    "## Merge FooDB and HMDB\n",
    "### Rename identifier columns so they match."
   ],
   "metadata": {
    "collapsed": false
   }
  },
  {
   "metadata": {
    "ExecuteTime": {
     "end_time": "2024-06-23T12:18:05.052245Z",
     "start_time": "2024-06-23T12:18:05.047919Z"
    }
   },
   "cell_type": "code",
   "source": "hmdb_df.columns",
   "outputs": [
    {
     "data": {
      "text/plain": [
       "Index(['accession', 'name', 'description', 'chemical_formula',\n",
       "       'monisotopic_molecular_weight', 'iupac_name', 'cas_registry_number',\n",
       "       'smiles', 'inchi', 'inchikey', 'chemspider_id', 'drugbank_id',\n",
       "       'foodb_id', 'pubchem_compound_id', 'chebi_id', 'knapsack_id', 'kegg_id',\n",
       "       'wikipedia_id', 'metlin_id', 'biocyc_id', 'bigg_id', 'vmh_id',\n",
       "       'phenol_explorer_compound_id', 'pdb_id'],\n",
       "      dtype='object')"
      ]
     },
     "execution_count": 29,
     "metadata": {},
     "output_type": "execute_result"
    }
   ],
   "execution_count": 29
  },
  {
   "metadata": {
    "ExecuteTime": {
     "end_time": "2024-06-23T12:18:05.055921Z",
     "start_time": "2024-06-23T12:18:05.053491Z"
    }
   },
   "cell_type": "code",
   "source": "foodb_df.columns",
   "outputs": [
    {
     "data": {
      "text/plain": [
       "Index(['id', 'public_id', 'name', 'description', 'cas_number', 'smiles',\n",
       "       'inchi', 'mono_mass', 'inchikey', 'iupac', 'kingdom', 'superclass',\n",
       "       'class', 'subclass', 'chebi', 'kegg', 'lipid_maps', 'meta_cyc',\n",
       "       'synonym'],\n",
       "      dtype='object')"
      ]
     },
     "execution_count": 30,
     "metadata": {},
     "output_type": "execute_result"
    }
   ],
   "execution_count": 30
  },
  {
   "metadata": {
    "ExecuteTime": {
     "end_time": "2024-06-23T12:18:05.137216Z",
     "start_time": "2024-06-23T12:18:05.056518Z"
    }
   },
   "cell_type": "code",
   "source": "hmdb_df = hmdb_df.rename(columns={'accession': 'hmdb_id', 'monisotopic_molecular_weight': 'mono_mass', 'iupac_name': 'iupac', 'cas_registry_number': 'cas_number'}) ",
   "outputs": [],
   "execution_count": 31
  },
  {
   "metadata": {
    "ExecuteTime": {
     "end_time": "2024-06-23T12:18:05.186899Z",
     "start_time": "2024-06-23T12:18:05.137963Z"
    }
   },
   "cell_type": "code",
   "source": "foodb_df = foodb_df.rename(columns={'id': 'foodb_id_internal', 'public_id': 'foodb_id', 'chebi': 'chebi_id', 'kegg': 'kegg_id'})",
   "outputs": [],
   "execution_count": 32
  },
  {
   "metadata": {},
   "cell_type": "markdown",
   "source": "## Add names in lowercase and check merging results for using only foodb_id, only the name or both"
  },
  {
   "metadata": {
    "ExecuteTime": {
     "end_time": "2024-06-23T12:18:05.214060Z",
     "start_time": "2024-06-23T12:18:05.187675Z"
    }
   },
   "cell_type": "code",
   "source": [
    "hmdb_df['name'] = hmdb_df['name'].str.lower()\n",
    "foodb_df['name'] = foodb_df['name'].str.lower()"
   ],
   "outputs": [],
   "execution_count": 33
  },
  {
   "cell_type": "code",
   "source": [
    "foodb_hmdb_merge = hmdb_df.merge(foodb_df, how='outer', on='foodb_id', suffixes=['_hmdb', '_foodb'])\n",
    "foodb_hmdb_merge_with_name = hmdb_df.merge(foodb_df, how='outer', on=['foodb_id', 'name'], suffixes=['_hmdb', '_foodb'])\n",
    "foodb_hmdb_merge_only_name = hmdb_df.merge(foodb_df, how='outer', on=['name'], suffixes=['_hmdb', '_foodb'])"
   ],
   "metadata": {
    "collapsed": false,
    "ExecuteTime": {
     "end_time": "2024-06-23T12:18:08.330182Z",
     "start_time": "2024-06-23T12:18:05.214895Z"
    }
   },
   "outputs": [],
   "execution_count": 34
  },
  {
   "cell_type": "markdown",
   "source": [
    "### Merged Data Analysis\n",
    "Have a closer look at final table to see how well the matching worked and if there are any duplicates."
   ],
   "metadata": {
    "collapsed": false
   }
  },
  {
   "cell_type": "code",
   "source": [
    "print(f'Count of HMDB IDs: {foodb_hmdb_merge.hmdb_id.count()}')\n",
    "print(f'Count of unique HMDB IDs: {foodb_hmdb_merge.hmdb_id.nunique()}\\n')\n",
    "\n",
    "print(f'Count of FooDB IDs: {foodb_hmdb_merge.foodb_id_internal.count()}')\n",
    "print(f'Count of unique FooDB IDs: {foodb_hmdb_merge.foodb_id_internal.nunique()}\\n')\n",
    "\n",
    "print(f'Number of compounds that could be matched between FooDB and HMDB: {foodb_hmdb_merge[foodb_hmdb_merge.foodb_id_internal.notna()].hmdb_id.count()}')\n",
    "print(f'Number of HMDB compounds that could not be matched to FooDB: {foodb_hmdb_merge[foodb_hmdb_merge.foodb_id_internal.isna()].hmdb_id.count()}')\n",
    "print(f'Number of FooDB compounds that could not be matched to HMDB: {foodb_hmdb_merge[foodb_hmdb_merge.hmdb_id.isna()].foodb_id.count()}\\n')\n",
    "\n",
    "print(f'Count of duplicate matches: {foodb_hmdb_merge.foodb_id_internal.count()-foodb_hmdb_merge.foodb_id_internal.nunique()}')"
   ],
   "metadata": {
    "collapsed": false,
    "ExecuteTime": {
     "end_time": "2024-06-23T12:18:08.577813Z",
     "start_time": "2024-06-23T12:18:08.333336Z"
    }
   },
   "outputs": [
    {
     "name": "stdout",
     "output_type": "stream",
     "text": [
      "Count of HMDB IDs: 217916\n",
      "Count of unique HMDB IDs: 217916\n",
      "\n",
      "Count of FooDB IDs: 70922\n",
      "Count of unique FooDB IDs: 70477\n",
      "\n",
      "Number of compounds that could be matched between FooDB and HMDB: 48374\n",
      "Number of HMDB compounds that could not be matched to FooDB: 169542\n",
      "Number of FooDB compounds that could not be matched to HMDB: 22548\n",
      "\n",
      "Count of duplicate matches: 445\n"
     ]
    }
   ],
   "execution_count": 35
  },
  {
   "cell_type": "code",
   "source": [
    "print(f'Count of HMDB IDs: {foodb_hmdb_merge_with_name.hmdb_id.count()}')\n",
    "print(f'Count of unique HMDB IDs: {foodb_hmdb_merge_with_name.hmdb_id.nunique()}\\n')\n",
    "\n",
    "print(f'Count of FooDB IDs: {foodb_hmdb_merge_with_name.foodb_id_internal.count()}')\n",
    "print(f'Count of unique FooDB IDs: {foodb_hmdb_merge_with_name.foodb_id_internal.nunique()}\\n')\n",
    "\n",
    "print(f'Number of compounds that could be matched between FooDB and HMDB: {foodb_hmdb_merge_with_name[foodb_hmdb_merge_with_name.foodb_id_internal.notna()].hmdb_id.count()}')\n",
    "print(f'Number of HMDB compounds that could not be matched to FooDB: {foodb_hmdb_merge_with_name[foodb_hmdb_merge_with_name.foodb_id_internal.isna()].hmdb_id.count()}')\n",
    "print(f'Number of FooDB compounds that could not be matched to HMDB: {foodb_hmdb_merge_with_name[foodb_hmdb_merge_with_name.hmdb_id.isna()].foodb_id_internal.count()}\\n')\n",
    "\n",
    "print(f'Count of duplicate matches: {foodb_hmdb_merge_with_name.foodb_id_internal.count()-foodb_hmdb_merge_with_name.foodb_id_internal.nunique()}')"
   ],
   "metadata": {
    "collapsed": false,
    "ExecuteTime": {
     "end_time": "2024-06-23T12:18:08.816218Z",
     "start_time": "2024-06-23T12:18:08.578439Z"
    }
   },
   "outputs": [
    {
     "name": "stdout",
     "output_type": "stream",
     "text": [
      "Count of HMDB IDs: 217916\n",
      "Count of unique HMDB IDs: 217916\n",
      "\n",
      "Count of FooDB IDs: 70477\n",
      "Count of unique FooDB IDs: 70477\n",
      "\n",
      "Number of compounds that could be matched between FooDB and HMDB: 45514\n",
      "Number of HMDB compounds that could not be matched to FooDB: 172402\n",
      "Number of FooDB compounds that could not be matched to HMDB: 24963\n",
      "\n",
      "Count of duplicate matches: 0\n"
     ]
    }
   ],
   "execution_count": 36
  },
  {
   "cell_type": "code",
   "source": [
    "print(f'Count of HMDB IDs: {foodb_hmdb_merge_only_name.hmdb_id.count()}')\n",
    "print(f'Count of unique HMDB IDs: {foodb_hmdb_merge_only_name.hmdb_id.nunique()}\\n')\n",
    "\n",
    "print(f'Count of FooDB IDs: {foodb_hmdb_merge_only_name.foodb_id_internal.count()}')\n",
    "print(f'Count of unique FooDB IDs: {foodb_hmdb_merge_only_name.foodb_id_internal.nunique()}\\n')\n",
    "\n",
    "print(f'Number of compounds that could be matched between FooDB and HMDB: {foodb_hmdb_merge_only_name[foodb_hmdb_merge_only_name.foodb_id_internal.notna()].hmdb_id.count()}')\n",
    "print(f'Number of HMDB compounds that could not be matched to FooDB: {foodb_hmdb_merge_only_name[foodb_hmdb_merge_only_name.foodb_id_internal.isna()].hmdb_id.count()}')\n",
    "print(f'Number of FooDB compounds that could not be matched to HMDB: {foodb_hmdb_merge_only_name[foodb_hmdb_merge_only_name.hmdb_id.isna()].foodb_id_internal.count()}\\n')\n",
    "\n",
    "print(f'Count of duplicate matches: {foodb_hmdb_merge_only_name.foodb_id_internal.count()-foodb_hmdb_merge_only_name.foodb_id_internal.nunique()}')"
   ],
   "metadata": {
    "collapsed": false,
    "ExecuteTime": {
     "end_time": "2024-06-23T12:18:09.035487Z",
     "start_time": "2024-06-23T12:18:08.816941Z"
    }
   },
   "outputs": [
    {
     "name": "stdout",
     "output_type": "stream",
     "text": [
      "Count of HMDB IDs: 217916\n",
      "Count of unique HMDB IDs: 217916\n",
      "\n",
      "Count of FooDB IDs: 70477\n",
      "Count of unique FooDB IDs: 70477\n",
      "\n",
      "Number of compounds that could be matched between FooDB and HMDB: 63468\n",
      "Number of HMDB compounds that could not be matched to FooDB: 154448\n",
      "Number of FooDB compounds that could not be matched to HMDB: 7009\n",
      "\n",
      "Count of duplicate matches: 0\n"
     ]
    }
   ],
   "execution_count": 37
  },
  {
   "cell_type": "code",
   "source": [
    "# Check out duplicate matches for merging only via foodb_id. Seems like maybe there sometimes is an incorrect foodb_id saved for some HMDB entries\n",
    "duplicate_matches = list(foodb_hmdb_merge[(foodb_hmdb_merge.foodb_id_internal.notna()) & (foodb_hmdb_merge.duplicated(subset='foodb_id_internal'))]['foodb_id'].unique())\n",
    "\n",
    "foodb_hmdb_merge[foodb_hmdb_merge.foodb_id.isin(duplicate_matches)][['name_hmdb', 'name_foodb', 'hmdb_id', 'foodb_id', 'chebi_id_hmdb', 'chebi_id_foodb']]"
   ],
   "metadata": {
    "collapsed": false,
    "ExecuteTime": {
     "end_time": "2024-06-23T12:18:09.052287Z",
     "start_time": "2024-06-23T12:18:09.036324Z"
    }
   },
   "outputs": [
    {
     "data": {
      "text/plain": [
       "                                               name_hmdb  \\\n",
       "281                                           l-tyrosine   \n",
       "282                                           d-tyrosine   \n",
       "427                                         brassicoside   \n",
       "428                                    carboxyyessotoxin   \n",
       "434                                        isotheaflavin   \n",
       "...                                                  ...   \n",
       "24794                               (cis)-crotonaldehyde   \n",
       "25559                                 oxalosuccinic acid   \n",
       "25560                                     oxalosuccinate   \n",
       "28967  rac-4-hydroxy-4-o-(beta-d-glucuronide)-all-tra...   \n",
       "28968         4,4-dimethylcholesta-8(9),14-dien-3beta-ol   \n",
       "\n",
       "                                              name_foodb      hmdb_id  \\\n",
       "281                                           l-tyrosine  HMDB0000158   \n",
       "282                                           l-tyrosine  HMDB0250803   \n",
       "427               isorhamnetin 3-sophoroside 7-glucoside  HMDB0029480   \n",
       "428               isorhamnetin 3-sophoroside 7-glucoside  HMDB0036622   \n",
       "434                                        isotheaflavin  HMDB0029483   \n",
       "...                                                  ...          ...   \n",
       "24794                               (cis)-crotonaldehyde  HMDB0303986   \n",
       "25559                                     oxalosuccinate  HMDB0003974   \n",
       "25560                                     oxalosuccinate  HMDB0304444   \n",
       "28967  rac-4-hydroxy-4-o-(beta-d-glucuronide)-all-tra...  HMDB0060141   \n",
       "28968  rac-4-hydroxy-4-o-(beta-d-glucuronide)-all-tra...  HMDB0060147   \n",
       "\n",
       "        foodb_id chebi_id_hmdb chebi_id_foodb  \n",
       "281    FDB000446         17895    CHEBI:17895  \n",
       "282    FDB000446         18186    CHEBI:17895  \n",
       "427    FDB000607          <NA>           <NA>  \n",
       "428    FDB000607          <NA>           <NA>  \n",
       "434    FDB000613          <NA>           <NA>  \n",
       "...          ...           ...            ...  \n",
       "24794  FDB030138          <NA>           <NA>  \n",
       "25559  FDB031076         44712           <NA>  \n",
       "25560  FDB031076          7815           <NA>  \n",
       "28967  FDB034577          <NA>           <NA>  \n",
       "28968  FDB034577          <NA>           <NA>  \n",
       "\n",
       "[879 rows x 6 columns]"
      ],
      "text/html": [
       "<div>\n",
       "<style scoped>\n",
       "    .dataframe tbody tr th:only-of-type {\n",
       "        vertical-align: middle;\n",
       "    }\n",
       "\n",
       "    .dataframe tbody tr th {\n",
       "        vertical-align: top;\n",
       "    }\n",
       "\n",
       "    .dataframe thead th {\n",
       "        text-align: right;\n",
       "    }\n",
       "</style>\n",
       "<table border=\"1\" class=\"dataframe\">\n",
       "  <thead>\n",
       "    <tr style=\"text-align: right;\">\n",
       "      <th></th>\n",
       "      <th>name_hmdb</th>\n",
       "      <th>name_foodb</th>\n",
       "      <th>hmdb_id</th>\n",
       "      <th>foodb_id</th>\n",
       "      <th>chebi_id_hmdb</th>\n",
       "      <th>chebi_id_foodb</th>\n",
       "    </tr>\n",
       "  </thead>\n",
       "  <tbody>\n",
       "    <tr>\n",
       "      <th>281</th>\n",
       "      <td>l-tyrosine</td>\n",
       "      <td>l-tyrosine</td>\n",
       "      <td>HMDB0000158</td>\n",
       "      <td>FDB000446</td>\n",
       "      <td>17895</td>\n",
       "      <td>CHEBI:17895</td>\n",
       "    </tr>\n",
       "    <tr>\n",
       "      <th>282</th>\n",
       "      <td>d-tyrosine</td>\n",
       "      <td>l-tyrosine</td>\n",
       "      <td>HMDB0250803</td>\n",
       "      <td>FDB000446</td>\n",
       "      <td>18186</td>\n",
       "      <td>CHEBI:17895</td>\n",
       "    </tr>\n",
       "    <tr>\n",
       "      <th>427</th>\n",
       "      <td>brassicoside</td>\n",
       "      <td>isorhamnetin 3-sophoroside 7-glucoside</td>\n",
       "      <td>HMDB0029480</td>\n",
       "      <td>FDB000607</td>\n",
       "      <td>&lt;NA&gt;</td>\n",
       "      <td>&lt;NA&gt;</td>\n",
       "    </tr>\n",
       "    <tr>\n",
       "      <th>428</th>\n",
       "      <td>carboxyyessotoxin</td>\n",
       "      <td>isorhamnetin 3-sophoroside 7-glucoside</td>\n",
       "      <td>HMDB0036622</td>\n",
       "      <td>FDB000607</td>\n",
       "      <td>&lt;NA&gt;</td>\n",
       "      <td>&lt;NA&gt;</td>\n",
       "    </tr>\n",
       "    <tr>\n",
       "      <th>434</th>\n",
       "      <td>isotheaflavin</td>\n",
       "      <td>isotheaflavin</td>\n",
       "      <td>HMDB0029483</td>\n",
       "      <td>FDB000613</td>\n",
       "      <td>&lt;NA&gt;</td>\n",
       "      <td>&lt;NA&gt;</td>\n",
       "    </tr>\n",
       "    <tr>\n",
       "      <th>...</th>\n",
       "      <td>...</td>\n",
       "      <td>...</td>\n",
       "      <td>...</td>\n",
       "      <td>...</td>\n",
       "      <td>...</td>\n",
       "      <td>...</td>\n",
       "    </tr>\n",
       "    <tr>\n",
       "      <th>24794</th>\n",
       "      <td>(cis)-crotonaldehyde</td>\n",
       "      <td>(cis)-crotonaldehyde</td>\n",
       "      <td>HMDB0303986</td>\n",
       "      <td>FDB030138</td>\n",
       "      <td>&lt;NA&gt;</td>\n",
       "      <td>&lt;NA&gt;</td>\n",
       "    </tr>\n",
       "    <tr>\n",
       "      <th>25559</th>\n",
       "      <td>oxalosuccinic acid</td>\n",
       "      <td>oxalosuccinate</td>\n",
       "      <td>HMDB0003974</td>\n",
       "      <td>FDB031076</td>\n",
       "      <td>44712</td>\n",
       "      <td>&lt;NA&gt;</td>\n",
       "    </tr>\n",
       "    <tr>\n",
       "      <th>25560</th>\n",
       "      <td>oxalosuccinate</td>\n",
       "      <td>oxalosuccinate</td>\n",
       "      <td>HMDB0304444</td>\n",
       "      <td>FDB031076</td>\n",
       "      <td>7815</td>\n",
       "      <td>&lt;NA&gt;</td>\n",
       "    </tr>\n",
       "    <tr>\n",
       "      <th>28967</th>\n",
       "      <td>rac-4-hydroxy-4-o-(beta-d-glucuronide)-all-tra...</td>\n",
       "      <td>rac-4-hydroxy-4-o-(beta-d-glucuronide)-all-tra...</td>\n",
       "      <td>HMDB0060141</td>\n",
       "      <td>FDB034577</td>\n",
       "      <td>&lt;NA&gt;</td>\n",
       "      <td>&lt;NA&gt;</td>\n",
       "    </tr>\n",
       "    <tr>\n",
       "      <th>28968</th>\n",
       "      <td>4,4-dimethylcholesta-8(9),14-dien-3beta-ol</td>\n",
       "      <td>rac-4-hydroxy-4-o-(beta-d-glucuronide)-all-tra...</td>\n",
       "      <td>HMDB0060147</td>\n",
       "      <td>FDB034577</td>\n",
       "      <td>&lt;NA&gt;</td>\n",
       "      <td>&lt;NA&gt;</td>\n",
       "    </tr>\n",
       "  </tbody>\n",
       "</table>\n",
       "<p>879 rows × 6 columns</p>\n",
       "</div>"
      ]
     },
     "execution_count": 38,
     "metadata": {},
     "output_type": "execute_result"
    }
   ],
   "execution_count": 38
  },
  {
   "cell_type": "code",
   "source": [
    "# Check if there are any inconsistencies in foodb_ids after matching only via name\n",
    "foodb_hmdb_merge_only_name[(foodb_hmdb_merge_only_name.foodb_id_hmdb != foodb_hmdb_merge_only_name.foodb_id_foodb) & (foodb_hmdb_merge_only_name.foodb_id_hmdb.notna()) & (foodb_hmdb_merge_only_name.foodb_id_foodb.notna())][['name', 'foodb_id_foodb', 'foodb_id_hmdb']]"
   ],
   "metadata": {
    "collapsed": false,
    "ExecuteTime": {
     "end_time": "2024-06-23T12:18:09.072974Z",
     "start_time": "2024-06-23T12:18:09.052827Z"
    }
   },
   "outputs": [
    {
     "data": {
      "text/plain": [
       "                                name foodb_id_foodb foodb_id_hmdb\n",
       "19      (+)-10-methyldodecanoic acid      FDB098155     FDB098154\n",
       "36               (+)-7-iso-jasmonate      FDB030070     FDB030077\n",
       "40                  (+)-alpha-carene      FDB013230     FDB013714\n",
       "88              (+)-hardwickiic acid      FDB006871     FDB006884\n",
       "117       (+)-norushinsunine n-oxide      FDB012978     FDB015501\n",
       "...                              ...            ...           ...\n",
       "224716                   yuccoside c      FDB012029     FDB020816\n",
       "224774                    zeaxanthin      FDB014726     FDB023113\n",
       "224776                      zederone      FDB015708     FDB017170\n",
       "224802                          zinc      FDB003729     FDB031256\n",
       "224858                  zwiebelane b      FDB020525     FDB020524\n",
       "\n",
       "[1032 rows x 3 columns]"
      ],
      "text/html": [
       "<div>\n",
       "<style scoped>\n",
       "    .dataframe tbody tr th:only-of-type {\n",
       "        vertical-align: middle;\n",
       "    }\n",
       "\n",
       "    .dataframe tbody tr th {\n",
       "        vertical-align: top;\n",
       "    }\n",
       "\n",
       "    .dataframe thead th {\n",
       "        text-align: right;\n",
       "    }\n",
       "</style>\n",
       "<table border=\"1\" class=\"dataframe\">\n",
       "  <thead>\n",
       "    <tr style=\"text-align: right;\">\n",
       "      <th></th>\n",
       "      <th>name</th>\n",
       "      <th>foodb_id_foodb</th>\n",
       "      <th>foodb_id_hmdb</th>\n",
       "    </tr>\n",
       "  </thead>\n",
       "  <tbody>\n",
       "    <tr>\n",
       "      <th>19</th>\n",
       "      <td>(+)-10-methyldodecanoic acid</td>\n",
       "      <td>FDB098155</td>\n",
       "      <td>FDB098154</td>\n",
       "    </tr>\n",
       "    <tr>\n",
       "      <th>36</th>\n",
       "      <td>(+)-7-iso-jasmonate</td>\n",
       "      <td>FDB030070</td>\n",
       "      <td>FDB030077</td>\n",
       "    </tr>\n",
       "    <tr>\n",
       "      <th>40</th>\n",
       "      <td>(+)-alpha-carene</td>\n",
       "      <td>FDB013230</td>\n",
       "      <td>FDB013714</td>\n",
       "    </tr>\n",
       "    <tr>\n",
       "      <th>88</th>\n",
       "      <td>(+)-hardwickiic acid</td>\n",
       "      <td>FDB006871</td>\n",
       "      <td>FDB006884</td>\n",
       "    </tr>\n",
       "    <tr>\n",
       "      <th>117</th>\n",
       "      <td>(+)-norushinsunine n-oxide</td>\n",
       "      <td>FDB012978</td>\n",
       "      <td>FDB015501</td>\n",
       "    </tr>\n",
       "    <tr>\n",
       "      <th>...</th>\n",
       "      <td>...</td>\n",
       "      <td>...</td>\n",
       "      <td>...</td>\n",
       "    </tr>\n",
       "    <tr>\n",
       "      <th>224716</th>\n",
       "      <td>yuccoside c</td>\n",
       "      <td>FDB012029</td>\n",
       "      <td>FDB020816</td>\n",
       "    </tr>\n",
       "    <tr>\n",
       "      <th>224774</th>\n",
       "      <td>zeaxanthin</td>\n",
       "      <td>FDB014726</td>\n",
       "      <td>FDB023113</td>\n",
       "    </tr>\n",
       "    <tr>\n",
       "      <th>224776</th>\n",
       "      <td>zederone</td>\n",
       "      <td>FDB015708</td>\n",
       "      <td>FDB017170</td>\n",
       "    </tr>\n",
       "    <tr>\n",
       "      <th>224802</th>\n",
       "      <td>zinc</td>\n",
       "      <td>FDB003729</td>\n",
       "      <td>FDB031256</td>\n",
       "    </tr>\n",
       "    <tr>\n",
       "      <th>224858</th>\n",
       "      <td>zwiebelane b</td>\n",
       "      <td>FDB020525</td>\n",
       "      <td>FDB020524</td>\n",
       "    </tr>\n",
       "  </tbody>\n",
       "</table>\n",
       "<p>1032 rows × 3 columns</p>\n",
       "</div>"
      ]
     },
     "execution_count": 39,
     "metadata": {},
     "output_type": "execute_result"
    }
   ],
   "execution_count": 39
  },
  {
   "cell_type": "markdown",
   "source": "After comparing the entries on the respective websites, it seems it makes the most amount of sense to merge based on name. This yields the most hits, while also having no duplicates. Now we need to merge all the identifiers. It makes sense that the foodb_id should be preferred, but if there is none, we should tak the foodb_id provided by HMDB.",
   "metadata": {
    "collapsed": false
   }
  },
  {
   "cell_type": "code",
   "source": [
    "foodb_hmdb_merge_only_name.loc[:, 'foodb_id'] = foodb_hmdb_merge_only_name.apply(lambda row: row.foodb_id_foodb if pd.notna(row.foodb_id_foodb) else None, axis=1)\n",
    "foodb_hmdb_merge_only_name = foodb_hmdb_merge_only_name.drop(columns=['foodb_id_hmdb', 'foodb_id_foodb'])"
   ],
   "metadata": {
    "collapsed": false,
    "ExecuteTime": {
     "end_time": "2024-06-23T12:18:10.379212Z",
     "start_time": "2024-06-23T12:18:09.074138Z"
    }
   },
   "outputs": [],
   "execution_count": 40
  },
  {
   "cell_type": "code",
   "source": [
    "print(f'Count of HMDB IDs: {foodb_hmdb_merge_only_name.hmdb_id.count()}')\n",
    "print(f'Count of unique HMDB IDs: {foodb_hmdb_merge_only_name.hmdb_id.nunique()}\\n')\n",
    "\n",
    "print(f'Count of FooDB IDs: {foodb_hmdb_merge_only_name.foodb_id.count()}')\n",
    "print(f'Count of unique FooDB IDs: {foodb_hmdb_merge_only_name.foodb_id.nunique()}\\n')\n",
    "\n",
    "print(f'Number of compounds that could be matched between FooDB and HMDB: {foodb_hmdb_merge_only_name[foodb_hmdb_merge_only_name.foodb_id_internal.notna()].hmdb_id.count()}')\n",
    "print(f'Number of HMDB compounds that could not be matched to FooDB: {foodb_hmdb_merge_only_name[foodb_hmdb_merge_only_name.foodb_id_internal.isna()].hmdb_id.count()}')\n",
    "print(f'Number of FooDB compounds that could not be matched to HMDB: {foodb_hmdb_merge_only_name[foodb_hmdb_merge_only_name.hmdb_id.isna()].foodb_id_internal.count()}\\n')\n",
    "\n",
    "print(f'Count of duplicate matches: {foodb_hmdb_merge_only_name.foodb_id_internal.count()-foodb_hmdb_merge_only_name.foodb_id_internal.nunique()}')"
   ],
   "metadata": {
    "collapsed": false,
    "ExecuteTime": {
     "end_time": "2024-06-23T12:18:10.614460Z",
     "start_time": "2024-06-23T12:18:10.379972Z"
    }
   },
   "outputs": [
    {
     "name": "stdout",
     "output_type": "stream",
     "text": [
      "Count of HMDB IDs: 217916\n",
      "Count of unique HMDB IDs: 217916\n",
      "\n",
      "Count of FooDB IDs: 70477\n",
      "Count of unique FooDB IDs: 70477\n",
      "\n",
      "Number of compounds that could be matched between FooDB and HMDB: 63468\n",
      "Number of HMDB compounds that could not be matched to FooDB: 154448\n",
      "Number of FooDB compounds that could not be matched to HMDB: 7009\n",
      "\n",
      "Count of duplicate matches: 0\n"
     ]
    }
   ],
   "execution_count": 41
  },
  {
   "metadata": {},
   "cell_type": "markdown",
   "source": "## Clean up columns of merged data"
  },
  {
   "metadata": {
    "ExecuteTime": {
     "end_time": "2024-06-21T16:18:31.456513Z",
     "start_time": "2024-06-21T16:18:31.453905Z"
    }
   },
   "cell_type": "code",
   "source": "foodb_hmdb_merge_only_name.columns",
   "outputs": [
    {
     "data": {
      "text/plain": [
       "Index(['hmdb_id', 'name', 'description_hmdb', 'chemical_formula',\n",
       "       'mono_mass_hmdb', 'iupac_hmdb', 'cas_number_hmdb', 'smiles_hmdb',\n",
       "       'inchi_hmdb', 'inchikey_hmdb', 'chemspider_id', 'drugbank_id',\n",
       "       'pubchem_compound_id', 'chebi_id_hmdb', 'knapsack_id', 'kegg_id_hmdb',\n",
       "       'wikipedia_id', 'metlin_id', 'biocyc_id', 'bigg_id', 'vmh_id',\n",
       "       'phenol_explorer_compound_id', 'pdb_id', 'foodb_id_internal',\n",
       "       'description_foodb', 'cas_number_foodb', 'smiles_foodb', 'inchi_foodb',\n",
       "       'mono_mass_foodb', 'inchikey_foodb', 'iupac_foodb', 'kingdom',\n",
       "       'superclass', 'class', 'subclass', 'chebi_id_foodb', 'kegg_id_foodb',\n",
       "       'lipid_maps', 'meta_cyc', 'synonym', 'foodb_id'],\n",
       "      dtype='object')"
      ]
     },
     "execution_count": 169,
     "metadata": {},
     "output_type": "execute_result"
    }
   ],
   "execution_count": 169
  },
  {
   "metadata": {
    "ExecuteTime": {
     "end_time": "2024-06-21T16:18:45.182001Z",
     "start_time": "2024-06-21T16:18:31.457396Z"
    }
   },
   "cell_type": "code",
   "source": [
    "# Merge descriptions. Strategy: HMDB seems to be correct more often than FooDB, so go with HMDB info, unless there is only FooDB info available. \n",
    "columns_to_clean = [\"description\", \"mono_mass\", \"iupac\", \"inchi\", \"inchikey\", \"cas_number\", \"smiles\", \"chebi_id\", \"kegg_id\"]\n",
    "\n",
    "for column in columns_to_clean:\n",
    "    column_foodb = column + '_foodb'\n",
    "    column_hmdb = column + '_hmdb'\n",
    "    \n",
    "    foodb_hmdb_merge_only_name[column] = foodb_hmdb_merge_only_name.apply(lambda row: row[column_hmdb] if pd.notna(row[column_hmdb]) else row[column_foodb], axis=1)\n",
    "    foodb_hmdb_merge_only_name = foodb_hmdb_merge_only_name.drop(columns=[column_foodb, column_hmdb])\n",
    "    \n",
    "    if column == 'chebi_id':\n",
    "        foodb_hmdb_merge_only_name[column] = foodb_hmdb_merge_only_name[column].apply(lambda x: x.strip('CHEBI:') if pd.notna(x) else x)"
   ],
   "outputs": [],
   "execution_count": 170
  },
  {
   "metadata": {
    "ExecuteTime": {
     "end_time": "2024-06-21T16:18:45.185958Z",
     "start_time": "2024-06-21T16:18:45.183135Z"
    }
   },
   "cell_type": "code",
   "source": "foodb_hmdb_merge_only_name.columns",
   "outputs": [
    {
     "data": {
      "text/plain": [
       "Index(['hmdb_id', 'name', 'chemical_formula', 'chemspider_id', 'drugbank_id',\n",
       "       'pubchem_compound_id', 'knapsack_id', 'wikipedia_id', 'metlin_id',\n",
       "       'biocyc_id', 'bigg_id', 'vmh_id', 'phenol_explorer_compound_id',\n",
       "       'pdb_id', 'foodb_id_internal', 'kingdom', 'superclass', 'class',\n",
       "       'subclass', 'lipid_maps', 'meta_cyc', 'synonym', 'foodb_id',\n",
       "       'description', 'mono_mass', 'iupac', 'inchi', 'inchikey', 'cas_number',\n",
       "       'smiles', 'chebi_id', 'kegg_id'],\n",
       "      dtype='object')"
      ]
     },
     "execution_count": 171,
     "metadata": {},
     "output_type": "execute_result"
    }
   ],
   "execution_count": 171
  },
  {
   "cell_type": "code",
   "source": "foodb_hmdb_merge_only_name.to_csv(f'{processed_data_folder}/foodb_hmdb.csv', index=False)",
   "metadata": {
    "collapsed": false,
    "ExecuteTime": {
     "end_time": "2024-06-21T16:19:00.861836Z",
     "start_time": "2024-06-21T16:18:51.056164Z"
    }
   },
   "outputs": [],
   "execution_count": 173
  },
  {
   "cell_type": "markdown",
   "source": [
    "## Conclusion:\n",
    "* Match was most successful if using only the name cast to lower case\n",
    "* Various problems are likely due to incorrect entries in HMDB and the fact that the FooDB version that can be downloaded from the website is not up to date, which is probably why HMDB has a higher count of unique FooDB IDs than FooDB\n",
    "* The process has been adjusted so that there are no duplicate matches"
   ],
   "metadata": {
    "collapsed": false
   }
  },
  {
   "cell_type": "code",
   "execution_count": null,
   "source": [],
   "metadata": {
    "collapsed": false
   },
   "outputs": []
  }
 ],
 "metadata": {
  "kernelspec": {
   "display_name": "Python 3",
   "language": "python",
   "name": "python3"
  },
  "language_info": {
   "codemirror_mode": {
    "name": "ipython",
    "version": 2
   },
   "file_extension": ".py",
   "mimetype": "text/x-python",
   "name": "python",
   "nbconvert_exporter": "python",
   "pygments_lexer": "ipython2",
   "version": "2.7.6"
  }
 },
 "nbformat": 4,
 "nbformat_minor": 0
}
