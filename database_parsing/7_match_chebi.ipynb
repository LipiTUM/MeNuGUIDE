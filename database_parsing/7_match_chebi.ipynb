{
 "cells": [
  {
   "cell_type": "markdown",
   "source": [
    "#*MeNu GUIDE*\n",
    "\n",
    "# Matching ChEBI\n",
    "This merging is a bit more difficult, as ChEBI does not contain many FooDB, HMDB or MarkerDB identifiers. The three metioned databases do contain ChEBI identifiers, but those do not necessarily match up.\n",
    "\n",
    "At first I wanted to split the ChEBI dataframe into multiple ones, depending on if the rows has an HMDB ID or FooDB ID or none of those two and then merge. Unfortunately though, there are unqiue ChEBI molecules with the same HMDB/FooDB identifiers. So I decided to merge just on the ChEBI ID. As merging based on the ChEBI ID provided by HMDB yields better results than the one provided by FooDB, the former was performed."
   ],
   "metadata": {
    "collapsed": false
   }
  },
  {
   "cell_type": "code",
   "source": [
    "import os.path\n",
    "import pandas as pd"
   ],
   "metadata": {
    "collapsed": false,
    "ExecuteTime": {
     "end_time": "2024-06-23T13:36:18.387058Z",
     "start_time": "2024-06-23T13:36:18.075567Z"
    }
   },
   "outputs": [],
   "execution_count": 1
  },
  {
   "metadata": {},
   "cell_type": "code",
   "outputs": [],
   "execution_count": null,
   "source": "processed_data_folder = \"/path/to/processed/data/folder/\""
  },
  {
   "cell_type": "code",
   "source": [
    "chebi = pd.read_csv(os.path.join(processed_data_folder, 'chebi_compounds_with_accession.csv'), dtype={'chebi_id': 'string', 'pdb_id': 'string'})\n",
    "merged_databases = pd.read_csv(os.path.join(processed_data_folder, 'foodb_hmdb_markerdb.csv'), dtype={'drugbank_id': 'string', 'knapsack_id': 'string', 'wikipedia_id': 'string', 'biocyc_id': 'string', 'vmh_id': 'string', 'pdb_id': 'string', 'description': 'string', 'cas_number': 'string', 'kingdom': 'string', 'superclass': 'string', 'class': 'string', 'subclass': 'string', 'chebi_id': 'string', 'kegg_id': 'string','lipid_maps': 'string', 'meta_cyc': 'string', 'synonym': 'string', 'foodb_id': 'string', 'markerdb_id': 'string'})"
   ],
   "metadata": {
    "collapsed": false,
    "ExecuteTime": {
     "end_time": "2024-06-23T13:36:24.349842Z",
     "start_time": "2024-06-23T13:36:18.465169Z"
    }
   },
   "outputs": [],
   "execution_count": 2
  },
  {
   "metadata": {},
   "cell_type": "markdown",
   "source": "## Check for ChEBI IDs via name"
  },
  {
   "metadata": {
    "ExecuteTime": {
     "end_time": "2024-06-23T13:36:25.722173Z",
     "start_time": "2024-06-23T13:36:24.350683Z"
    }
   },
   "cell_type": "code",
   "source": [
    "chebi['name'] = chebi.name.str.lower()\n",
    "chebi['name'] = chebi.name.str.strip()\n",
    "chebi_name_dict = chebi[['name', 'chebi_id']].set_index('name').to_dict()\n",
    "chebi_name_dict = chebi_name_dict['chebi_id']\n",
    "merged_databases['chebi_id'] = merged_databases.apply(lambda row: chebi_name_dict[row['name']] if row['name'] in chebi_name_dict else row.chebi_id, axis=1)"
   ],
   "outputs": [],
   "execution_count": 3
  },
  {
   "metadata": {},
   "cell_type": "markdown",
   "source": "## Merge dataframes"
  },
  {
   "cell_type": "code",
   "source": "merged_chebi = merged_databases.merge(chebi, how='outer', on='chebi_id', suffixes=['', '_chebi'])",
   "metadata": {
    "collapsed": false,
    "ExecuteTime": {
     "end_time": "2024-06-23T13:36:26.941234Z",
     "start_time": "2024-06-23T13:36:25.722694Z"
    }
   },
   "outputs": [],
   "execution_count": 4
  },
  {
   "cell_type": "markdown",
   "source": [
    "## Clean Up Data"
   ],
   "metadata": {
    "collapsed": false
   }
  },
  {
   "metadata": {},
   "cell_type": "markdown",
   "source": "### HMDB ID"
  },
  {
   "metadata": {
    "ExecuteTime": {
     "end_time": "2024-06-23T13:36:26.965131Z",
     "start_time": "2024-06-23T13:36:26.942454Z"
    }
   },
   "cell_type": "code",
   "source": "hmdb_ids = set(merged_chebi['hmdb_id'].unique())",
   "outputs": [],
   "execution_count": 5
  },
  {
   "metadata": {
    "ExecuteTime": {
     "end_time": "2024-06-23T13:36:27.002770Z",
     "start_time": "2024-06-23T13:36:26.965785Z"
    }
   },
   "cell_type": "code",
   "source": [
    "# this is to make sure that we don't introduce any duplicates\n",
    "merged_chebi['hmdb_id_chebi'] = merged_chebi.hmdb_id_chebi.apply(lambda x: None if x in hmdb_ids else x)"
   ],
   "outputs": [],
   "execution_count": 6
  },
  {
   "metadata": {},
   "cell_type": "markdown",
   "source": "### FooDB ID"
  },
  {
   "metadata": {
    "ExecuteTime": {
     "end_time": "2024-06-23T13:36:27.046566Z",
     "start_time": "2024-06-23T13:36:27.003459Z"
    }
   },
   "cell_type": "code",
   "source": "foodb_ids = set(merged_chebi['foodb_id'].unique())",
   "outputs": [],
   "execution_count": 7
  },
  {
   "metadata": {
    "ExecuteTime": {
     "end_time": "2024-06-23T13:36:27.083048Z",
     "start_time": "2024-06-23T13:36:27.047502Z"
    }
   },
   "cell_type": "code",
   "source": "merged_chebi['foodb_id_chebi'] = merged_chebi.foodb_id_chebi.apply(lambda x: None if x in foodb_ids else x)",
   "outputs": [],
   "execution_count": 8
  },
  {
   "metadata": {},
   "cell_type": "markdown",
   "source": "### Other columns"
  },
  {
   "metadata": {
    "ExecuteTime": {
     "end_time": "2024-06-23T13:36:27.085551Z",
     "start_time": "2024-06-23T13:36:27.083690Z"
    }
   },
   "cell_type": "code",
   "source": "columns_to_clean = ['name', 'hmdb_id', 'foodb_id', 'description', 'cas_number', 'chemspider_id', 'drugbank_id', 'kegg_id', 'knapsack_id', 'lipid_maps', 'pubchem_compound_id', 'pdb_id', 'wikipedia_id', 'chemical_formula', 'mono_mass', 'inchi', 'smiles']",
   "outputs": [],
   "execution_count": 9
  },
  {
   "metadata": {
    "ExecuteTime": {
     "end_time": "2024-06-23T13:36:58.140854Z",
     "start_time": "2024-06-23T13:36:27.086139Z"
    }
   },
   "cell_type": "code",
   "source": [
    "for column in columns_to_clean:\n",
    "    column_chebi = column + '_chebi'\n",
    "    \n",
    "    merged_chebi[column] = merged_chebi.apply(lambda row: row[column] if pd.notna(row[column]) else row[column_chebi], axis=1)\n",
    "    merged_chebi = merged_chebi.drop(columns=[column_chebi])"
   ],
   "outputs": [],
   "execution_count": 10
  },
  {
   "metadata": {
    "ExecuteTime": {
     "end_time": "2024-06-23T13:36:58.355618Z",
     "start_time": "2024-06-23T13:36:58.143413Z"
    }
   },
   "cell_type": "code",
   "source": "merged_chebi = merged_chebi[~(merged_chebi.chebi_id.notna() & merged_chebi.name.isna())]",
   "outputs": [],
   "execution_count": 11
  },
  {
   "cell_type": "code",
   "source": "merged_chebi.to_csv(os.path.join(processed_data_folder,'foodb_hmdb_markerdb_chebi.csv'), index=False)",
   "metadata": {
    "collapsed": false,
    "ExecuteTime": {
     "end_time": "2024-06-23T13:37:06.067794Z",
     "start_time": "2024-06-23T13:36:58.424064Z"
    }
   },
   "outputs": [],
   "execution_count": 14
  },
  {
   "cell_type": "code",
   "execution_count": null,
   "outputs": [],
   "source": [],
   "metadata": {
    "collapsed": false
   }
  }
 ],
 "metadata": {
  "kernelspec": {
   "display_name": "Python 3",
   "language": "python",
   "name": "python3"
  },
  "language_info": {
   "codemirror_mode": {
    "name": "ipython",
    "version": 2
   },
   "file_extension": ".py",
   "mimetype": "text/x-python",
   "name": "python",
   "nbconvert_exporter": "python",
   "pygments_lexer": "ipython2",
   "version": "2.7.6"
  }
 },
 "nbformat": 4,
 "nbformat_minor": 0
}
