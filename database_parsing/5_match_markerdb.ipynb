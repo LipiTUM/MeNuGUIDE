{
 "cells": [
  {
   "cell_type": "markdown",
   "source": [
    "*MeNu GUIDE*\n",
    "\n",
    "# Matching MarkerDB\n",
    "As a first step HMDB was merged with FooDB. Now the merged dataset will be further matched with MarkerDB."
   ],
   "metadata": {
    "collapsed": false
   }
  },
  {
   "cell_type": "code",
   "source": [
    "import pandas as pd"
   ],
   "metadata": {
    "collapsed": false,
    "ExecuteTime": {
     "end_time": "2024-06-21T16:11:10.048321Z",
     "start_time": "2024-06-21T16:11:09.487030Z"
    }
   },
   "outputs": [],
   "execution_count": 1
  },
  {
   "metadata": {},
   "cell_type": "code",
   "outputs": [],
   "execution_count": null,
   "source": "processed_data_folder = \"/path/to/processed/data/folder/\""
  },
  {
   "cell_type": "code",
   "source": [
    "foodb_hmdb = pd.read_csv(f'{processed_data_folder}foodb_hmdb.csv', dtype={'drugbank_id': 'string', 'knapsack_id': 'string', 'wikipedia_id': 'string', 'biocyc_id': 'string', 'vmh_id': 'string', 'pdb_id': 'string', 'description': 'string', 'cas_number': 'string', 'kingdom': 'string', 'superclass': 'string', 'class': 'string', 'subclass': 'string', 'chebi_id': 'string', 'kegg_id': 'string','lipid_maps': 'string', 'meta_cyc': 'string', 'synonym': 'string', 'foodb_id': 'string'})\n",
    "\n",
    "markerdb = pd.read_csv(f\"{processed_data_folder}markerdb_compounds.csv\")"
   ],
   "metadata": {
    "collapsed": false,
    "ExecuteTime": {
     "end_time": "2024-06-21T17:57:42.261163Z",
     "start_time": "2024-06-21T17:57:34.719313Z"
    }
   },
   "outputs": [],
   "execution_count": 72
  },
  {
   "metadata": {},
   "cell_type": "markdown",
   "source": "## Merge via hmdb_id"
  },
  {
   "metadata": {
    "ExecuteTime": {
     "end_time": "2024-06-21T17:57:42.268441Z",
     "start_time": "2024-06-21T17:57:42.262998Z"
    }
   },
   "cell_type": "code",
   "source": [
    "markerdb = markerdb[['name', 'description', 'hmdb', 'moldb_smiles', 'moldb_formula', 'moldb_inchi', 'moldb_inchikey', 'moldb_iupac', 'moldb_mono_mass', 'mdbid']]\n",
    "markerdb = markerdb.rename(columns={'mdbid': 'markerdb_id', 'hmdb': 'hmdb_id', 'moldb_smiles': 'smiles', 'moldb_formula': 'chemical_formula', 'moldb_inchi': 'inchi', 'moldb_inchikey': 'inchikey', 'moldb_iupac': 'iupac', 'moldb_mono_mass': 'mono_mass'})\n",
    "markerdb['name'] = markerdb['name'].str.lower()"
   ],
   "outputs": [],
   "execution_count": 73
  },
  {
   "cell_type": "code",
   "source": [
    "# We don't have any rows that do not contain an HMDB ID from the MarkerDB database, so we can just perform the merge\n",
    "df_merge = foodb_hmdb.merge(markerdb, how='outer', on='hmdb_id', suffixes=['', '_markerdb'])"
   ],
   "metadata": {
    "collapsed": false,
    "ExecuteTime": {
     "end_time": "2024-06-21T17:57:43.264766Z",
     "start_time": "2024-06-21T17:57:42.269674Z"
    }
   },
   "outputs": [],
   "execution_count": 74
  },
  {
   "metadata": {},
   "cell_type": "markdown",
   "source": "## Clean up dataframe"
  },
  {
   "metadata": {
    "ExecuteTime": {
     "end_time": "2024-06-21T17:58:18.531976Z",
     "start_time": "2024-06-21T17:58:18.527384Z"
    }
   },
   "cell_type": "code",
   "source": "df_merge.columns",
   "outputs": [
    {
     "data": {
      "text/plain": [
       "Index(['hmdb_id', 'name', 'chemical_formula', 'chemspider_id', 'drugbank_id',\n",
       "       'pubchem_compound_id', 'knapsack_id', 'wikipedia_id', 'metlin_id',\n",
       "       'biocyc_id', 'bigg_id', 'vmh_id', 'phenol_explorer_compound_id',\n",
       "       'pdb_id', 'foodb_id_internal', 'kingdom', 'superclass', 'class',\n",
       "       'subclass', 'lipid_maps', 'meta_cyc', 'synonym', 'foodb_id',\n",
       "       'description', 'mono_mass', 'iupac', 'inchi', 'inchikey', 'cas_number',\n",
       "       'smiles', 'chebi_id', 'kegg_id', 'markerdb_id'],\n",
       "      dtype='object')"
      ]
     },
     "execution_count": 77,
     "metadata": {},
     "output_type": "execute_result"
    }
   ],
   "execution_count": 77
  },
  {
   "metadata": {
    "ExecuteTime": {
     "end_time": "2024-06-21T17:57:54.846781Z",
     "start_time": "2024-06-21T17:57:43.271375Z"
    }
   },
   "cell_type": "code",
   "source": [
    "# Merge descriptions. Strategy: HMDB seems to be correct more often than FooDB, so go with HMDB info, unless there is only FooDB info available. \n",
    "columns_to_clean = ['name', 'description', 'smiles', 'chemical_formula', 'inchi', 'inchikey', 'iupac', 'mono_mass']\n",
    "\n",
    "for column in columns_to_clean:\n",
    "    column_markerdb = column + '_markerdb'\n",
    "    \n",
    "    df_merge[column] = df_merge.apply(lambda row: row[column] if pd.notna(row[column]) else row[column_markerdb], axis=1)\n",
    "    df_merge = df_merge.drop(columns=[column_markerdb])"
   ],
   "outputs": [],
   "execution_count": 76
  },
  {
   "cell_type": "code",
   "source": "df_merge.to_csv(f'{processed_data_folder}foodb_hmdb_markerdb.csv', index=False)",
   "metadata": {
    "collapsed": false,
    "ExecuteTime": {
     "end_time": "2024-06-21T17:58:54.740886Z",
     "start_time": "2024-06-21T17:58:44.652794Z"
    }
   },
   "outputs": [],
   "execution_count": 78
  },
  {
   "cell_type": "code",
   "execution_count": null,
   "source": [],
   "metadata": {
    "collapsed": false
   },
   "outputs": []
  }
 ],
 "metadata": {
  "kernelspec": {
   "display_name": "Python 3",
   "language": "python",
   "name": "python3"
  },
  "language_info": {
   "codemirror_mode": {
    "name": "ipython",
    "version": 2
   },
   "file_extension": ".py",
   "mimetype": "text/x-python",
   "name": "python",
   "nbconvert_exporter": "python",
   "pygments_lexer": "ipython2",
   "version": "2.7.6"
  }
 },
 "nbformat": 4,
 "nbformat_minor": 0
}
