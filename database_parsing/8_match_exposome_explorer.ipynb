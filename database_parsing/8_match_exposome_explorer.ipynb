{
 "cells": [
  {
   "cell_type": "markdown",
   "source": [
    "*MeNu GUIDE*\n",
    "\n",
    "# Match Exposome Explorer"
   ],
   "metadata": {
    "collapsed": false
   }
  },
  {
   "cell_type": "code",
   "source": [
    "import os.path\n",
    "import pandas as pd"
   ],
   "metadata": {
    "collapsed": false,
    "ExecuteTime": {
     "end_time": "2024-06-23T13:38:40.683136Z",
     "start_time": "2024-06-23T13:38:40.420950Z"
    }
   },
   "outputs": [],
   "execution_count": 1
  },
  {
   "metadata": {},
   "cell_type": "code",
   "outputs": [],
   "execution_count": null,
   "source": [
    "exposome_explorer_folder = '/path/to/exposome_explorer/data/folder/'\n",
    "processed_data_folder = \"/path/to/processed/data/folder/\""
   ]
  },
  {
   "cell_type": "code",
   "source": [
    "merged_databases = pd.read_csv(os.path.join(processed_data_folder, 'foodb_hmdb_markerdb_chebi.csv'), dtype={'drugbank_id': 'string', 'knapsack_id': 'string', 'wikipedia_id': 'string', 'biocyc_id': 'string', 'vmh_id': 'string', 'pdb_id': 'string', 'description': 'string', 'cas_number': 'string', 'kingdom': 'string', 'superclass': 'string', 'class': 'string', 'subclass': 'string', 'chebi_id': 'string', 'kegg_id': 'string','lipid_maps': 'string', 'meta_cyc': 'string', 'synonym': 'string', 'foodb_id': 'string', 'markerdb_id': 'string'})\n",
    "\n",
    "exposome_explorer = pd.read_csv(os.path.join(exposome_explorer_folder, 'biomarkers.csv'), dtype={'ChEBI ID': 'string', 'PubChem ID': 'string'})"
   ],
   "metadata": {
    "collapsed": false,
    "ExecuteTime": {
     "end_time": "2024-06-23T13:38:47.456360Z",
     "start_time": "2024-06-23T13:38:41.393950Z"
    }
   },
   "outputs": [],
   "execution_count": 2
  },
  {
   "cell_type": "markdown",
   "source": [
    "## Prepare Exposome Explorer Data"
   ],
   "metadata": {
    "collapsed": false
   }
  },
  {
   "cell_type": "code",
   "source": [
    "exposome_explorer_single = exposome_explorer[exposome_explorer.Level == 'Single']\n",
    "exposome_explorer_single = exposome_explorer_single.drop(columns=['Level', 'Synonyms', 'No. of Publications', 'No. of Concentration values', 'No. of Reproducibility values', 'No. of Correlation values', 'No. of Metabolomic associations', 'No. of Microbiota associations', 'No. of Cancer associations', 'Average mass'])"
   ],
   "metadata": {
    "collapsed": false,
    "ExecuteTime": {
     "end_time": "2024-06-23T13:38:52.839091Z",
     "start_time": "2024-06-23T13:38:52.833996Z"
    }
   },
   "outputs": [],
   "execution_count": 3
  },
  {
   "metadata": {
    "ExecuteTime": {
     "end_time": "2024-06-23T13:38:53.599580Z",
     "start_time": "2024-06-23T13:38:53.595744Z"
    }
   },
   "cell_type": "code",
   "source": "exposome_explorer_single = exposome_explorer_single.rename(columns={'ID': 'exposome_explorer_id', 'Name': 'name_exposome_explorer', 'Classification': 'classification', 'Description': 'description_exposome_explorer', 'CAS Number': 'cas_number_exposome_explorer', 'PubChem ID': 'pubchem_compound_id_exposome_explorer', 'ChEBI ID': 'chebi_id_exposome_explorer', 'FooDB ID': 'foodb_id_exposome_explorer', 'HMDB ID': 'hmdb_id_exposome_explorer', 'SMILES': 'smiles_exposome_explorer', 'Formula': 'chemical_formula_exposome_explorer', 'InChI': 'inchi_exposome_explorer', 'InChIKey': 'inchikey_exposome_explorer', 'Mono. mass': 'mono_mass_exposome_explorer'})",
   "outputs": [],
   "execution_count": 4
  },
  {
   "cell_type": "markdown",
   "source": [
    "## Merge"
   ],
   "metadata": {
    "collapsed": false
   }
  },
  {
   "cell_type": "code",
   "source": [
    "matched_exposome_eplorer_ids = set()\n",
    "\n",
    "def match_exposome_explorer_via_chebi(row):\n",
    "    chebi_id_match = exposome_explorer_single[exposome_explorer_single['chebi_id_exposome_explorer'] == row.chebi_id]\n",
    "    if len(chebi_id_match) > 1:\n",
    "        print('Error: more than one ChEBI match!')\n",
    "    elif len(chebi_id_match) == 1:\n",
    "        matched_exposome_eplorer_ids.add(list(chebi_id_match['exposome_explorer_id'])[0])\n",
    "        return chebi_id_match.iloc[0]\n",
    "    elif len(chebi_id_match) == 0:\n",
    "        return pd.Series(None, index=exposome_explorer_single.columns)\n",
    "\n",
    "def match_exposome_explorer_via_hmdb(row):\n",
    "    if pd.isna(row[\"exposome_explorer_id\"]):\n",
    "        hmdb_id_match = exposome_explorer_single[exposome_explorer_single['hmdb_id_exposome_explorer'] == row.hmdb_id]\n",
    "        if len(hmdb_id_match) > 1:\n",
    "            print('Error: more than one HMDB match!')\n",
    "        elif len(hmdb_id_match) == 1:\n",
    "            ee_id = list(hmdb_id_match['exposome_explorer_id'])[0]\n",
    "            if ee_id not in matched_exposome_eplorer_ids:\n",
    "                matched_exposome_eplorer_ids.add(ee_id)\n",
    "                return hmdb_id_match.iloc[0]\n",
    "            else:\n",
    "                return row[list(exposome_explorer_single.columns)]\n",
    "        elif len(hmdb_id_match) == 0:\n",
    "            return row[list(exposome_explorer_single.columns)]\n",
    "    else: \n",
    "        return row[list(exposome_explorer_single.columns)]\n",
    "\n",
    "def match_exposome_explorer_via_foodb(row):\n",
    "    if pd.isna(row[\"exposome_explorer_id\"]):\n",
    "        foodb_id_match = exposome_explorer_single[exposome_explorer_single['foodb_id_exposome_explorer'] == row.foodb_id]\n",
    "        if len(foodb_id_match) > 1:\n",
    "            print('Error: more than one FooDB match!')\n",
    "        elif len(foodb_id_match) == 1:\n",
    "            ee_id = list(foodb_id_match['exposome_explorer_id'])[0]\n",
    "            if ee_id not in matched_exposome_eplorer_ids:\n",
    "                matched_exposome_eplorer_ids.add(ee_id)\n",
    "                return foodb_id_match.iloc[0]\n",
    "            else:\n",
    "                return row[list(exposome_explorer_single.columns)]\n",
    "        elif len(foodb_id_match) == 0:\n",
    "            return row[list(exposome_explorer_single.columns)]\n",
    "    else: \n",
    "        return row[list(exposome_explorer_single.columns)]\n",
    "\n",
    "def match_exposome_explorer_via_name(row):\n",
    "    if pd.isna(row[\"exposome_explorer_id\"]):\n",
    "        name_match = exposome_explorer_single[exposome_explorer_single['name_exposome_explorer'].str.lower() == row.name]\n",
    "        if len(name_match) > 1:\n",
    "            print('Error: more than one name match!')\n",
    "        elif len(name_match) == 1:\n",
    "            ee_id = list(name_match['exposome_explorer_id'])[0]\n",
    "            if ee_id not in matched_exposome_eplorer_ids:\n",
    "                matched_exposome_eplorer_ids.add(ee_id)\n",
    "                return name_match.iloc[0]\n",
    "            else:\n",
    "                return row[list(exposome_explorer_single.columns)]\n",
    "        elif len(name_match) == 0:\n",
    "            return row[list(exposome_explorer_single.columns)]\n",
    "    else: \n",
    "        return row[list(exposome_explorer_single.columns)]"
   ],
   "metadata": {
    "collapsed": false,
    "ExecuteTime": {
     "end_time": "2024-06-23T13:38:54.890581Z",
     "start_time": "2024-06-23T13:38:54.885658Z"
    }
   },
   "outputs": [],
   "execution_count": 5
  },
  {
   "cell_type": "code",
   "source": [
    "merged_databases[exposome_explorer_single.columns] = merged_databases.apply(match_exposome_explorer_via_chebi, axis=1)\n",
    "merged_databases[exposome_explorer_single.columns] = merged_databases.apply(match_exposome_explorer_via_hmdb, axis=1)\n",
    "merged_databases[exposome_explorer_single.columns] = merged_databases.apply(match_exposome_explorer_via_foodb, axis=1)\n",
    "merged_databases[exposome_explorer_single.columns] = merged_databases.apply(match_exposome_explorer_via_name, axis=1)"
   ],
   "metadata": {
    "collapsed": false,
    "ExecuteTime": {
     "end_time": "2024-06-23T13:44:42.605257Z",
     "start_time": "2024-06-23T13:38:55.580078Z"
    }
   },
   "outputs": [],
   "execution_count": 6
  },
  {
   "cell_type": "code",
   "source": [
    "len(matched_exposome_eplorer_ids)"
   ],
   "metadata": {
    "collapsed": false,
    "ExecuteTime": {
     "end_time": "2024-06-23T13:44:42.609264Z",
     "start_time": "2024-06-23T13:44:42.606326Z"
    }
   },
   "outputs": [
    {
     "data": {
      "text/plain": [
       "697"
      ]
     },
     "execution_count": 7,
     "metadata": {},
     "output_type": "execute_result"
    }
   ],
   "execution_count": 7
  },
  {
   "metadata": {
    "ExecuteTime": {
     "end_time": "2024-06-23T13:44:42.614576Z",
     "start_time": "2024-06-23T13:44:42.609923Z"
    }
   },
   "cell_type": "code",
   "source": "len(exposome_explorer_single)",
   "outputs": [
    {
     "data": {
      "text/plain": [
       "980"
      ]
     },
     "execution_count": 8,
     "metadata": {},
     "output_type": "execute_result"
    }
   ],
   "execution_count": 8
  },
  {
   "cell_type": "code",
   "source": [
    "unmatched_exposome_eplorer = exposome_explorer_single[~exposome_explorer_single.exposome_explorer_id.isin(matched_exposome_eplorer_ids)]\n",
    "unmatched_exposome_eplorer = unmatched_exposome_eplorer.reindex(columns=merged_databases.columns)\n",
    "unmatched_exposome_eplorer"
   ],
   "metadata": {
    "collapsed": false,
    "ExecuteTime": {
     "end_time": "2024-06-23T13:44:42.626583Z",
     "start_time": "2024-06-23T13:44:42.615665Z"
    }
   },
   "outputs": [
    {
     "data": {
      "text/plain": [
       "      hmdb_id  name  chemical_formula  chemspider_id  drugbank_id  \\\n",
       "47        NaN   NaN               NaN            NaN          NaN   \n",
       "56        NaN   NaN               NaN            NaN          NaN   \n",
       "57        NaN   NaN               NaN            NaN          NaN   \n",
       "80        NaN   NaN               NaN            NaN          NaN   \n",
       "82        NaN   NaN               NaN            NaN          NaN   \n",
       "...       ...   ...               ...            ...          ...   \n",
       "1200      NaN   NaN               NaN            NaN          NaN   \n",
       "1201      NaN   NaN               NaN            NaN          NaN   \n",
       "1202      NaN   NaN               NaN            NaN          NaN   \n",
       "1208      NaN   NaN               NaN            NaN          NaN   \n",
       "1210      NaN   NaN               NaN            NaN          NaN   \n",
       "\n",
       "      pubchem_compound_id  knapsack_id  wikipedia_id  metlin_id  biocyc_id  \\\n",
       "47                    NaN          NaN           NaN        NaN        NaN   \n",
       "56                    NaN          NaN           NaN        NaN        NaN   \n",
       "57                    NaN          NaN           NaN        NaN        NaN   \n",
       "80                    NaN          NaN           NaN        NaN        NaN   \n",
       "82                    NaN          NaN           NaN        NaN        NaN   \n",
       "...                   ...          ...           ...        ...        ...   \n",
       "1200                  NaN          NaN           NaN        NaN        NaN   \n",
       "1201                  NaN          NaN           NaN        NaN        NaN   \n",
       "1202                  NaN          NaN           NaN        NaN        NaN   \n",
       "1208                  NaN          NaN           NaN        NaN        NaN   \n",
       "1210                  NaN          NaN           NaN        NaN        NaN   \n",
       "\n",
       "      ...  cas_number_exposome_explorer  \\\n",
       "47    ...                    26539-01-5   \n",
       "56    ...                           NaN   \n",
       "57    ...                    81690-92-8   \n",
       "80    ...                     2528-16-7   \n",
       "82    ...                    40321-99-1   \n",
       "...   ...                           ...   \n",
       "1200  ...                       84-81-1   \n",
       "1201  ...                      523-40-0   \n",
       "1202  ...                    19228-10-5   \n",
       "1208  ...                           NaN   \n",
       "1210  ...                           NaN   \n",
       "\n",
       "      pubchem_compound_id_exposome_explorer  chebi_id_exposome_explorer  \\\n",
       "47                                   161525                        <NA>   \n",
       "56                                     <NA>                        <NA>   \n",
       "57                                 71312850                        <NA>   \n",
       "80                                    31736                        <NA>   \n",
       "82                                   170295                        <NA>   \n",
       "...                                     ...                         ...   \n",
       "1200                                5283547                        <NA>   \n",
       "1201                                9988135                        <NA>   \n",
       "1202                                6442190                        <NA>   \n",
       "1208                                   <NA>                        <NA>   \n",
       "1210                                   <NA>                        <NA>   \n",
       "\n",
       "      foodb_id_exposome_explorer  hmdb_id_exposome_explorer  \\\n",
       "47                           NaN                        NaN   \n",
       "56                           NaN                        NaN   \n",
       "57                           NaN                        NaN   \n",
       "80                           NaN                        NaN   \n",
       "82                           NaN                        NaN   \n",
       "...                          ...                        ...   \n",
       "1200                         NaN                        NaN   \n",
       "1201                         NaN                        NaN   \n",
       "1202                         NaN                        NaN   \n",
       "1208                         NaN                        NaN   \n",
       "1210                         NaN                        NaN   \n",
       "\n",
       "                               smiles_exposome_explorer  \\\n",
       "47                            OC(=O)CCC1=CC(O)=CC(O)=C1   \n",
       "56                    CC(=O)N[C@H](CSCC(O)C(N)=O)C(O)=O   \n",
       "57                       CC(=O)N[C@H](CSCCC(N)=O)C(O)=O   \n",
       "80                  OC(=O)C1=CC=CC=C1C(=O)OCC1=CC=CC=C1   \n",
       "82                 CCC(CCC(C)O)COC(=O)C1=CC=CC=C1C(O)=O   \n",
       "...                                                 ...   \n",
       "1200  [H]\\C(CC\\C(C)=C(/[H])CC\\C(C)=C(/[H])CC\\C(C)=C(...   \n",
       "1201  CC(C)=CCC\\C(C)=C\\CC\\C(C)=C\\CC\\C(C)=C\\CC\\C(C)=C...   \n",
       "1202  CC(C)=CCC\\C(C)=C\\CC\\C(C)=C\\CC\\C(C)=C\\CC\\C(C)=C...   \n",
       "1208                                                NaN   \n",
       "1210                                                NaN   \n",
       "\n",
       "      chemical_formula_exposome_explorer  \\\n",
       "47                               C9H10O4   \n",
       "56                            C8H14N2O5S   \n",
       "57                            C8H14N2O4S   \n",
       "80                              C15H12O4   \n",
       "82                              C16H22O5   \n",
       "...                                  ...   \n",
       "1200                            C41H56O2   \n",
       "1201                            C61H88O2   \n",
       "1202                            C66H96O2   \n",
       "1208                                 NaN   \n",
       "1210                                 NaN   \n",
       "\n",
       "                                inchi_exposome_explorer  \\\n",
       "47    InChI=1S/C9H10O4/c10-7-3-6(1-2-9(12)13)4-8(11)...   \n",
       "56    InChI=1S/C8H14N2O5S/c1-4(11)10-5(8(14)15)2-16-...   \n",
       "57    InChI=1S/C8H14N2O4S/c1-5(11)10-6(8(13)14)4-15-...   \n",
       "80    InChI=1S/C15H12O4/c16-14(17)12-8-4-5-9-13(12)1...   \n",
       "82    InChI=1S/C16H22O5/c1-3-12(9-8-11(2)17)10-21-16...   \n",
       "...                                                 ...   \n",
       "1200  InChI=1S/C41H56O2/c1-30(2)16-11-17-31(3)18-12-...   \n",
       "1201  InChI=1S/C61H88O2/c1-46(2)24-15-25-47(3)26-16-...   \n",
       "1202  InChI=1S/C66H96O2/c1-50(2)26-16-27-51(3)28-17-...   \n",
       "1208                                                NaN   \n",
       "1210                                                NaN   \n",
       "\n",
       "       inchikey_exposome_explorer  mono_mass_exposome_explorer  \n",
       "47    ITPFIKQWNDGDLG-UHFFFAOYSA-N                   182.057909  \n",
       "56    GFVUOIIZUCFXSF-LWOQYNTDSA-N                   250.062343  \n",
       "57    GGBCHNJZQQEQRX-ZCFIWIBFSA-N                   234.067428  \n",
       "80    XIKIUQUXDNHBFR-UHFFFAOYSA-N                   256.073559  \n",
       "82    RYPQSGURZSTFSX-UHFFFAOYSA-N                   294.146724  \n",
       "...                           ...                          ...  \n",
       "1200  PFRQBZFETXBLTP-RCIYGOBDSA-N                   580.428031  \n",
       "1201  OCQQATZYCNAKQB-UQUNHUMXSA-N                   852.678432  \n",
       "1202  YYDMANIEKFAEJC-RYZSZPJESA-N                   920.741032  \n",
       "1208                          NaN                          NaN  \n",
       "1210                          NaN                          NaN  \n",
       "\n",
       "[283 rows x 48 columns]"
      ],
      "text/html": [
       "<div>\n",
       "<style scoped>\n",
       "    .dataframe tbody tr th:only-of-type {\n",
       "        vertical-align: middle;\n",
       "    }\n",
       "\n",
       "    .dataframe tbody tr th {\n",
       "        vertical-align: top;\n",
       "    }\n",
       "\n",
       "    .dataframe thead th {\n",
       "        text-align: right;\n",
       "    }\n",
       "</style>\n",
       "<table border=\"1\" class=\"dataframe\">\n",
       "  <thead>\n",
       "    <tr style=\"text-align: right;\">\n",
       "      <th></th>\n",
       "      <th>hmdb_id</th>\n",
       "      <th>name</th>\n",
       "      <th>chemical_formula</th>\n",
       "      <th>chemspider_id</th>\n",
       "      <th>drugbank_id</th>\n",
       "      <th>pubchem_compound_id</th>\n",
       "      <th>knapsack_id</th>\n",
       "      <th>wikipedia_id</th>\n",
       "      <th>metlin_id</th>\n",
       "      <th>biocyc_id</th>\n",
       "      <th>...</th>\n",
       "      <th>cas_number_exposome_explorer</th>\n",
       "      <th>pubchem_compound_id_exposome_explorer</th>\n",
       "      <th>chebi_id_exposome_explorer</th>\n",
       "      <th>foodb_id_exposome_explorer</th>\n",
       "      <th>hmdb_id_exposome_explorer</th>\n",
       "      <th>smiles_exposome_explorer</th>\n",
       "      <th>chemical_formula_exposome_explorer</th>\n",
       "      <th>inchi_exposome_explorer</th>\n",
       "      <th>inchikey_exposome_explorer</th>\n",
       "      <th>mono_mass_exposome_explorer</th>\n",
       "    </tr>\n",
       "  </thead>\n",
       "  <tbody>\n",
       "    <tr>\n",
       "      <th>47</th>\n",
       "      <td>NaN</td>\n",
       "      <td>NaN</td>\n",
       "      <td>NaN</td>\n",
       "      <td>NaN</td>\n",
       "      <td>NaN</td>\n",
       "      <td>NaN</td>\n",
       "      <td>NaN</td>\n",
       "      <td>NaN</td>\n",
       "      <td>NaN</td>\n",
       "      <td>NaN</td>\n",
       "      <td>...</td>\n",
       "      <td>26539-01-5</td>\n",
       "      <td>161525</td>\n",
       "      <td>&lt;NA&gt;</td>\n",
       "      <td>NaN</td>\n",
       "      <td>NaN</td>\n",
       "      <td>OC(=O)CCC1=CC(O)=CC(O)=C1</td>\n",
       "      <td>C9H10O4</td>\n",
       "      <td>InChI=1S/C9H10O4/c10-7-3-6(1-2-9(12)13)4-8(11)...</td>\n",
       "      <td>ITPFIKQWNDGDLG-UHFFFAOYSA-N</td>\n",
       "      <td>182.057909</td>\n",
       "    </tr>\n",
       "    <tr>\n",
       "      <th>56</th>\n",
       "      <td>NaN</td>\n",
       "      <td>NaN</td>\n",
       "      <td>NaN</td>\n",
       "      <td>NaN</td>\n",
       "      <td>NaN</td>\n",
       "      <td>NaN</td>\n",
       "      <td>NaN</td>\n",
       "      <td>NaN</td>\n",
       "      <td>NaN</td>\n",
       "      <td>NaN</td>\n",
       "      <td>...</td>\n",
       "      <td>NaN</td>\n",
       "      <td>&lt;NA&gt;</td>\n",
       "      <td>&lt;NA&gt;</td>\n",
       "      <td>NaN</td>\n",
       "      <td>NaN</td>\n",
       "      <td>CC(=O)N[C@H](CSCC(O)C(N)=O)C(O)=O</td>\n",
       "      <td>C8H14N2O5S</td>\n",
       "      <td>InChI=1S/C8H14N2O5S/c1-4(11)10-5(8(14)15)2-16-...</td>\n",
       "      <td>GFVUOIIZUCFXSF-LWOQYNTDSA-N</td>\n",
       "      <td>250.062343</td>\n",
       "    </tr>\n",
       "    <tr>\n",
       "      <th>57</th>\n",
       "      <td>NaN</td>\n",
       "      <td>NaN</td>\n",
       "      <td>NaN</td>\n",
       "      <td>NaN</td>\n",
       "      <td>NaN</td>\n",
       "      <td>NaN</td>\n",
       "      <td>NaN</td>\n",
       "      <td>NaN</td>\n",
       "      <td>NaN</td>\n",
       "      <td>NaN</td>\n",
       "      <td>...</td>\n",
       "      <td>81690-92-8</td>\n",
       "      <td>71312850</td>\n",
       "      <td>&lt;NA&gt;</td>\n",
       "      <td>NaN</td>\n",
       "      <td>NaN</td>\n",
       "      <td>CC(=O)N[C@H](CSCCC(N)=O)C(O)=O</td>\n",
       "      <td>C8H14N2O4S</td>\n",
       "      <td>InChI=1S/C8H14N2O4S/c1-5(11)10-6(8(13)14)4-15-...</td>\n",
       "      <td>GGBCHNJZQQEQRX-ZCFIWIBFSA-N</td>\n",
       "      <td>234.067428</td>\n",
       "    </tr>\n",
       "    <tr>\n",
       "      <th>80</th>\n",
       "      <td>NaN</td>\n",
       "      <td>NaN</td>\n",
       "      <td>NaN</td>\n",
       "      <td>NaN</td>\n",
       "      <td>NaN</td>\n",
       "      <td>NaN</td>\n",
       "      <td>NaN</td>\n",
       "      <td>NaN</td>\n",
       "      <td>NaN</td>\n",
       "      <td>NaN</td>\n",
       "      <td>...</td>\n",
       "      <td>2528-16-7</td>\n",
       "      <td>31736</td>\n",
       "      <td>&lt;NA&gt;</td>\n",
       "      <td>NaN</td>\n",
       "      <td>NaN</td>\n",
       "      <td>OC(=O)C1=CC=CC=C1C(=O)OCC1=CC=CC=C1</td>\n",
       "      <td>C15H12O4</td>\n",
       "      <td>InChI=1S/C15H12O4/c16-14(17)12-8-4-5-9-13(12)1...</td>\n",
       "      <td>XIKIUQUXDNHBFR-UHFFFAOYSA-N</td>\n",
       "      <td>256.073559</td>\n",
       "    </tr>\n",
       "    <tr>\n",
       "      <th>82</th>\n",
       "      <td>NaN</td>\n",
       "      <td>NaN</td>\n",
       "      <td>NaN</td>\n",
       "      <td>NaN</td>\n",
       "      <td>NaN</td>\n",
       "      <td>NaN</td>\n",
       "      <td>NaN</td>\n",
       "      <td>NaN</td>\n",
       "      <td>NaN</td>\n",
       "      <td>NaN</td>\n",
       "      <td>...</td>\n",
       "      <td>40321-99-1</td>\n",
       "      <td>170295</td>\n",
       "      <td>&lt;NA&gt;</td>\n",
       "      <td>NaN</td>\n",
       "      <td>NaN</td>\n",
       "      <td>CCC(CCC(C)O)COC(=O)C1=CC=CC=C1C(O)=O</td>\n",
       "      <td>C16H22O5</td>\n",
       "      <td>InChI=1S/C16H22O5/c1-3-12(9-8-11(2)17)10-21-16...</td>\n",
       "      <td>RYPQSGURZSTFSX-UHFFFAOYSA-N</td>\n",
       "      <td>294.146724</td>\n",
       "    </tr>\n",
       "    <tr>\n",
       "      <th>...</th>\n",
       "      <td>...</td>\n",
       "      <td>...</td>\n",
       "      <td>...</td>\n",
       "      <td>...</td>\n",
       "      <td>...</td>\n",
       "      <td>...</td>\n",
       "      <td>...</td>\n",
       "      <td>...</td>\n",
       "      <td>...</td>\n",
       "      <td>...</td>\n",
       "      <td>...</td>\n",
       "      <td>...</td>\n",
       "      <td>...</td>\n",
       "      <td>...</td>\n",
       "      <td>...</td>\n",
       "      <td>...</td>\n",
       "      <td>...</td>\n",
       "      <td>...</td>\n",
       "      <td>...</td>\n",
       "      <td>...</td>\n",
       "      <td>...</td>\n",
       "    </tr>\n",
       "    <tr>\n",
       "      <th>1200</th>\n",
       "      <td>NaN</td>\n",
       "      <td>NaN</td>\n",
       "      <td>NaN</td>\n",
       "      <td>NaN</td>\n",
       "      <td>NaN</td>\n",
       "      <td>NaN</td>\n",
       "      <td>NaN</td>\n",
       "      <td>NaN</td>\n",
       "      <td>NaN</td>\n",
       "      <td>NaN</td>\n",
       "      <td>...</td>\n",
       "      <td>84-81-1</td>\n",
       "      <td>5283547</td>\n",
       "      <td>&lt;NA&gt;</td>\n",
       "      <td>NaN</td>\n",
       "      <td>NaN</td>\n",
       "      <td>[H]\\C(CC\\C(C)=C(/[H])CC\\C(C)=C(/[H])CC\\C(C)=C(...</td>\n",
       "      <td>C41H56O2</td>\n",
       "      <td>InChI=1S/C41H56O2/c1-30(2)16-11-17-31(3)18-12-...</td>\n",
       "      <td>PFRQBZFETXBLTP-RCIYGOBDSA-N</td>\n",
       "      <td>580.428031</td>\n",
       "    </tr>\n",
       "    <tr>\n",
       "      <th>1201</th>\n",
       "      <td>NaN</td>\n",
       "      <td>NaN</td>\n",
       "      <td>NaN</td>\n",
       "      <td>NaN</td>\n",
       "      <td>NaN</td>\n",
       "      <td>NaN</td>\n",
       "      <td>NaN</td>\n",
       "      <td>NaN</td>\n",
       "      <td>NaN</td>\n",
       "      <td>NaN</td>\n",
       "      <td>...</td>\n",
       "      <td>523-40-0</td>\n",
       "      <td>9988135</td>\n",
       "      <td>&lt;NA&gt;</td>\n",
       "      <td>NaN</td>\n",
       "      <td>NaN</td>\n",
       "      <td>CC(C)=CCC\\C(C)=C\\CC\\C(C)=C\\CC\\C(C)=C\\CC\\C(C)=C...</td>\n",
       "      <td>C61H88O2</td>\n",
       "      <td>InChI=1S/C61H88O2/c1-46(2)24-15-25-47(3)26-16-...</td>\n",
       "      <td>OCQQATZYCNAKQB-UQUNHUMXSA-N</td>\n",
       "      <td>852.678432</td>\n",
       "    </tr>\n",
       "    <tr>\n",
       "      <th>1202</th>\n",
       "      <td>NaN</td>\n",
       "      <td>NaN</td>\n",
       "      <td>NaN</td>\n",
       "      <td>NaN</td>\n",
       "      <td>NaN</td>\n",
       "      <td>NaN</td>\n",
       "      <td>NaN</td>\n",
       "      <td>NaN</td>\n",
       "      <td>NaN</td>\n",
       "      <td>NaN</td>\n",
       "      <td>...</td>\n",
       "      <td>19228-10-5</td>\n",
       "      <td>6442190</td>\n",
       "      <td>&lt;NA&gt;</td>\n",
       "      <td>NaN</td>\n",
       "      <td>NaN</td>\n",
       "      <td>CC(C)=CCC\\C(C)=C\\CC\\C(C)=C\\CC\\C(C)=C\\CC\\C(C)=C...</td>\n",
       "      <td>C66H96O2</td>\n",
       "      <td>InChI=1S/C66H96O2/c1-50(2)26-16-27-51(3)28-17-...</td>\n",
       "      <td>YYDMANIEKFAEJC-RYZSZPJESA-N</td>\n",
       "      <td>920.741032</td>\n",
       "    </tr>\n",
       "    <tr>\n",
       "      <th>1208</th>\n",
       "      <td>NaN</td>\n",
       "      <td>NaN</td>\n",
       "      <td>NaN</td>\n",
       "      <td>NaN</td>\n",
       "      <td>NaN</td>\n",
       "      <td>NaN</td>\n",
       "      <td>NaN</td>\n",
       "      <td>NaN</td>\n",
       "      <td>NaN</td>\n",
       "      <td>NaN</td>\n",
       "      <td>...</td>\n",
       "      <td>NaN</td>\n",
       "      <td>&lt;NA&gt;</td>\n",
       "      <td>&lt;NA&gt;</td>\n",
       "      <td>NaN</td>\n",
       "      <td>NaN</td>\n",
       "      <td>NaN</td>\n",
       "      <td>NaN</td>\n",
       "      <td>NaN</td>\n",
       "      <td>NaN</td>\n",
       "      <td>NaN</td>\n",
       "    </tr>\n",
       "    <tr>\n",
       "      <th>1210</th>\n",
       "      <td>NaN</td>\n",
       "      <td>NaN</td>\n",
       "      <td>NaN</td>\n",
       "      <td>NaN</td>\n",
       "      <td>NaN</td>\n",
       "      <td>NaN</td>\n",
       "      <td>NaN</td>\n",
       "      <td>NaN</td>\n",
       "      <td>NaN</td>\n",
       "      <td>NaN</td>\n",
       "      <td>...</td>\n",
       "      <td>NaN</td>\n",
       "      <td>&lt;NA&gt;</td>\n",
       "      <td>&lt;NA&gt;</td>\n",
       "      <td>NaN</td>\n",
       "      <td>NaN</td>\n",
       "      <td>NaN</td>\n",
       "      <td>NaN</td>\n",
       "      <td>NaN</td>\n",
       "      <td>NaN</td>\n",
       "      <td>NaN</td>\n",
       "    </tr>\n",
       "  </tbody>\n",
       "</table>\n",
       "<p>283 rows × 48 columns</p>\n",
       "</div>"
      ]
     },
     "execution_count": 9,
     "metadata": {},
     "output_type": "execute_result"
    }
   ],
   "execution_count": 9
  },
  {
   "cell_type": "code",
   "source": "all_data_merge = pd.concat([merged_databases, unmatched_exposome_eplorer])",
   "metadata": {
    "collapsed": false,
    "ExecuteTime": {
     "end_time": "2024-06-23T13:44:42.887388Z",
     "start_time": "2024-06-23T13:44:42.627238Z"
    }
   },
   "outputs": [
    {
     "name": "stderr",
     "output_type": "stream",
     "text": [
      "/var/folders/t7/3lkh5kq93tq79dxpjy9vqc_m0000gn/T/ipykernel_32640/4041069675.py:1: FutureWarning: The behavior of DataFrame concatenation with empty or all-NA entries is deprecated. In a future version, this will no longer exclude empty or all-NA columns when determining the result dtypes. To retain the old behavior, exclude the relevant entries before the concat operation.\n",
      "  all_data_merge = pd.concat([merged_databases, unmatched_exposome_eplorer])\n"
     ]
    }
   ],
   "execution_count": 10
  },
  {
   "cell_type": "code",
   "source": [
    "all_data_merge.info()"
   ],
   "metadata": {
    "collapsed": false,
    "ExecuteTime": {
     "end_time": "2024-06-23T13:44:43.313481Z",
     "start_time": "2024-06-23T13:44:42.888254Z"
    }
   },
   "outputs": [
    {
     "name": "stdout",
     "output_type": "stream",
     "text": [
      "<class 'pandas.core.frame.DataFrame'>\n",
      "Index: 404154 entries, 0 to 1210\n",
      "Data columns (total 48 columns):\n",
      " #   Column                                 Non-Null Count   Dtype  \n",
      "---  ------                                 --------------   -----  \n",
      " 0   hmdb_id                                218847 non-null  object \n",
      " 1   name                                   403871 non-null  object \n",
      " 2   chemical_formula                       264262 non-null  object \n",
      " 3   chemspider_id                          76904 non-null   float64\n",
      " 4   drugbank_id                            5187 non-null    string \n",
      " 5   pubchem_compound_id                    104206 non-null  float64\n",
      " 6   knapsack_id                            11328 non-null   string \n",
      " 7   wikipedia_id                           10538 non-null   string \n",
      " 8   metlin_id                              1554 non-null    float64\n",
      " 9   biocyc_id                              2634 non-null    string \n",
      " 10  bigg_id                                682 non-null     float64\n",
      " 11  vmh_id                                 1534 non-null    string \n",
      " 12  phenol_explorer_compound_id            335 non-null     float64\n",
      " 13  pdb_id                                 628 non-null     string \n",
      " 14  foodb_id_internal                      70477 non-null   float64\n",
      " 15  kingdom                                4384 non-null    string \n",
      " 16  superclass                             4384 non-null    string \n",
      " 17  class                                  4350 non-null    string \n",
      " 18  subclass                               3901 non-null    string \n",
      " 19  lipid_maps                             12903 non-null   string \n",
      " 20  meta_cyc                               215 non-null     string \n",
      " 21  synonym                                201 non-null     string \n",
      " 22  foodb_id                               70502 non-null   string \n",
      " 23  description                            250602 non-null  string \n",
      " 24  mono_mass                              270093 non-null  float64\n",
      " 25  iupac                                  221418 non-null  object \n",
      " 26  inchi                                  374999 non-null  object \n",
      " 27  inchikey                               224865 non-null  object \n",
      " 28  cas_number                             41114 non-null   string \n",
      " 29  smiles                                 384415 non-null  object \n",
      " 30  chebi_id                               207606 non-null  string \n",
      " 31  kegg_id                                18871 non-null   string \n",
      " 32  markerdb_id                            878 non-null     string \n",
      " 33  stars_chebi                            207531 non-null  float64\n",
      " 34  exposome_explorer_id                   1056 non-null    float64\n",
      " 35  name_exposome_explorer                 1056 non-null    object \n",
      " 36  classification                         1053 non-null    object \n",
      " 37  description_exposome_explorer          310 non-null     object \n",
      " 38  cas_number_exposome_explorer           936 non-null     object \n",
      " 39  pubchem_compound_id_exposome_explorer  963 non-null     object \n",
      " 40  chebi_id_exposome_explorer             736 non-null     object \n",
      " 41  foodb_id_exposome_explorer             637 non-null     object \n",
      " 42  hmdb_id_exposome_explorer              675 non-null     object \n",
      " 43  smiles_exposome_explorer               1048 non-null    object \n",
      " 44  chemical_formula_exposome_explorer     1048 non-null    object \n",
      " 45  inchi_exposome_explorer                1048 non-null    object \n",
      " 46  inchikey_exposome_explorer             1048 non-null    object \n",
      " 47  mono_mass_exposome_explorer            1048 non-null    float64\n",
      "dtypes: float64(10), object(19), string(19)\n",
      "memory usage: 151.1+ MB\n"
     ]
    }
   ],
   "execution_count": 11
  },
  {
   "metadata": {},
   "cell_type": "markdown",
   "source": "## Clean up merged dataframe"
  },
  {
   "metadata": {
    "ExecuteTime": {
     "end_time": "2024-06-23T13:44:43.675818Z",
     "start_time": "2024-06-23T13:44:43.315394Z"
    }
   },
   "cell_type": "code",
   "source": "all_data_merge = all_data_merge.drop(columns=['hmdb_id_exposome_explorer', 'foodb_id_exposome_explorer', 'chebi_id_exposome_explorer'])",
   "outputs": [],
   "execution_count": 12
  },
  {
   "metadata": {
    "ExecuteTime": {
     "end_time": "2024-06-23T13:44:59.754797Z",
     "start_time": "2024-06-23T13:44:43.676531Z"
    }
   },
   "cell_type": "code",
   "source": [
    "columns_to_clean = ['name', 'description', 'cas_number', 'pubchem_compound_id', 'chemical_formula', 'mono_mass', 'inchi', 'inchikey', 'smiles']\n",
    "\n",
    "for column in columns_to_clean:\n",
    "    column_ee = column + '_exposome_explorer'\n",
    "\n",
    "    all_data_merge[column] = all_data_merge.apply(lambda row: row[column] if pd.notna(row[column]) else row[column_ee], axis=1)\n",
    "    all_data_merge = all_data_merge.drop(columns=[column_ee])"
   ],
   "outputs": [],
   "execution_count": 13
  },
  {
   "cell_type": "code",
   "source": "all_data_merge['name'] = all_data_merge['name'].apply(lambda x: x.lower())",
   "metadata": {
    "collapsed": false,
    "ExecuteTime": {
     "end_time": "2024-06-23T13:44:59.801721Z",
     "start_time": "2024-06-23T13:44:59.755541Z"
    }
   },
   "outputs": [],
   "execution_count": 14
  },
  {
   "cell_type": "code",
   "source": "all_data_merge.to_csv(os.path.join(processed_data_folder, 'foodb_hmdb_markerdb_chebi_exposomeexplorer.csv'), index=False)",
   "metadata": {
    "collapsed": false,
    "ExecuteTime": {
     "end_time": "2024-06-23T13:45:07.753356Z",
     "start_time": "2024-06-23T13:44:59.803492Z"
    }
   },
   "outputs": [],
   "execution_count": 15
  },
  {
   "cell_type": "code",
   "execution_count": null,
   "source": [],
   "metadata": {
    "collapsed": false
   },
   "outputs": []
  }
 ],
 "metadata": {
  "kernelspec": {
   "display_name": "Python 3",
   "language": "python",
   "name": "python3"
  },
  "language_info": {
   "codemirror_mode": {
    "name": "ipython",
    "version": 2
   },
   "file_extension": ".py",
   "mimetype": "text/x-python",
   "name": "python",
   "nbconvert_exporter": "python",
   "pygments_lexer": "ipython2",
   "version": "2.7.6"
  }
 },
 "nbformat": 4,
 "nbformat_minor": 0
}
