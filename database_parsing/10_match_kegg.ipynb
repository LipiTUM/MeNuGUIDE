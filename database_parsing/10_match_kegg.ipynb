{
 "cells": [
  {
   "cell_type": "markdown",
   "source": [
    "*MeNu GUIDE*\n",
    "\n",
    "# Match KEGG"
   ],
   "metadata": {
    "collapsed": false
   }
  },
  {
   "cell_type": "code",
   "source": [
    "import pandas as pd\n",
    "import os"
   ],
   "metadata": {
    "collapsed": false,
    "ExecuteTime": {
     "end_time": "2024-06-23T14:04:22.633021Z",
     "start_time": "2024-06-23T14:04:22.333767Z"
    }
   },
   "outputs": [],
   "execution_count": 1
  },
  {
   "metadata": {},
   "cell_type": "code",
   "outputs": [],
   "execution_count": null,
   "source": [
    "kegg_folder = '/path/to/kegg/data/folder/'\n",
    "processed_data_folder = \"/path/to/processed/data/folder/\""
   ]
  },
  {
   "cell_type": "code",
   "source": [
    "merged_data = pd.read_csv(os.path.join(processed_data_folder, 'foodb_hmdb_markerdb_chebi_exposomeexplorer.csv'), dtype={'drugbank_id': 'string', 'knapsack_id': 'string', 'wikipedia_id': 'string', 'biocyc_id': 'string', 'vmh_id': 'string', 'pdb_id': 'string', 'description': 'string', 'cas_number': 'string', 'kingdom': 'string', 'superclass': 'string', 'class': 'string', 'subclass': 'string', 'chebi_id': 'string', 'kegg_id': 'string','lipid_maps': 'string', 'meta_cyc': 'string', 'synonym': 'string', 'foodb_id': 'string', 'markerdb_id': 'string', 'classification': 'string'})\n",
    "kegg_compounds = pd.read_csv(os.path.join(kegg_folder, 'kegg_compounds_processed.csv'))"
   ],
   "metadata": {
    "collapsed": false,
    "ExecuteTime": {
     "end_time": "2024-06-23T14:04:28.934552Z",
     "start_time": "2024-06-23T14:04:22.825571Z"
    }
   },
   "outputs": [],
   "execution_count": 2
  },
  {
   "metadata": {},
   "cell_type": "markdown",
   "source": "## Prepare kegg dataframe"
  },
  {
   "metadata": {
    "ExecuteTime": {
     "end_time": "2024-06-23T14:04:28.941010Z",
     "start_time": "2024-06-23T14:04:28.935444Z"
    }
   },
   "cell_type": "code",
   "source": "kegg_compounds = kegg_compounds.drop(columns=['molecular_weight', 'NIKKAJI', '3DMET', 'Drug group', 'PubChem_subtance_id', 'PDB-CCD', 'pubchem_name'])",
   "outputs": [],
   "execution_count": 3
  },
  {
   "metadata": {
    "ExecuteTime": {
     "end_time": "2024-06-23T14:04:28.946402Z",
     "start_time": "2024-06-23T14:04:28.941594Z"
    }
   },
   "cell_type": "code",
   "source": "kegg_compounds = kegg_compounds.rename(columns={'entry_id': 'kegg_id', 'formula': 'chemical_formula', 'exact_mass': 'mono_mass', 'inchi_key': 'inchikey', 'LIPIDMAPS': 'lipid_maps', 'KNApSAcK': 'knapsack_id', 'ChEBI': 'chebi_id', 'CAS': 'cas_number'})",
   "outputs": [],
   "execution_count": 4
  },
  {
   "metadata": {},
   "cell_type": "markdown",
   "source": "## Prepare merged dataframe"
  },
  {
   "metadata": {
    "ExecuteTime": {
     "end_time": "2024-06-23T14:04:30.834060Z",
     "start_time": "2024-06-23T14:04:28.947729Z"
    }
   },
   "cell_type": "code",
   "source": [
    "kegg_compounds['name'] = kegg_compounds.name.str.lower()\n",
    "kegg_compounds['name'] = kegg_compounds.name.str.strip()\n",
    "kegg_name_dict = kegg_compounds[['name', 'kegg_id']].set_index('name').to_dict()\n",
    "kegg_name_dict = kegg_name_dict['kegg_id']\n",
    "merged_data['kegg_id'] = merged_data.apply(lambda row: (kegg_name_dict[row['name']] if row['name'] in kegg_name_dict else float('NaN')) if pd.isna(row.kegg_id) else row.kegg_id, axis=1)"
   ],
   "outputs": [],
   "execution_count": 5
  },
  {
   "metadata": {},
   "cell_type": "markdown",
   "source": "## Check duplicate KEGG IDs in merged dataset"
  },
  {
   "metadata": {
    "ExecuteTime": {
     "end_time": "2024-06-23T14:04:30.855989Z",
     "start_time": "2024-06-23T14:04:30.834695Z"
    }
   },
   "cell_type": "code",
   "source": "merged_data[(merged_data.kegg_id.duplicated()) & (merged_data.kegg_id.notna())][['name', 'kegg_id']]",
   "outputs": [
    {
     "data": {
      "text/plain": [
       "                        name kegg_id\n",
       "154                  tannase  C05079\n",
       "2292                  cedrol  C09631\n",
       "2394           sulfadimidine  C19530\n",
       "10170              norharman  C20157\n",
       "16767     2-oxopent-4-enoate  C00596\n",
       "...                      ...     ...\n",
       "401903  sorbitol 6-phosphate  C01096\n",
       "401932                sulfur  C00087\n",
       "403746                tricin  C10193\n",
       "403764           udp-glucose  C00029\n",
       "404152                pterin  C00715\n",
       "\n",
       "[3819 rows x 2 columns]"
      ],
      "text/html": [
       "<div>\n",
       "<style scoped>\n",
       "    .dataframe tbody tr th:only-of-type {\n",
       "        vertical-align: middle;\n",
       "    }\n",
       "\n",
       "    .dataframe tbody tr th {\n",
       "        vertical-align: top;\n",
       "    }\n",
       "\n",
       "    .dataframe thead th {\n",
       "        text-align: right;\n",
       "    }\n",
       "</style>\n",
       "<table border=\"1\" class=\"dataframe\">\n",
       "  <thead>\n",
       "    <tr style=\"text-align: right;\">\n",
       "      <th></th>\n",
       "      <th>name</th>\n",
       "      <th>kegg_id</th>\n",
       "    </tr>\n",
       "  </thead>\n",
       "  <tbody>\n",
       "    <tr>\n",
       "      <th>154</th>\n",
       "      <td>tannase</td>\n",
       "      <td>C05079</td>\n",
       "    </tr>\n",
       "    <tr>\n",
       "      <th>2292</th>\n",
       "      <td>cedrol</td>\n",
       "      <td>C09631</td>\n",
       "    </tr>\n",
       "    <tr>\n",
       "      <th>2394</th>\n",
       "      <td>sulfadimidine</td>\n",
       "      <td>C19530</td>\n",
       "    </tr>\n",
       "    <tr>\n",
       "      <th>10170</th>\n",
       "      <td>norharman</td>\n",
       "      <td>C20157</td>\n",
       "    </tr>\n",
       "    <tr>\n",
       "      <th>16767</th>\n",
       "      <td>2-oxopent-4-enoate</td>\n",
       "      <td>C00596</td>\n",
       "    </tr>\n",
       "    <tr>\n",
       "      <th>...</th>\n",
       "      <td>...</td>\n",
       "      <td>...</td>\n",
       "    </tr>\n",
       "    <tr>\n",
       "      <th>401903</th>\n",
       "      <td>sorbitol 6-phosphate</td>\n",
       "      <td>C01096</td>\n",
       "    </tr>\n",
       "    <tr>\n",
       "      <th>401932</th>\n",
       "      <td>sulfur</td>\n",
       "      <td>C00087</td>\n",
       "    </tr>\n",
       "    <tr>\n",
       "      <th>403746</th>\n",
       "      <td>tricin</td>\n",
       "      <td>C10193</td>\n",
       "    </tr>\n",
       "    <tr>\n",
       "      <th>403764</th>\n",
       "      <td>udp-glucose</td>\n",
       "      <td>C00029</td>\n",
       "    </tr>\n",
       "    <tr>\n",
       "      <th>404152</th>\n",
       "      <td>pterin</td>\n",
       "      <td>C00715</td>\n",
       "    </tr>\n",
       "  </tbody>\n",
       "</table>\n",
       "<p>3819 rows × 2 columns</p>\n",
       "</div>"
      ]
     },
     "execution_count": 6,
     "metadata": {},
     "output_type": "execute_result"
    }
   ],
   "execution_count": 6
  },
  {
   "metadata": {
    "ExecuteTime": {
     "end_time": "2024-06-23T14:04:30.865619Z",
     "start_time": "2024-06-23T14:04:30.856596Z"
    }
   },
   "cell_type": "code",
   "source": "merged_data[merged_data.kegg_id == \"C00596\"][['name', 'hmdb_id', 'foodb_id', 'chebi_id', 'kegg_id']]",
   "outputs": [
    {
     "data": {
      "text/plain": [
       "                                       name hmdb_id foodb_id chebi_id kegg_id\n",
       "11610   cis-2-hydroxypenta-2,4-dienoic acid     NaN     <NA>     1113  C00596\n",
       "16767                    2-oxopent-4-enoate     NaN     <NA>    11641  C00596\n",
       "148362          2-hydroxypenta-2,4-dienoate     NaN     <NA>    37319  C00596"
      ],
      "text/html": [
       "<div>\n",
       "<style scoped>\n",
       "    .dataframe tbody tr th:only-of-type {\n",
       "        vertical-align: middle;\n",
       "    }\n",
       "\n",
       "    .dataframe tbody tr th {\n",
       "        vertical-align: top;\n",
       "    }\n",
       "\n",
       "    .dataframe thead th {\n",
       "        text-align: right;\n",
       "    }\n",
       "</style>\n",
       "<table border=\"1\" class=\"dataframe\">\n",
       "  <thead>\n",
       "    <tr style=\"text-align: right;\">\n",
       "      <th></th>\n",
       "      <th>name</th>\n",
       "      <th>hmdb_id</th>\n",
       "      <th>foodb_id</th>\n",
       "      <th>chebi_id</th>\n",
       "      <th>kegg_id</th>\n",
       "    </tr>\n",
       "  </thead>\n",
       "  <tbody>\n",
       "    <tr>\n",
       "      <th>11610</th>\n",
       "      <td>cis-2-hydroxypenta-2,4-dienoic acid</td>\n",
       "      <td>NaN</td>\n",
       "      <td>&lt;NA&gt;</td>\n",
       "      <td>1113</td>\n",
       "      <td>C00596</td>\n",
       "    </tr>\n",
       "    <tr>\n",
       "      <th>16767</th>\n",
       "      <td>2-oxopent-4-enoate</td>\n",
       "      <td>NaN</td>\n",
       "      <td>&lt;NA&gt;</td>\n",
       "      <td>11641</td>\n",
       "      <td>C00596</td>\n",
       "    </tr>\n",
       "    <tr>\n",
       "      <th>148362</th>\n",
       "      <td>2-hydroxypenta-2,4-dienoate</td>\n",
       "      <td>NaN</td>\n",
       "      <td>&lt;NA&gt;</td>\n",
       "      <td>37319</td>\n",
       "      <td>C00596</td>\n",
       "    </tr>\n",
       "  </tbody>\n",
       "</table>\n",
       "</div>"
      ]
     },
     "execution_count": 7,
     "metadata": {},
     "output_type": "execute_result"
    }
   ],
   "execution_count": 7
  },
  {
   "metadata": {
    "ExecuteTime": {
     "end_time": "2024-06-23T14:04:30.871717Z",
     "start_time": "2024-06-23T14:04:30.866122Z"
    }
   },
   "cell_type": "code",
   "source": "kegg_compounds[kegg_compounds.kegg_id == \"C00596\"]",
   "outputs": [
    {
     "data": {
      "text/plain": [
       "    kegg_id                         name chemical_formula  mono_mass  \\\n",
       "545  C00596  2-hydroxy-2,4-pentadienoate           C5H6O3   114.0317   \n",
       "\n",
       "    lipid_maps knapsack_id          chebi_id   cas_number  \\\n",
       "545        NaN         NaN  1113 11641 37319  159694-16-3   \n",
       "\n",
       "     pubchem_compound_id           smiles  \\\n",
       "545            5280361.0  C=CC=C(C(=O)O)O   \n",
       "\n",
       "                                                 inchi  \\\n",
       "545  InChI=1S/C5H6O3/c1-2-3-4(6)5(7)8/h2-3,6H,1H2,(...   \n",
       "\n",
       "                        inchikey  \n",
       "545  VHTQQDXPNUTMNB-ONEGZZNKSA-N  "
      ],
      "text/html": [
       "<div>\n",
       "<style scoped>\n",
       "    .dataframe tbody tr th:only-of-type {\n",
       "        vertical-align: middle;\n",
       "    }\n",
       "\n",
       "    .dataframe tbody tr th {\n",
       "        vertical-align: top;\n",
       "    }\n",
       "\n",
       "    .dataframe thead th {\n",
       "        text-align: right;\n",
       "    }\n",
       "</style>\n",
       "<table border=\"1\" class=\"dataframe\">\n",
       "  <thead>\n",
       "    <tr style=\"text-align: right;\">\n",
       "      <th></th>\n",
       "      <th>kegg_id</th>\n",
       "      <th>name</th>\n",
       "      <th>chemical_formula</th>\n",
       "      <th>mono_mass</th>\n",
       "      <th>lipid_maps</th>\n",
       "      <th>knapsack_id</th>\n",
       "      <th>chebi_id</th>\n",
       "      <th>cas_number</th>\n",
       "      <th>pubchem_compound_id</th>\n",
       "      <th>smiles</th>\n",
       "      <th>inchi</th>\n",
       "      <th>inchikey</th>\n",
       "    </tr>\n",
       "  </thead>\n",
       "  <tbody>\n",
       "    <tr>\n",
       "      <th>545</th>\n",
       "      <td>C00596</td>\n",
       "      <td>2-hydroxy-2,4-pentadienoate</td>\n",
       "      <td>C5H6O3</td>\n",
       "      <td>114.0317</td>\n",
       "      <td>NaN</td>\n",
       "      <td>NaN</td>\n",
       "      <td>1113 11641 37319</td>\n",
       "      <td>159694-16-3</td>\n",
       "      <td>5280361.0</td>\n",
       "      <td>C=CC=C(C(=O)O)O</td>\n",
       "      <td>InChI=1S/C5H6O3/c1-2-3-4(6)5(7)8/h2-3,6H,1H2,(...</td>\n",
       "      <td>VHTQQDXPNUTMNB-ONEGZZNKSA-N</td>\n",
       "    </tr>\n",
       "  </tbody>\n",
       "</table>\n",
       "</div>"
      ]
     },
     "execution_count": 8,
     "metadata": {},
     "output_type": "execute_result"
    }
   ],
   "execution_count": 8
  },
  {
   "metadata": {},
   "cell_type": "markdown",
   "source": "Seems like there are multiple correct chebi_ids for one kegg_entry, probably a hierarchy & stereoisomer issue. So I can't really remove any identifier and I will just leave duplicated kegg_ids. "
  },
  {
   "metadata": {},
   "cell_type": "markdown",
   "source": "## Merge datasets"
  },
  {
   "cell_type": "code",
   "source": "merged_data_kegg = merged_data.merge(kegg_compounds, on='kegg_id', how='outer', suffixes=['', '_kegg'])",
   "metadata": {
    "collapsed": false,
    "ExecuteTime": {
     "end_time": "2024-06-23T14:04:31.785970Z",
     "start_time": "2024-06-23T14:04:30.872372Z"
    }
   },
   "outputs": [],
   "execution_count": 9
  },
  {
   "cell_type": "code",
   "source": "merged_data_kegg[(merged_data_kegg.kegg_id.notna()) & (merged_data_kegg.name_kegg.isna())][['name', 'hmdb_id', 'foodb_id', 'chebi_id', 'kegg_id']]",
   "metadata": {
    "collapsed": false,
    "ExecuteTime": {
     "end_time": "2024-06-23T14:04:31.802106Z",
     "start_time": "2024-06-23T14:04:31.786785Z"
    }
   },
   "outputs": [
    {
     "data": {
      "text/plain": [
       "                                     name      hmdb_id   foodb_id chebi_id  \\\n",
       "1262   pip(18:1(11z)/20:4(5z,8z,11z,14z))  HMDB0009967  FDB027154   142272   \n",
       "1263                      pip2(16:0/18:0)  HMDB0010035  FDB027218   145879   \n",
       "1264        pip(16:0/20:4(5z,8z,11z,14z))  HMDB0009931  FDB027120   172859   \n",
       "1265               pip(16:1(9z)/16:1(9z))  HMDB0009939  FDB027126   191649   \n",
       "1266                    pi(16:0/16:1(9z))  HMDB0009779  FDB026969    88396   \n",
       "...                                   ...          ...        ...      ...   \n",
       "22898                        norbolethone  HMDB0006026  FDB023805     <NA>   \n",
       "22899                4-aminohippuric acid  HMDB0001867  FDB022720   104011   \n",
       "22900          difucosyllacto-n-hexaose a  HMDB0006622  FDB024011    88470   \n",
       "22901                   p-lacto-n-hexaose  HMDB0006628  FDB024014     <NA>   \n",
       "22902                            lps core  HMDB0013471  FDB029471    89983   \n",
       "\n",
       "      kegg_id  \n",
       "1262   C00626  \n",
       "1263   C00626  \n",
       "1264   C00626  \n",
       "1265   C00626  \n",
       "1266   C00626  \n",
       "...       ...  \n",
       "22898  D05204  \n",
       "22899  D06890  \n",
       "22900  G01889  \n",
       "22901  G02993  \n",
       "22902   c0338  \n",
       "\n",
       "[218 rows x 5 columns]"
      ],
      "text/html": [
       "<div>\n",
       "<style scoped>\n",
       "    .dataframe tbody tr th:only-of-type {\n",
       "        vertical-align: middle;\n",
       "    }\n",
       "\n",
       "    .dataframe tbody tr th {\n",
       "        vertical-align: top;\n",
       "    }\n",
       "\n",
       "    .dataframe thead th {\n",
       "        text-align: right;\n",
       "    }\n",
       "</style>\n",
       "<table border=\"1\" class=\"dataframe\">\n",
       "  <thead>\n",
       "    <tr style=\"text-align: right;\">\n",
       "      <th></th>\n",
       "      <th>name</th>\n",
       "      <th>hmdb_id</th>\n",
       "      <th>foodb_id</th>\n",
       "      <th>chebi_id</th>\n",
       "      <th>kegg_id</th>\n",
       "    </tr>\n",
       "  </thead>\n",
       "  <tbody>\n",
       "    <tr>\n",
       "      <th>1262</th>\n",
       "      <td>pip(18:1(11z)/20:4(5z,8z,11z,14z))</td>\n",
       "      <td>HMDB0009967</td>\n",
       "      <td>FDB027154</td>\n",
       "      <td>142272</td>\n",
       "      <td>C00626</td>\n",
       "    </tr>\n",
       "    <tr>\n",
       "      <th>1263</th>\n",
       "      <td>pip2(16:0/18:0)</td>\n",
       "      <td>HMDB0010035</td>\n",
       "      <td>FDB027218</td>\n",
       "      <td>145879</td>\n",
       "      <td>C00626</td>\n",
       "    </tr>\n",
       "    <tr>\n",
       "      <th>1264</th>\n",
       "      <td>pip(16:0/20:4(5z,8z,11z,14z))</td>\n",
       "      <td>HMDB0009931</td>\n",
       "      <td>FDB027120</td>\n",
       "      <td>172859</td>\n",
       "      <td>C00626</td>\n",
       "    </tr>\n",
       "    <tr>\n",
       "      <th>1265</th>\n",
       "      <td>pip(16:1(9z)/16:1(9z))</td>\n",
       "      <td>HMDB0009939</td>\n",
       "      <td>FDB027126</td>\n",
       "      <td>191649</td>\n",
       "      <td>C00626</td>\n",
       "    </tr>\n",
       "    <tr>\n",
       "      <th>1266</th>\n",
       "      <td>pi(16:0/16:1(9z))</td>\n",
       "      <td>HMDB0009779</td>\n",
       "      <td>FDB026969</td>\n",
       "      <td>88396</td>\n",
       "      <td>C00626</td>\n",
       "    </tr>\n",
       "    <tr>\n",
       "      <th>...</th>\n",
       "      <td>...</td>\n",
       "      <td>...</td>\n",
       "      <td>...</td>\n",
       "      <td>...</td>\n",
       "      <td>...</td>\n",
       "    </tr>\n",
       "    <tr>\n",
       "      <th>22898</th>\n",
       "      <td>norbolethone</td>\n",
       "      <td>HMDB0006026</td>\n",
       "      <td>FDB023805</td>\n",
       "      <td>&lt;NA&gt;</td>\n",
       "      <td>D05204</td>\n",
       "    </tr>\n",
       "    <tr>\n",
       "      <th>22899</th>\n",
       "      <td>4-aminohippuric acid</td>\n",
       "      <td>HMDB0001867</td>\n",
       "      <td>FDB022720</td>\n",
       "      <td>104011</td>\n",
       "      <td>D06890</td>\n",
       "    </tr>\n",
       "    <tr>\n",
       "      <th>22900</th>\n",
       "      <td>difucosyllacto-n-hexaose a</td>\n",
       "      <td>HMDB0006622</td>\n",
       "      <td>FDB024011</td>\n",
       "      <td>88470</td>\n",
       "      <td>G01889</td>\n",
       "    </tr>\n",
       "    <tr>\n",
       "      <th>22901</th>\n",
       "      <td>p-lacto-n-hexaose</td>\n",
       "      <td>HMDB0006628</td>\n",
       "      <td>FDB024014</td>\n",
       "      <td>&lt;NA&gt;</td>\n",
       "      <td>G02993</td>\n",
       "    </tr>\n",
       "    <tr>\n",
       "      <th>22902</th>\n",
       "      <td>lps core</td>\n",
       "      <td>HMDB0013471</td>\n",
       "      <td>FDB029471</td>\n",
       "      <td>89983</td>\n",
       "      <td>c0338</td>\n",
       "    </tr>\n",
       "  </tbody>\n",
       "</table>\n",
       "<p>218 rows × 5 columns</p>\n",
       "</div>"
      ]
     },
     "execution_count": 10,
     "metadata": {},
     "output_type": "execute_result"
    }
   ],
   "execution_count": 10
  },
  {
   "cell_type": "code",
   "source": [
    "# These compounds don't seem to exist in the KEGG database, so I am going to overwrite them\n",
    "merged_data_kegg['kegg_id'] = merged_data_kegg.apply(lambda row: float('NaN') if (pd.notna(row.kegg_id) & pd.isna(row.name_kegg)) else row.kegg_id, axis=1)"
   ],
   "metadata": {
    "collapsed": false,
    "ExecuteTime": {
     "end_time": "2024-06-23T14:04:34.790560Z",
     "start_time": "2024-06-23T14:04:31.803915Z"
    }
   },
   "outputs": [],
   "execution_count": 11
  },
  {
   "cell_type": "markdown",
   "source": [
    "## Clean up data merge"
   ],
   "metadata": {
    "collapsed": false
   }
  },
  {
   "metadata": {
    "ExecuteTime": {
     "end_time": "2024-06-23T14:04:35.056502Z",
     "start_time": "2024-06-23T14:04:34.791089Z"
    }
   },
   "cell_type": "code",
   "source": "merged_data_kegg = merged_data_kegg.drop(columns=['chebi_id_kegg'])",
   "outputs": [],
   "execution_count": 12
  },
  {
   "metadata": {
    "ExecuteTime": {
     "end_time": "2024-06-23T14:04:51.219114Z",
     "start_time": "2024-06-23T14:04:35.057043Z"
    }
   },
   "cell_type": "code",
   "source": [
    "columns_to_clean = ['name', 'lipid_maps', 'knapsack_id', 'cas_number', 'pubchem_compound_id', 'chemical_formula', 'mono_mass', 'inchi', 'inchikey', 'smiles']\n",
    "\n",
    "for column in columns_to_clean:\n",
    "    column_kegg = column + '_kegg'\n",
    "\n",
    "    merged_data_kegg[column] = merged_data_kegg.apply(lambda row: row[column] if pd.notna(row[column]) else row[column_kegg], axis=1)\n",
    "    merged_data_kegg = merged_data_kegg.drop(columns=[column_kegg])"
   ],
   "outputs": [],
   "execution_count": 13
  },
  {
   "cell_type": "code",
   "source": "merged_data_kegg.to_csv(os.path.join(processed_data_folder, \"foodb_hmdb_markerdb_chebi_exposomeexplorer_kegg.csv\"), index=False)",
   "metadata": {
    "collapsed": false,
    "ExecuteTime": {
     "end_time": "2024-06-23T14:04:58.831285Z",
     "start_time": "2024-06-23T14:04:51.219637Z"
    }
   },
   "outputs": [],
   "execution_count": 14
  },
  {
   "cell_type": "code",
   "source": [],
   "metadata": {
    "collapsed": false,
    "ExecuteTime": {
     "end_time": "2024-06-23T13:19:15.573166Z",
     "start_time": "2024-06-23T13:19:15.571083Z"
    }
   },
   "outputs": [],
   "execution_count": 113
  },
  {
   "metadata": {},
   "cell_type": "code",
   "outputs": [],
   "execution_count": null,
   "source": ""
  }
 ],
 "metadata": {
  "kernelspec": {
   "display_name": "Python 3",
   "language": "python",
   "name": "python3"
  },
  "language_info": {
   "codemirror_mode": {
    "name": "ipython",
    "version": 2
   },
   "file_extension": ".py",
   "mimetype": "text/x-python",
   "name": "python",
   "nbconvert_exporter": "python",
   "pygments_lexer": "ipython2",
   "version": "2.7.6"
  }
 },
 "nbformat": 4,
 "nbformat_minor": 0
}
