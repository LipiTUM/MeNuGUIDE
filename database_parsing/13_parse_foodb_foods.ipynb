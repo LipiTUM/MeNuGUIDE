{
 "cells": [
  {
   "cell_type": "markdown",
   "source": [
    "Nutrition-Disease Knowledge Graph\n",
    "# FooDB Parsing"
   ],
   "metadata": {
    "collapsed": false,
    "pycharm": {
     "name": "#%% md\n"
    }
   }
  },
  {
   "cell_type": "code",
   "source": [
    "import os.path\n",
    "import pandas as pd"
   ],
   "metadata": {
    "collapsed": false,
    "pycharm": {
     "name": "#%%\n"
    },
    "ExecuteTime": {
     "end_time": "2024-06-26T12:26:58.837117Z",
     "start_time": "2024-06-26T12:26:58.323607Z"
    }
   },
   "outputs": [],
   "execution_count": 1
  },
  {
   "metadata": {},
   "cell_type": "markdown",
   "source": "## Food Table"
  },
  {
   "metadata": {},
   "cell_type": "code",
   "outputs": [],
   "execution_count": null,
   "source": [
    "foodb_folder = \"/path/to/downloaded/FooDB/data/\"\n",
    "processed_data_folder = \"/path/to/processed/data/folder/\""
   ]
  },
  {
   "cell_type": "code",
   "source": "food = pd.read_csv(os.path.join(foodb_folder, \"Food.csv\"), dtype={'ncbi_taxonomy_id': 'string', 'itis_id': 'string', 'legacy_id': 'string'})",
   "metadata": {
    "collapsed": false,
    "pycharm": {
     "name": "#%%\n"
    },
    "ExecuteTime": {
     "end_time": "2024-06-26T12:26:59.022535Z",
     "start_time": "2024-06-26T12:26:59.004128Z"
    }
   },
   "outputs": [],
   "execution_count": 2
  },
  {
   "cell_type": "code",
   "source": "food = food[['id', 'name', 'name_scientific', 'description', 'food_type', 'ncbi_taxonomy_id', 'public_id']]",
   "metadata": {
    "collapsed": false,
    "pycharm": {
     "name": "#%%\n"
    },
    "ExecuteTime": {
     "end_time": "2024-06-25T15:24:52.384129Z",
     "start_time": "2024-06-25T15:24:52.380855Z"
    }
   },
   "outputs": [],
   "execution_count": 78
  },
  {
   "metadata": {
    "ExecuteTime": {
     "end_time": "2024-06-25T18:31:29.378163Z",
     "start_time": "2024-06-25T18:31:29.372583Z"
    }
   },
   "cell_type": "code",
   "source": "food",
   "outputs": [
    {
     "data": {
      "text/plain": [
       "       id             name                 name_scientific  \\\n",
       "0       1         Angelica                Angelica keiskei   \n",
       "1       2    Savoy cabbage  Brassica oleracea var. sabauda   \n",
       "2       3    Silver linden                  Tilia argentea   \n",
       "3       4             Kiwi             Actinidia chinensis   \n",
       "4       5           Allium                          Allium   \n",
       "..    ...              ...                             ...   \n",
       "987  1020  Cape gooseberry              Physalis peruviana   \n",
       "988  1021       Herbal tea                             NaN   \n",
       "989  1022         Fish oil                             NaN   \n",
       "990  1023       Taco shell                             NaN   \n",
       "991  1024    Tostada shell                             NaN   \n",
       "\n",
       "                                           description food_type  \\\n",
       "0    Angelica is a genus of about 60 species of tal...    Type 1   \n",
       "1    Savoy cabbage (Brassica oleracea convar. capit...    Type 1   \n",
       "2    Tilia tomentosa (Silver Lime in the UK and Sil...    Type 1   \n",
       "3    The kiwifruit, often shortened to kiwi in many...    Type 1   \n",
       "4    Allium haematochiton is a species of wild onio...    Type 1   \n",
       "..                                                 ...       ...   \n",
       "987  Physalis peruviana, a plant species of the gen...    Type 1   \n",
       "988  Herbal teas are the beverages made from the in...    Type 1   \n",
       "989  Fish oil is oil derived from the tissues of oi...    Type 1   \n",
       "990  The hard-shell or crispy taco is a tradition t...    Type 2   \n",
       "991                                                NaN    Type 2   \n",
       "\n",
       "    ncbi_taxonomy_id  public_id  \n",
       "0             357850  FOOD00001  \n",
       "1            1216010  FOOD00002  \n",
       "2               <NA>  FOOD00003  \n",
       "3               3625  FOOD00004  \n",
       "4               4678  FOOD00005  \n",
       "..               ...        ...  \n",
       "987             <NA>  FOOD00988  \n",
       "988             <NA>  FOOD00989  \n",
       "989             <NA>  FOOD00990  \n",
       "990             <NA>  FOOD00991  \n",
       "991             <NA>  FOOD00992  \n",
       "\n",
       "[992 rows x 7 columns]"
      ],
      "text/html": [
       "<div>\n",
       "<style scoped>\n",
       "    .dataframe tbody tr th:only-of-type {\n",
       "        vertical-align: middle;\n",
       "    }\n",
       "\n",
       "    .dataframe tbody tr th {\n",
       "        vertical-align: top;\n",
       "    }\n",
       "\n",
       "    .dataframe thead th {\n",
       "        text-align: right;\n",
       "    }\n",
       "</style>\n",
       "<table border=\"1\" class=\"dataframe\">\n",
       "  <thead>\n",
       "    <tr style=\"text-align: right;\">\n",
       "      <th></th>\n",
       "      <th>id</th>\n",
       "      <th>name</th>\n",
       "      <th>name_scientific</th>\n",
       "      <th>description</th>\n",
       "      <th>food_type</th>\n",
       "      <th>ncbi_taxonomy_id</th>\n",
       "      <th>public_id</th>\n",
       "    </tr>\n",
       "  </thead>\n",
       "  <tbody>\n",
       "    <tr>\n",
       "      <th>0</th>\n",
       "      <td>1</td>\n",
       "      <td>Angelica</td>\n",
       "      <td>Angelica keiskei</td>\n",
       "      <td>Angelica is a genus of about 60 species of tal...</td>\n",
       "      <td>Type 1</td>\n",
       "      <td>357850</td>\n",
       "      <td>FOOD00001</td>\n",
       "    </tr>\n",
       "    <tr>\n",
       "      <th>1</th>\n",
       "      <td>2</td>\n",
       "      <td>Savoy cabbage</td>\n",
       "      <td>Brassica oleracea var. sabauda</td>\n",
       "      <td>Savoy cabbage (Brassica oleracea convar. capit...</td>\n",
       "      <td>Type 1</td>\n",
       "      <td>1216010</td>\n",
       "      <td>FOOD00002</td>\n",
       "    </tr>\n",
       "    <tr>\n",
       "      <th>2</th>\n",
       "      <td>3</td>\n",
       "      <td>Silver linden</td>\n",
       "      <td>Tilia argentea</td>\n",
       "      <td>Tilia tomentosa (Silver Lime in the UK and Sil...</td>\n",
       "      <td>Type 1</td>\n",
       "      <td>&lt;NA&gt;</td>\n",
       "      <td>FOOD00003</td>\n",
       "    </tr>\n",
       "    <tr>\n",
       "      <th>3</th>\n",
       "      <td>4</td>\n",
       "      <td>Kiwi</td>\n",
       "      <td>Actinidia chinensis</td>\n",
       "      <td>The kiwifruit, often shortened to kiwi in many...</td>\n",
       "      <td>Type 1</td>\n",
       "      <td>3625</td>\n",
       "      <td>FOOD00004</td>\n",
       "    </tr>\n",
       "    <tr>\n",
       "      <th>4</th>\n",
       "      <td>5</td>\n",
       "      <td>Allium</td>\n",
       "      <td>Allium</td>\n",
       "      <td>Allium haematochiton is a species of wild onio...</td>\n",
       "      <td>Type 1</td>\n",
       "      <td>4678</td>\n",
       "      <td>FOOD00005</td>\n",
       "    </tr>\n",
       "    <tr>\n",
       "      <th>...</th>\n",
       "      <td>...</td>\n",
       "      <td>...</td>\n",
       "      <td>...</td>\n",
       "      <td>...</td>\n",
       "      <td>...</td>\n",
       "      <td>...</td>\n",
       "      <td>...</td>\n",
       "    </tr>\n",
       "    <tr>\n",
       "      <th>987</th>\n",
       "      <td>1020</td>\n",
       "      <td>Cape gooseberry</td>\n",
       "      <td>Physalis peruviana</td>\n",
       "      <td>Physalis peruviana, a plant species of the gen...</td>\n",
       "      <td>Type 1</td>\n",
       "      <td>&lt;NA&gt;</td>\n",
       "      <td>FOOD00988</td>\n",
       "    </tr>\n",
       "    <tr>\n",
       "      <th>988</th>\n",
       "      <td>1021</td>\n",
       "      <td>Herbal tea</td>\n",
       "      <td>NaN</td>\n",
       "      <td>Herbal teas are the beverages made from the in...</td>\n",
       "      <td>Type 1</td>\n",
       "      <td>&lt;NA&gt;</td>\n",
       "      <td>FOOD00989</td>\n",
       "    </tr>\n",
       "    <tr>\n",
       "      <th>989</th>\n",
       "      <td>1022</td>\n",
       "      <td>Fish oil</td>\n",
       "      <td>NaN</td>\n",
       "      <td>Fish oil is oil derived from the tissues of oi...</td>\n",
       "      <td>Type 1</td>\n",
       "      <td>&lt;NA&gt;</td>\n",
       "      <td>FOOD00990</td>\n",
       "    </tr>\n",
       "    <tr>\n",
       "      <th>990</th>\n",
       "      <td>1023</td>\n",
       "      <td>Taco shell</td>\n",
       "      <td>NaN</td>\n",
       "      <td>The hard-shell or crispy taco is a tradition t...</td>\n",
       "      <td>Type 2</td>\n",
       "      <td>&lt;NA&gt;</td>\n",
       "      <td>FOOD00991</td>\n",
       "    </tr>\n",
       "    <tr>\n",
       "      <th>991</th>\n",
       "      <td>1024</td>\n",
       "      <td>Tostada shell</td>\n",
       "      <td>NaN</td>\n",
       "      <td>NaN</td>\n",
       "      <td>Type 2</td>\n",
       "      <td>&lt;NA&gt;</td>\n",
       "      <td>FOOD00992</td>\n",
       "    </tr>\n",
       "  </tbody>\n",
       "</table>\n",
       "<p>992 rows × 7 columns</p>\n",
       "</div>"
      ]
     },
     "execution_count": 145,
     "metadata": {},
     "output_type": "execute_result"
    }
   ],
   "execution_count": 145
  },
  {
   "metadata": {
    "ExecuteTime": {
     "end_time": "2024-06-25T13:18:44.215038Z",
     "start_time": "2024-06-25T13:18:44.188676Z"
    }
   },
   "cell_type": "code",
   "source": "food.to_csv(os.path.join(foodb_folder, 'foods_to_map.csv'), index=False)",
   "outputs": [],
   "execution_count": 10
  },
  {
   "metadata": {},
   "cell_type": "markdown",
   "source": [
    "## Food Contents\n",
    "### Process content table"
   ]
  },
  {
   "metadata": {
    "ExecuteTime": {
     "end_time": "2024-06-25T17:39:45.063782Z",
     "start_time": "2024-06-25T17:39:33.197842Z"
    }
   },
   "cell_type": "code",
   "source": "content_table = pd.read_csv(os.path.join(foodb_folder, \"Content.csv\"), dtype={'source_id': int})",
   "outputs": [
    {
     "name": "stderr",
     "output_type": "stream",
     "text": [
      "/var/folders/t7/3lkh5kq93tq79dxpjy9vqc_m0000gn/T/ipykernel_16545/3332432119.py:1: DtypeWarning: Columns (4,5,6,7,8,9,13,14,21,22,24) have mixed types. Specify dtype option on import or set low_memory=False.\n",
      "  content_table = pd.read_csv(\"/Users/vivy/PycharmProjects/MeNuGUIDE/databases/raw/FooDB/data_download/Content.csv\", dtype={'source_id': int})\n"
     ]
    }
   ],
   "execution_count": 130
  },
  {
   "metadata": {
    "ExecuteTime": {
     "end_time": "2024-06-25T17:39:46.314547Z",
     "start_time": "2024-06-25T17:39:45.065728Z"
    }
   },
   "cell_type": "code",
   "source": [
    "print(len(content_table))\n",
    "content_table = content_table[content_table.source_type == 'Compound']\n",
    "print(len(content_table))"
   ],
   "outputs": [
    {
     "name": "stdout",
     "output_type": "stream",
     "text": [
      "5145532\n",
      "5007500\n"
     ]
    }
   ],
   "execution_count": 131
  },
  {
   "metadata": {
    "ExecuteTime": {
     "end_time": "2024-06-25T17:39:46.745267Z",
     "start_time": "2024-06-25T17:39:46.315469Z"
    }
   },
   "cell_type": "code",
   "source": [
    "print(len(content_table))\n",
    "content_table = content_table[content_table.citation_type.isin(['DATABASE', 'EXPERIMENTAL', 'ARTICLE', 'TEXTBOOK'])]\n",
    "print(len(content_table))"
   ],
   "outputs": [
    {
     "name": "stdout",
     "output_type": "stream",
     "text": [
      "5007500\n",
      "790589\n"
     ]
    }
   ],
   "execution_count": 132
  },
  {
   "metadata": {
    "ExecuteTime": {
     "end_time": "2024-06-25T17:39:46.880487Z",
     "start_time": "2024-06-25T17:39:46.746606Z"
    }
   },
   "cell_type": "code",
   "source": [
    "print(len(content_table))\n",
    "content_table = content_table[content_table.orig_unit.notna()]\n",
    "print(len(content_table))"
   ],
   "outputs": [
    {
     "name": "stdout",
     "output_type": "stream",
     "text": [
      "790589\n",
      "719726\n"
     ]
    }
   ],
   "execution_count": 133
  },
  {
   "metadata": {
    "ExecuteTime": {
     "end_time": "2024-06-25T17:39:46.992943Z",
     "start_time": "2024-06-25T17:39:46.881327Z"
    }
   },
   "cell_type": "code",
   "source": [
    "print(len(content_table))\n",
    "content_table = content_table[content_table.orig_content.notna()]\n",
    "print(len(content_table))"
   ],
   "outputs": [
    {
     "name": "stdout",
     "output_type": "stream",
     "text": [
      "719726\n",
      "716737\n"
     ]
    }
   ],
   "execution_count": 134
  },
  {
   "metadata": {
    "ExecuteTime": {
     "end_time": "2024-06-25T17:39:47.090485Z",
     "start_time": "2024-06-25T17:39:46.993530Z"
    }
   },
   "cell_type": "code",
   "source": [
    "print(len(content_table))\n",
    "content_table = content_table[content_table.orig_content != 0]\n",
    "print(len(content_table))"
   ],
   "outputs": [
    {
     "name": "stdout",
     "output_type": "stream",
     "text": [
      "716737\n",
      "484513\n"
     ]
    }
   ],
   "execution_count": 135
  },
  {
   "metadata": {
    "ExecuteTime": {
     "end_time": "2024-06-25T17:39:47.168754Z",
     "start_time": "2024-06-25T17:39:47.091091Z"
    }
   },
   "cell_type": "code",
   "source": [
    "content_table = content_table[['id', 'source_id', 'orig_source_name', 'food_id', 'orig_food_common_name', 'orig_content', 'orig_min', 'orig_max', 'orig_unit', 'orig_citation', 'citation', 'citation_type']]\n",
    "content_table = content_table.rename(columns={'source_id': 'compound_id', 'orig_food_common_name': 'food_name', 'orig_food_scientific_name': 'food_scientific_name', 'orig_unit': 'unit', 'orig_content': 'content', 'orig_min': 'min_content', 'orig_max': 'max_content', 'orig_citation': 'citation_link', 'orig_source_name': 'compound', })"
   ],
   "outputs": [],
   "execution_count": 136
  },
  {
   "metadata": {
    "ExecuteTime": {
     "end_time": "2024-06-25T17:39:47.176069Z",
     "start_time": "2024-06-25T17:39:47.169432Z"
    }
   },
   "cell_type": "code",
   "source": "content_table",
   "outputs": [
    {
     "data": {
      "text/plain": [
       "              id  compound_id                               compound  food_id  \\\n",
       "116689    128670         3513                                    Ash      287   \n",
       "116690    128671        13393                               Moisture      287   \n",
       "116700    128681         8417  Vitamin B1 (as thiamin hydrochloride)      287   \n",
       "116701    128682        12163                Vitamin B2 (riboflavin)      287   \n",
       "116702    128683         1014                          Niacin, total      287   \n",
       "...          ...          ...                                    ...      ...   \n",
       "1871138  2320069       125893                                    NaN      632   \n",
       "1871139  2320070       125894                                    NaN      632   \n",
       "1871140  2320071       125895                                    NaN      632   \n",
       "1871141  2320072       125896                                    NaN      632   \n",
       "1871142  2320073       125897                                    NaN      632   \n",
       "\n",
       "               food_name  content  min_content  max_content     unit  \\\n",
       "116689     Alfalfa seeds  3100.00          NaN          NaN  mg/100g   \n",
       "116690     Alfalfa seeds  7400.00          NaN          NaN  mg/100g   \n",
       "116700     Alfalfa seeds     1.08          NaN          NaN  mg/100g   \n",
       "116701     Alfalfa seeds     0.58          NaN          NaN  mg/100g   \n",
       "116702     Alfalfa seeds     1.80          NaN          NaN       NE   \n",
       "...                  ...      ...          ...          ...      ...   \n",
       "1871138  Milk, 3.25% fat   993.00        942.0       1044.0       uM   \n",
       "1871139  Milk, 3.25% fat   993.00        942.0       1044.0       uM   \n",
       "1871140  Milk, 3.25% fat   993.00        942.0       1044.0       uM   \n",
       "1871141  Milk, 3.25% fat   993.00        942.0       1044.0       uM   \n",
       "1871142  Milk, 3.25% fat   993.00        942.0       1044.0       uM   \n",
       "\n",
       "        citation_link  citation citation_type  \n",
       "116689            NaN       DTU      DATABASE  \n",
       "116690            NaN       DTU      DATABASE  \n",
       "116700            NaN       DTU      DATABASE  \n",
       "116701            NaN       DTU      DATABASE  \n",
       "116702            NaN       DTU      DATABASE  \n",
       "...               ...       ...           ...  \n",
       "1871138           NaN  30994344       ARTICLE  \n",
       "1871139           NaN  30994344       ARTICLE  \n",
       "1871140           NaN  30994344       ARTICLE  \n",
       "1871141           NaN  30994344       ARTICLE  \n",
       "1871142           NaN  30994344       ARTICLE  \n",
       "\n",
       "[484513 rows x 12 columns]"
      ],
      "text/html": [
       "<div>\n",
       "<style scoped>\n",
       "    .dataframe tbody tr th:only-of-type {\n",
       "        vertical-align: middle;\n",
       "    }\n",
       "\n",
       "    .dataframe tbody tr th {\n",
       "        vertical-align: top;\n",
       "    }\n",
       "\n",
       "    .dataframe thead th {\n",
       "        text-align: right;\n",
       "    }\n",
       "</style>\n",
       "<table border=\"1\" class=\"dataframe\">\n",
       "  <thead>\n",
       "    <tr style=\"text-align: right;\">\n",
       "      <th></th>\n",
       "      <th>id</th>\n",
       "      <th>compound_id</th>\n",
       "      <th>compound</th>\n",
       "      <th>food_id</th>\n",
       "      <th>food_name</th>\n",
       "      <th>content</th>\n",
       "      <th>min_content</th>\n",
       "      <th>max_content</th>\n",
       "      <th>unit</th>\n",
       "      <th>citation_link</th>\n",
       "      <th>citation</th>\n",
       "      <th>citation_type</th>\n",
       "    </tr>\n",
       "  </thead>\n",
       "  <tbody>\n",
       "    <tr>\n",
       "      <th>116689</th>\n",
       "      <td>128670</td>\n",
       "      <td>3513</td>\n",
       "      <td>Ash</td>\n",
       "      <td>287</td>\n",
       "      <td>Alfalfa seeds</td>\n",
       "      <td>3100.00</td>\n",
       "      <td>NaN</td>\n",
       "      <td>NaN</td>\n",
       "      <td>mg/100g</td>\n",
       "      <td>NaN</td>\n",
       "      <td>DTU</td>\n",
       "      <td>DATABASE</td>\n",
       "    </tr>\n",
       "    <tr>\n",
       "      <th>116690</th>\n",
       "      <td>128671</td>\n",
       "      <td>13393</td>\n",
       "      <td>Moisture</td>\n",
       "      <td>287</td>\n",
       "      <td>Alfalfa seeds</td>\n",
       "      <td>7400.00</td>\n",
       "      <td>NaN</td>\n",
       "      <td>NaN</td>\n",
       "      <td>mg/100g</td>\n",
       "      <td>NaN</td>\n",
       "      <td>DTU</td>\n",
       "      <td>DATABASE</td>\n",
       "    </tr>\n",
       "    <tr>\n",
       "      <th>116700</th>\n",
       "      <td>128681</td>\n",
       "      <td>8417</td>\n",
       "      <td>Vitamin B1 (as thiamin hydrochloride)</td>\n",
       "      <td>287</td>\n",
       "      <td>Alfalfa seeds</td>\n",
       "      <td>1.08</td>\n",
       "      <td>NaN</td>\n",
       "      <td>NaN</td>\n",
       "      <td>mg/100g</td>\n",
       "      <td>NaN</td>\n",
       "      <td>DTU</td>\n",
       "      <td>DATABASE</td>\n",
       "    </tr>\n",
       "    <tr>\n",
       "      <th>116701</th>\n",
       "      <td>128682</td>\n",
       "      <td>12163</td>\n",
       "      <td>Vitamin B2 (riboflavin)</td>\n",
       "      <td>287</td>\n",
       "      <td>Alfalfa seeds</td>\n",
       "      <td>0.58</td>\n",
       "      <td>NaN</td>\n",
       "      <td>NaN</td>\n",
       "      <td>mg/100g</td>\n",
       "      <td>NaN</td>\n",
       "      <td>DTU</td>\n",
       "      <td>DATABASE</td>\n",
       "    </tr>\n",
       "    <tr>\n",
       "      <th>116702</th>\n",
       "      <td>128683</td>\n",
       "      <td>1014</td>\n",
       "      <td>Niacin, total</td>\n",
       "      <td>287</td>\n",
       "      <td>Alfalfa seeds</td>\n",
       "      <td>1.80</td>\n",
       "      <td>NaN</td>\n",
       "      <td>NaN</td>\n",
       "      <td>NE</td>\n",
       "      <td>NaN</td>\n",
       "      <td>DTU</td>\n",
       "      <td>DATABASE</td>\n",
       "    </tr>\n",
       "    <tr>\n",
       "      <th>...</th>\n",
       "      <td>...</td>\n",
       "      <td>...</td>\n",
       "      <td>...</td>\n",
       "      <td>...</td>\n",
       "      <td>...</td>\n",
       "      <td>...</td>\n",
       "      <td>...</td>\n",
       "      <td>...</td>\n",
       "      <td>...</td>\n",
       "      <td>...</td>\n",
       "      <td>...</td>\n",
       "      <td>...</td>\n",
       "    </tr>\n",
       "    <tr>\n",
       "      <th>1871138</th>\n",
       "      <td>2320069</td>\n",
       "      <td>125893</td>\n",
       "      <td>NaN</td>\n",
       "      <td>632</td>\n",
       "      <td>Milk, 3.25% fat</td>\n",
       "      <td>993.00</td>\n",
       "      <td>942.0</td>\n",
       "      <td>1044.0</td>\n",
       "      <td>uM</td>\n",
       "      <td>NaN</td>\n",
       "      <td>30994344</td>\n",
       "      <td>ARTICLE</td>\n",
       "    </tr>\n",
       "    <tr>\n",
       "      <th>1871139</th>\n",
       "      <td>2320070</td>\n",
       "      <td>125894</td>\n",
       "      <td>NaN</td>\n",
       "      <td>632</td>\n",
       "      <td>Milk, 3.25% fat</td>\n",
       "      <td>993.00</td>\n",
       "      <td>942.0</td>\n",
       "      <td>1044.0</td>\n",
       "      <td>uM</td>\n",
       "      <td>NaN</td>\n",
       "      <td>30994344</td>\n",
       "      <td>ARTICLE</td>\n",
       "    </tr>\n",
       "    <tr>\n",
       "      <th>1871140</th>\n",
       "      <td>2320071</td>\n",
       "      <td>125895</td>\n",
       "      <td>NaN</td>\n",
       "      <td>632</td>\n",
       "      <td>Milk, 3.25% fat</td>\n",
       "      <td>993.00</td>\n",
       "      <td>942.0</td>\n",
       "      <td>1044.0</td>\n",
       "      <td>uM</td>\n",
       "      <td>NaN</td>\n",
       "      <td>30994344</td>\n",
       "      <td>ARTICLE</td>\n",
       "    </tr>\n",
       "    <tr>\n",
       "      <th>1871141</th>\n",
       "      <td>2320072</td>\n",
       "      <td>125896</td>\n",
       "      <td>NaN</td>\n",
       "      <td>632</td>\n",
       "      <td>Milk, 3.25% fat</td>\n",
       "      <td>993.00</td>\n",
       "      <td>942.0</td>\n",
       "      <td>1044.0</td>\n",
       "      <td>uM</td>\n",
       "      <td>NaN</td>\n",
       "      <td>30994344</td>\n",
       "      <td>ARTICLE</td>\n",
       "    </tr>\n",
       "    <tr>\n",
       "      <th>1871142</th>\n",
       "      <td>2320073</td>\n",
       "      <td>125897</td>\n",
       "      <td>NaN</td>\n",
       "      <td>632</td>\n",
       "      <td>Milk, 3.25% fat</td>\n",
       "      <td>993.00</td>\n",
       "      <td>942.0</td>\n",
       "      <td>1044.0</td>\n",
       "      <td>uM</td>\n",
       "      <td>NaN</td>\n",
       "      <td>30994344</td>\n",
       "      <td>ARTICLE</td>\n",
       "    </tr>\n",
       "  </tbody>\n",
       "</table>\n",
       "<p>484513 rows × 12 columns</p>\n",
       "</div>"
      ]
     },
     "execution_count": 137,
     "metadata": {},
     "output_type": "execute_result"
    }
   ],
   "execution_count": 137
  },
  {
   "metadata": {},
   "cell_type": "markdown",
   "source": "### Load compounds table "
  },
  {
   "metadata": {
    "ExecuteTime": {
     "end_time": "2024-06-25T17:41:53.004119Z",
     "start_time": "2024-06-25T17:41:52.327071Z"
    }
   },
   "cell_type": "code",
   "source": [
    "# Load merged database compounds file\n",
    "compounds = pd.read_csv(os.path.join(processed_data_folder, \"compounds_all_databases_merged_ids.csv\"), dtype={'vmh_id': 'string', 'chebi_id': 'string', 'kegg_id': 'string', 'foodb_id': 'string', 'markerdb_id': 'string', 'exposome_explorer_id': 'string'})"
   ],
   "outputs": [],
   "execution_count": 138
  },
  {
   "metadata": {
    "ExecuteTime": {
     "end_time": "2024-06-25T17:42:10.838016Z",
     "start_time": "2024-06-25T17:42:10.795190Z"
    }
   },
   "cell_type": "code",
   "source": [
    "compounds_temp = compounds[compounds.foodb_id_internal.notna()][['name', 'foodb_id', 'foodb_id_internal', 'menuguide_id']]\n",
    "compounds_temp['foodb_id_internal'] = compounds_temp.foodb_id_internal.astype(int)"
   ],
   "outputs": [],
   "execution_count": 139
  },
  {
   "metadata": {
    "ExecuteTime": {
     "end_time": "2024-06-25T17:42:12.869452Z",
     "start_time": "2024-06-25T17:42:12.864202Z"
    }
   },
   "cell_type": "code",
   "source": "compounds_temp",
   "outputs": [
    {
     "data": {
      "text/plain": [
       "                                                     name   foodb_id  \\\n",
       "13                                            cortexolone  FDB021872   \n",
       "32                                    polyethylene glycol  FDB016934   \n",
       "33                                                12-hete  FDB001435   \n",
       "34                                            12(s)-hpete  FDB023348   \n",
       "46                                       propylene glycol  FDB008274   \n",
       "...                                                   ...        ...   \n",
       "404810                        o-arachidonoyl ethanolamine  FDB029625   \n",
       "404812         4-amino-2-methyl-5-phosphomethylpyrimidine  FDB030485   \n",
       "404815  rac-4-hydroxy-4-o-(beta-d-glucuronide)-all-tra...  FDB034577   \n",
       "404817                          4-amino-4-deoxychorismate  FDB030486   \n",
       "404822                                       neuromedin b  FDB029246   \n",
       "\n",
       "        foodb_id_internal     menuguide_id  \n",
       "13                  22035      compound_14  \n",
       "32                  16941      compound_33  \n",
       "33                   1435      compound_34  \n",
       "34                  23511      compound_35  \n",
       "46                   8275      compound_47  \n",
       "...                   ...              ...  \n",
       "404810              29788  compound_404811  \n",
       "404812              30648  compound_404813  \n",
       "404815              34837  compound_404816  \n",
       "404817              30649  compound_404818  \n",
       "404822              29409  compound_404823  \n",
       "\n",
       "[70477 rows x 4 columns]"
      ],
      "text/html": [
       "<div>\n",
       "<style scoped>\n",
       "    .dataframe tbody tr th:only-of-type {\n",
       "        vertical-align: middle;\n",
       "    }\n",
       "\n",
       "    .dataframe tbody tr th {\n",
       "        vertical-align: top;\n",
       "    }\n",
       "\n",
       "    .dataframe thead th {\n",
       "        text-align: right;\n",
       "    }\n",
       "</style>\n",
       "<table border=\"1\" class=\"dataframe\">\n",
       "  <thead>\n",
       "    <tr style=\"text-align: right;\">\n",
       "      <th></th>\n",
       "      <th>name</th>\n",
       "      <th>foodb_id</th>\n",
       "      <th>foodb_id_internal</th>\n",
       "      <th>menuguide_id</th>\n",
       "    </tr>\n",
       "  </thead>\n",
       "  <tbody>\n",
       "    <tr>\n",
       "      <th>13</th>\n",
       "      <td>cortexolone</td>\n",
       "      <td>FDB021872</td>\n",
       "      <td>22035</td>\n",
       "      <td>compound_14</td>\n",
       "    </tr>\n",
       "    <tr>\n",
       "      <th>32</th>\n",
       "      <td>polyethylene glycol</td>\n",
       "      <td>FDB016934</td>\n",
       "      <td>16941</td>\n",
       "      <td>compound_33</td>\n",
       "    </tr>\n",
       "    <tr>\n",
       "      <th>33</th>\n",
       "      <td>12-hete</td>\n",
       "      <td>FDB001435</td>\n",
       "      <td>1435</td>\n",
       "      <td>compound_34</td>\n",
       "    </tr>\n",
       "    <tr>\n",
       "      <th>34</th>\n",
       "      <td>12(s)-hpete</td>\n",
       "      <td>FDB023348</td>\n",
       "      <td>23511</td>\n",
       "      <td>compound_35</td>\n",
       "    </tr>\n",
       "    <tr>\n",
       "      <th>46</th>\n",
       "      <td>propylene glycol</td>\n",
       "      <td>FDB008274</td>\n",
       "      <td>8275</td>\n",
       "      <td>compound_47</td>\n",
       "    </tr>\n",
       "    <tr>\n",
       "      <th>...</th>\n",
       "      <td>...</td>\n",
       "      <td>...</td>\n",
       "      <td>...</td>\n",
       "      <td>...</td>\n",
       "    </tr>\n",
       "    <tr>\n",
       "      <th>404810</th>\n",
       "      <td>o-arachidonoyl ethanolamine</td>\n",
       "      <td>FDB029625</td>\n",
       "      <td>29788</td>\n",
       "      <td>compound_404811</td>\n",
       "    </tr>\n",
       "    <tr>\n",
       "      <th>404812</th>\n",
       "      <td>4-amino-2-methyl-5-phosphomethylpyrimidine</td>\n",
       "      <td>FDB030485</td>\n",
       "      <td>30648</td>\n",
       "      <td>compound_404813</td>\n",
       "    </tr>\n",
       "    <tr>\n",
       "      <th>404815</th>\n",
       "      <td>rac-4-hydroxy-4-o-(beta-d-glucuronide)-all-tra...</td>\n",
       "      <td>FDB034577</td>\n",
       "      <td>34837</td>\n",
       "      <td>compound_404816</td>\n",
       "    </tr>\n",
       "    <tr>\n",
       "      <th>404817</th>\n",
       "      <td>4-amino-4-deoxychorismate</td>\n",
       "      <td>FDB030486</td>\n",
       "      <td>30649</td>\n",
       "      <td>compound_404818</td>\n",
       "    </tr>\n",
       "    <tr>\n",
       "      <th>404822</th>\n",
       "      <td>neuromedin b</td>\n",
       "      <td>FDB029246</td>\n",
       "      <td>29409</td>\n",
       "      <td>compound_404823</td>\n",
       "    </tr>\n",
       "  </tbody>\n",
       "</table>\n",
       "<p>70477 rows × 4 columns</p>\n",
       "</div>"
      ]
     },
     "execution_count": 140,
     "metadata": {},
     "output_type": "execute_result"
    }
   ],
   "execution_count": 140
  },
  {
   "metadata": {},
   "cell_type": "markdown",
   "source": "### Merge content and compounds to add MeNuGUIDE identifier"
  },
  {
   "metadata": {
    "ExecuteTime": {
     "end_time": "2024-06-25T19:01:15.954230Z",
     "start_time": "2024-06-25T19:01:15.817089Z"
    }
   },
   "cell_type": "code",
   "source": "content_table_merge = content_table.merge(compounds_temp, left_on='compound_id', right_on='foodb_id_internal', how='inner')",
   "outputs": [],
   "execution_count": 174
  },
  {
   "metadata": {
    "ExecuteTime": {
     "end_time": "2024-06-25T19:01:17.824684Z",
     "start_time": "2024-06-25T19:01:16.541147Z"
    }
   },
   "cell_type": "code",
   "source": [
    "content_table_merge['citation'] = content_table_merge.apply(lambda row: f\"{row['citation']}:{row['citation_link']}\" if pd.notna(row['citation_link']) else row['citation'], axis=1)\n",
    "content_table_merge['citation'] = content_table_merge['citation'].apply(lambda x: f\"PMID:{x}\" if x.isnumeric() else x)"
   ],
   "outputs": [],
   "execution_count": 175
  },
  {
   "metadata": {
    "ExecuteTime": {
     "end_time": "2024-06-25T19:01:45.736316Z",
     "start_time": "2024-06-25T19:01:45.700046Z"
    }
   },
   "cell_type": "code",
   "source": "content_table_merge = content_table_merge[['food_id', 'food_name', 'name', 'foodb_id', 'foodb_id_internal', 'menuguide_id', 'content', 'min_content', 'max_content', 'unit', 'citation']]",
   "outputs": [],
   "execution_count": 177
  },
  {
   "metadata": {
    "ExecuteTime": {
     "end_time": "2024-06-25T19:20:53.793226Z",
     "start_time": "2024-06-25T19:20:52.905018Z"
    }
   },
   "cell_type": "code",
   "source": "content_table_merge.to_csv(os.path.join(foodb_folder, 'foodb_metabolite_food_relations.csv'), index=False)",
   "outputs": [],
   "execution_count": 179
  },
  {
   "metadata": {},
   "cell_type": "code",
   "outputs": [],
   "execution_count": null,
   "source": ""
  },
  {
   "metadata": {},
   "cell_type": "code",
   "outputs": [],
   "execution_count": null,
   "source": ""
  },
  {
   "metadata": {},
   "cell_type": "code",
   "outputs": [],
   "execution_count": null,
   "source": ""
  }
 ],
 "metadata": {
  "kernelspec": {
   "display_name": "Python 3",
   "language": "python",
   "name": "python3"
  },
  "language_info": {
   "codemirror_mode": {
    "name": "ipython",
    "version": 2
   },
   "file_extension": ".py",
   "mimetype": "text/x-python",
   "name": "python",
   "nbconvert_exporter": "python",
   "pygments_lexer": "ipython2",
   "version": "2.7.6"
  }
 },
 "nbformat": 4,
 "nbformat_minor": 0
}
