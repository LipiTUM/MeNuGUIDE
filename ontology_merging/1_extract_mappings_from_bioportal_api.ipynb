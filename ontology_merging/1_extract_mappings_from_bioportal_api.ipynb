{
 "cells": [
  {
   "cell_type": "code",
   "id": "initial_id",
   "metadata": {
    "collapsed": true,
    "ExecuteTime": {
     "end_time": "2024-07-12T11:01:10.706488Z",
     "start_time": "2024-07-12T11:01:08.880469Z"
    }
   },
   "source": [
    "import requests\n",
    "import pandas as pd\n",
    "import time\n",
    "import os"
   ],
   "outputs": [],
   "execution_count": 2
  },
  {
   "metadata": {},
   "cell_type": "markdown",
   "source": [
    "*MeNU GUIDE*\n",
    "# Extract Mappings from BioPortal API"
   ],
   "id": "402455eaee10adb4"
  },
  {
   "metadata": {
    "ExecuteTime": {
     "end_time": "2024-07-12T11:01:13.497843Z",
     "start_time": "2024-07-12T11:01:13.495441Z"
    }
   },
   "cell_type": "code",
   "source": [
    "api_key = '<user_api_key>'\n",
    "ontology_folder = \"/path/to/ontologies/\""
   ],
   "id": "dd048aa402c27fe1",
   "outputs": [],
   "execution_count": 3
  },
  {
   "metadata": {
    "ExecuteTime": {
     "end_time": "2024-07-12T11:01:14.175734Z",
     "start_time": "2024-07-12T11:01:14.171298Z"
    }
   },
   "cell_type": "code",
   "source": [
    "def access_bioportal_api(source_ontology, target_ontology):\n",
    "    print(f\"Getting mapping for {source_ontology} and {target_ontology}\")\n",
    "    url = f'http://data.bioontology.org/mappings?ontologies={source_ontology},{target_ontology}&apikey={api_key}&page=1'\n",
    "    \n",
    "    response = requests.get(url)\n",
    "\n",
    "    all_mappings = []\n",
    "    \n",
    "    mappings = response.json()\n",
    "    all_mappings.extend(mappings['collection'])\n",
    "    \n",
    "    page_count = mappings['pageCount']\n",
    "    print(f\"Mapping page count: {page_count}.\\nSuccessfully queried page 1.\")\n",
    "    \n",
    "    if page_count >= 2:\n",
    "        for page in range(2, page_count+1):\n",
    "            url = f'http://data.bioontology.org/mappings?ontologies={source_ontology},{target_ontology}&apikey={api_key}&page={page}'\n",
    "            response = requests.get(url)\n",
    "            mappings = response.json()\n",
    "            all_mappings.extend(mappings['collection'])\n",
    "            print(f\"Successfully queried page {page}\")\n",
    "            time.sleep(1)\n",
    "            \n",
    "    return all_mappings\n",
    "\n",
    "def create_mapping_csv(all_mappings, source_ontology, target_ontology):\n",
    "    mapping_entries = []\n",
    "    \n",
    "    for mapping in all_mappings:\n",
    "        class_1 = mapping['classes'][0]['@id']\n",
    "        class_2 = mapping['classes'][1]['@id']\n",
    "        \n",
    "        if class_1 != class_2:    \n",
    "            mapping_entries.append([class_1, class_2])\n",
    "        \n",
    "    mappings_bioportal = pd.DataFrame(mapping_entries, columns=[source_ontology, target_ontology])\n",
    "    return mappings_bioportal\n",
    "    \n",
    "\n",
    "def extract_bioportal_mapping(source_ontology, target_ontology):\n",
    "    all_mappings = access_bioportal_api(source_ontology, target_ontology)\n",
    "    mappings_df = create_mapping_csv(all_mappings, source_ontology, target_ontology)\n",
    "    \n",
    "    output_file = os.path.join(ontology_folder, f'{source_ontology}_{target_ontology}_mapping.csv')\n",
    "    mappings_df.to_csv(output_file, index=False)\n",
    "    print(f\"# mappings: {len(mappings_df)}\")"
   ],
   "id": "5d8dd9948ca3b7b4",
   "outputs": [],
   "execution_count": 4
  },
  {
   "metadata": {},
   "cell_type": "markdown",
   "source": "## FooOn & FOBI",
   "id": "618bfbe39ec6ae74"
  },
  {
   "metadata": {
    "ExecuteTime": {
     "end_time": "2024-07-12T11:01:52.717332Z",
     "start_time": "2024-07-12T11:01:21.930145Z"
    }
   },
   "cell_type": "code",
   "source": "extract_bioportal_mapping('FOODON', 'FOBI')",
   "id": "dd5e78e95bef72b8",
   "outputs": [
    {
     "name": "stdout",
     "output_type": "stream",
     "text": [
      "Getting mapping for FOODON and FOBI\n",
      "Mapping page count: 10.\n",
      "Successfully queried page 1.\n",
      "Successfully queried page 2\n",
      "Successfully queried page 3\n",
      "Successfully queried page 4\n",
      "Successfully queried page 5\n",
      "Successfully queried page 6\n",
      "Successfully queried page 7\n",
      "Successfully queried page 8\n",
      "Successfully queried page 9\n",
      "Successfully queried page 10\n",
      "# mappings: 100\n"
     ]
    }
   ],
   "execution_count": 5
  },
  {
   "metadata": {},
   "cell_type": "markdown",
   "source": "## FoodOn & Compositional Dietary Nutrition Ontology",
   "id": "88bb5930ad8804ae"
  },
  {
   "metadata": {
    "ExecuteTime": {
     "end_time": "2024-07-12T11:04:30.465385Z",
     "start_time": "2024-07-12T11:02:19.138025Z"
    }
   },
   "cell_type": "code",
   "source": "extract_bioportal_mapping('FOODON', 'CDNO')",
   "id": "93210881788c1d29",
   "outputs": [
    {
     "name": "stdout",
     "output_type": "stream",
     "text": [
      "Getting mapping for FOODON and CDNO\n",
      "Mapping page count: 44.\n",
      "Successfully queried page 1.\n",
      "Successfully queried page 2\n",
      "Successfully queried page 3\n",
      "Successfully queried page 4\n",
      "Successfully queried page 5\n",
      "Successfully queried page 6\n",
      "Successfully queried page 7\n",
      "Successfully queried page 8\n",
      "Successfully queried page 9\n",
      "Successfully queried page 10\n",
      "Successfully queried page 11\n",
      "Successfully queried page 12\n",
      "Successfully queried page 13\n",
      "Successfully queried page 14\n",
      "Successfully queried page 15\n",
      "Successfully queried page 16\n",
      "Successfully queried page 17\n",
      "Successfully queried page 18\n",
      "Successfully queried page 19\n",
      "Successfully queried page 20\n",
      "Successfully queried page 21\n",
      "Successfully queried page 22\n",
      "Successfully queried page 23\n",
      "Successfully queried page 24\n",
      "Successfully queried page 25\n",
      "Successfully queried page 26\n",
      "Successfully queried page 27\n",
      "Successfully queried page 28\n",
      "Successfully queried page 29\n",
      "Successfully queried page 30\n",
      "Successfully queried page 31\n",
      "Successfully queried page 32\n",
      "Successfully queried page 33\n",
      "Successfully queried page 34\n",
      "Successfully queried page 35\n",
      "Successfully queried page 36\n",
      "Successfully queried page 37\n",
      "Successfully queried page 38\n",
      "Successfully queried page 39\n",
      "Successfully queried page 40\n",
      "Successfully queried page 41\n",
      "Successfully queried page 42\n",
      "Successfully queried page 43\n",
      "Successfully queried page 44\n",
      "# mappings: 109\n"
     ]
    }
   ],
   "execution_count": 6
  },
  {
   "metadata": {},
   "cell_type": "markdown",
   "source": "## FoodOn & FIDEO",
   "id": "d03e15ce5840d1e7"
  },
  {
   "metadata": {
    "ExecuteTime": {
     "end_time": "2024-07-12T11:04:38.735613Z",
     "start_time": "2024-07-12T11:04:30.467070Z"
    }
   },
   "cell_type": "code",
   "source": "extract_bioportal_mapping('FOODON', 'FIDEO')",
   "id": "c2078f4e631c9850",
   "outputs": [
    {
     "name": "stdout",
     "output_type": "stream",
     "text": [
      "Getting mapping for FOODON and FIDEO\n",
      "Mapping page count: 3.\n",
      "Successfully queried page 1.\n",
      "Successfully queried page 2\n",
      "Successfully queried page 3\n",
      "# mappings: 5\n"
     ]
    }
   ],
   "execution_count": 7
  },
  {
   "metadata": {},
   "cell_type": "markdown",
   "source": "## FoodOn & CHIRO",
   "id": "a382cc3328f4c8d1"
  },
  {
   "metadata": {
    "ExecuteTime": {
     "end_time": "2024-07-12T11:04:40.825949Z",
     "start_time": "2024-07-12T11:04:38.737756Z"
    }
   },
   "cell_type": "code",
   "source": "extract_bioportal_mapping('FOODON', 'CHIRO')",
   "id": "2a34fab71e81eb18",
   "outputs": [
    {
     "name": "stdout",
     "output_type": "stream",
     "text": [
      "Getting mapping for FOODON and CHIRO\n",
      "Mapping page count: 1.\n",
      "Successfully queried page 1.\n",
      "# mappings: 7\n"
     ]
    }
   ],
   "execution_count": 8
  },
  {
   "metadata": {},
   "cell_type": "markdown",
   "source": "## FoodOn & ChEBI",
   "id": "e41237a59bc96450"
  },
  {
   "metadata": {
    "ExecuteTime": {
     "end_time": "2024-07-12T11:06:55.750314Z",
     "start_time": "2024-07-12T11:04:40.828868Z"
    }
   },
   "cell_type": "code",
   "source": "extract_bioportal_mapping('FOODON', 'CHEBI')",
   "id": "b5b9478948b2122",
   "outputs": [
    {
     "name": "stdout",
     "output_type": "stream",
     "text": [
      "Getting mapping for FOODON and CHEBI\n",
      "Mapping page count: 36.\n",
      "Successfully queried page 1.\n",
      "Successfully queried page 2\n",
      "Successfully queried page 3\n",
      "Successfully queried page 4\n",
      "Successfully queried page 5\n",
      "Successfully queried page 6\n",
      "Successfully queried page 7\n",
      "Successfully queried page 8\n",
      "Successfully queried page 9\n",
      "Successfully queried page 10\n",
      "Successfully queried page 11\n",
      "Successfully queried page 12\n",
      "Successfully queried page 13\n",
      "Successfully queried page 14\n",
      "Successfully queried page 15\n",
      "Successfully queried page 16\n",
      "Successfully queried page 17\n",
      "Successfully queried page 18\n",
      "Successfully queried page 19\n",
      "Successfully queried page 20\n",
      "Successfully queried page 21\n",
      "Successfully queried page 22\n",
      "Successfully queried page 23\n",
      "Successfully queried page 24\n",
      "Successfully queried page 25\n",
      "Successfully queried page 26\n",
      "Successfully queried page 27\n",
      "Successfully queried page 28\n",
      "Successfully queried page 29\n",
      "Successfully queried page 30\n",
      "Successfully queried page 31\n",
      "Successfully queried page 32\n",
      "Successfully queried page 33\n",
      "Successfully queried page 34\n",
      "Successfully queried page 35\n",
      "Successfully queried page 36\n",
      "# mappings: 68\n"
     ]
    }
   ],
   "execution_count": 9
  },
  {
   "metadata": {},
   "cell_type": "markdown",
   "source": "## FoodOn & Gene Ontology",
   "id": "384fb2e49ad50761"
  },
  {
   "metadata": {
    "ExecuteTime": {
     "end_time": "2024-07-12T11:06:59.956232Z",
     "start_time": "2024-07-12T11:06:55.752294Z"
    }
   },
   "cell_type": "code",
   "source": "extract_bioportal_mapping('FOODON', 'GO')",
   "id": "a8798c25bbf621ef",
   "outputs": [
    {
     "name": "stdout",
     "output_type": "stream",
     "text": [
      "Getting mapping for FOODON and GO\n",
      "Mapping page count: 1.\n",
      "Successfully queried page 1.\n",
      "# mappings: 4\n"
     ]
    }
   ],
   "execution_count": 10
  },
  {
   "metadata": {},
   "cell_type": "markdown",
   "source": "## FoodOn & Systems Biology",
   "id": "48e5326ea16cc9d6"
  },
  {
   "metadata": {
    "ExecuteTime": {
     "end_time": "2024-07-12T11:07:01.939831Z",
     "start_time": "2024-07-12T11:06:59.957024Z"
    }
   },
   "cell_type": "code",
   "source": "extract_bioportal_mapping('FOODON', 'SBO')",
   "id": "83b91f4a0d537ead",
   "outputs": [
    {
     "name": "stdout",
     "output_type": "stream",
     "text": [
      "Getting mapping for FOODON and SBO\n",
      "Mapping page count: 1.\n",
      "Successfully queried page 1.\n",
      "# mappings: 8\n"
     ]
    }
   ],
   "execution_count": 11
  },
  {
   "metadata": {},
   "cell_type": "markdown",
   "source": "## FoodOn & DOID",
   "id": "5fd48b8e74f65db1"
  },
  {
   "metadata": {
    "ExecuteTime": {
     "end_time": "2024-07-12T11:07:43.477642Z",
     "start_time": "2024-07-12T11:07:01.941816Z"
    }
   },
   "cell_type": "code",
   "source": "extract_bioportal_mapping('FOODON', 'DOID')",
   "id": "246ff25897533c04",
   "outputs": [
    {
     "name": "stdout",
     "output_type": "stream",
     "text": [
      "Getting mapping for FOODON and DOID\n",
      "Mapping page count: 11.\n",
      "Successfully queried page 1.\n",
      "Successfully queried page 2\n",
      "Successfully queried page 3\n",
      "Successfully queried page 4\n",
      "Successfully queried page 5\n",
      "Successfully queried page 6\n",
      "Successfully queried page 7\n",
      "Successfully queried page 8\n",
      "Successfully queried page 9\n",
      "Successfully queried page 10\n",
      "Successfully queried page 11\n",
      "# mappings: 15\n"
     ]
    }
   ],
   "execution_count": 12
  },
  {
   "metadata": {},
   "cell_type": "markdown",
   "source": "## FoodOn & DRON",
   "id": "bd225c187596858d"
  },
  {
   "metadata": {
    "ExecuteTime": {
     "end_time": "2024-07-12T11:09:22.383060Z",
     "start_time": "2024-07-12T11:07:43.478774Z"
    }
   },
   "cell_type": "code",
   "source": "extract_bioportal_mapping('FOODON', 'DRON')",
   "id": "620d6beaca55e2d7",
   "outputs": [
    {
     "name": "stdout",
     "output_type": "stream",
     "text": [
      "Getting mapping for FOODON and DRON\n",
      "Mapping page count: 24.\n",
      "Successfully queried page 1.\n",
      "Successfully queried page 2\n",
      "Successfully queried page 3\n",
      "Successfully queried page 4\n",
      "Successfully queried page 5\n",
      "Successfully queried page 6\n",
      "Successfully queried page 7\n",
      "Successfully queried page 8\n",
      "Successfully queried page 9\n",
      "Successfully queried page 10\n",
      "Successfully queried page 11\n",
      "Successfully queried page 12\n",
      "Successfully queried page 13\n",
      "Successfully queried page 14\n",
      "Successfully queried page 15\n",
      "Successfully queried page 16\n",
      "Successfully queried page 17\n",
      "Successfully queried page 18\n",
      "Successfully queried page 19\n",
      "Successfully queried page 20\n",
      "Successfully queried page 21\n",
      "Successfully queried page 22\n",
      "Successfully queried page 23\n",
      "Successfully queried page 24\n",
      "# mappings: 94\n"
     ]
    }
   ],
   "execution_count": 13
  },
  {
   "metadata": {},
   "cell_type": "markdown",
   "source": "## DOID & DRON",
   "id": "6fc5eaab417979e7"
  },
  {
   "metadata": {
    "ExecuteTime": {
     "end_time": "2024-07-12T11:09:57.200761Z",
     "start_time": "2024-07-12T11:09:22.383748Z"
    }
   },
   "cell_type": "code",
   "source": "extract_bioportal_mapping('DOID', 'DRON')",
   "id": "595d4bdf9ce5c74a",
   "outputs": [
    {
     "name": "stdout",
     "output_type": "stream",
     "text": [
      "Getting mapping for DOID and DRON\n",
      "Mapping page count: 8.\n",
      "Successfully queried page 1.\n",
      "Successfully queried page 2\n",
      "Successfully queried page 3\n",
      "Successfully queried page 4\n",
      "Successfully queried page 5\n",
      "Successfully queried page 6\n",
      "Successfully queried page 7\n",
      "Successfully queried page 8\n",
      "# mappings: 4\n"
     ]
    }
   ],
   "execution_count": 14
  },
  {
   "metadata": {},
   "cell_type": "markdown",
   "source": "## DOID & ChEBI",
   "id": "7e1bf0ceeb5ff95a"
  },
  {
   "metadata": {
    "ExecuteTime": {
     "end_time": "2024-07-12T11:10:28.438420Z",
     "start_time": "2024-07-12T11:09:57.203911Z"
    }
   },
   "cell_type": "code",
   "source": "extract_bioportal_mapping('DOID', 'CHEBI')",
   "id": "4ea64ee2dcee0d",
   "outputs": [
    {
     "name": "stdout",
     "output_type": "stream",
     "text": [
      "Getting mapping for DOID and CHEBI\n",
      "Mapping page count: 8.\n",
      "Successfully queried page 1.\n",
      "Successfully queried page 2\n",
      "Successfully queried page 3\n",
      "Successfully queried page 4\n",
      "Successfully queried page 5\n",
      "Successfully queried page 6\n",
      "Successfully queried page 7\n",
      "Successfully queried page 8\n",
      "# mappings: 5\n"
     ]
    }
   ],
   "execution_count": 15
  },
  {
   "metadata": {},
   "cell_type": "markdown",
   "source": "## DOID & CHIRO",
   "id": "60856f3369820687"
  },
  {
   "metadata": {
    "ExecuteTime": {
     "end_time": "2024-07-12T11:11:01.910432Z",
     "start_time": "2024-07-12T11:10:28.439068Z"
    }
   },
   "cell_type": "code",
   "source": "extract_bioportal_mapping('DOID', 'CHIRO')",
   "id": "d399dd0aa4c4cd77",
   "outputs": [
    {
     "name": "stdout",
     "output_type": "stream",
     "text": [
      "Getting mapping for DOID and CHIRO\n",
      "Mapping page count: 9.\n",
      "Successfully queried page 1.\n",
      "Successfully queried page 2\n",
      "Successfully queried page 3\n",
      "Successfully queried page 4\n",
      "Successfully queried page 5\n",
      "Successfully queried page 6\n",
      "Successfully queried page 7\n",
      "Successfully queried page 8\n",
      "Successfully queried page 9\n",
      "# mappings: 430\n"
     ]
    }
   ],
   "execution_count": 16
  },
  {
   "metadata": {},
   "cell_type": "markdown",
   "source": "## DOID & GO",
   "id": "915c7dcfdba211b8"
  },
  {
   "metadata": {
    "ExecuteTime": {
     "end_time": "2024-07-12T11:11:05.003904Z",
     "start_time": "2024-07-12T11:11:01.914364Z"
    }
   },
   "cell_type": "code",
   "source": "extract_bioportal_mapping('DOID', 'GO')",
   "id": "f2430349c54c4d6a",
   "outputs": [
    {
     "name": "stdout",
     "output_type": "stream",
     "text": [
      "Getting mapping for DOID and GO\n",
      "Mapping page count: 1.\n",
      "Successfully queried page 1.\n",
      "# mappings: 3\n"
     ]
    }
   ],
   "execution_count": 17
  },
  {
   "metadata": {},
   "cell_type": "markdown",
   "source": "## DOID & SBO",
   "id": "b7dd6bb1dbdb53ef"
  },
  {
   "metadata": {
    "ExecuteTime": {
     "end_time": "2024-07-12T11:11:06.949562Z",
     "start_time": "2024-07-12T11:11:05.006578Z"
    }
   },
   "cell_type": "code",
   "source": "extract_bioportal_mapping('DOID', 'SBO')",
   "id": "686d736124ddf8c6",
   "outputs": [
    {
     "name": "stdout",
     "output_type": "stream",
     "text": [
      "Getting mapping for DOID and SBO\n",
      "Mapping page count: 1.\n",
      "Successfully queried page 1.\n",
      "# mappings: 3\n"
     ]
    }
   ],
   "execution_count": 18
  },
  {
   "metadata": {},
   "cell_type": "markdown",
   "source": "## DOID & CDNO",
   "id": "130ebba2aaa023c8"
  },
  {
   "metadata": {
    "ExecuteTime": {
     "end_time": "2024-07-12T11:11:09.199113Z",
     "start_time": "2024-07-12T11:11:06.955636Z"
    }
   },
   "cell_type": "code",
   "source": "extract_bioportal_mapping('DOID', 'CDNO')",
   "id": "186dcf5c7024f605",
   "outputs": [
    {
     "name": "stdout",
     "output_type": "stream",
     "text": [
      "Getting mapping for DOID and CDNO\n",
      "Mapping page count: 1.\n",
      "Successfully queried page 1.\n",
      "# mappings: 3\n"
     ]
    }
   ],
   "execution_count": 19
  },
  {
   "metadata": {},
   "cell_type": "markdown",
   "source": "## DOID & FIDEO",
   "id": "3cdc89688166a95a"
  },
  {
   "metadata": {
    "ExecuteTime": {
     "end_time": "2024-07-12T11:11:37.339724Z",
     "start_time": "2024-07-12T11:11:09.200592Z"
    }
   },
   "cell_type": "code",
   "source": "extract_bioportal_mapping('DOID', 'CHEBI')",
   "id": "210f858343acc524",
   "outputs": [
    {
     "name": "stdout",
     "output_type": "stream",
     "text": [
      "Getting mapping for DOID and CHEBI\n",
      "Mapping page count: 8.\n",
      "Successfully queried page 1.\n",
      "Successfully queried page 2\n",
      "Successfully queried page 3\n",
      "Successfully queried page 4\n",
      "Successfully queried page 5\n",
      "Successfully queried page 6\n",
      "Successfully queried page 7\n",
      "Successfully queried page 8\n",
      "# mappings: 5\n"
     ]
    }
   ],
   "execution_count": 20
  },
  {
   "metadata": {},
   "cell_type": "markdown",
   "source": "## DOID & FOBI",
   "id": "fde3b2f33bc776df"
  },
  {
   "metadata": {
    "ExecuteTime": {
     "end_time": "2024-07-12T11:11:39.166986Z",
     "start_time": "2024-07-12T11:11:37.340510Z"
    }
   },
   "cell_type": "code",
   "source": "extract_bioportal_mapping('DOID', 'FOBI')",
   "id": "9afefaeb69d363eb",
   "outputs": [
    {
     "name": "stdout",
     "output_type": "stream",
     "text": [
      "Getting mapping for DOID and FOBI\n",
      "Mapping page count: 1.\n",
      "Successfully queried page 1.\n",
      "# mappings: 5\n"
     ]
    }
   ],
   "execution_count": 21
  },
  {
   "metadata": {},
   "cell_type": "markdown",
   "source": "## CHEBI & DRON",
   "id": "5cdbb8fa27ee2ca1"
  },
  {
   "metadata": {
    "ExecuteTime": {
     "end_time": "2024-07-12T11:28:50.233648Z",
     "start_time": "2024-07-12T11:11:39.168748Z"
    }
   },
   "cell_type": "code",
   "source": "extract_bioportal_mapping('CHEBI', 'DRON')",
   "id": "5a842ef7129b08e1",
   "outputs": [
    {
     "name": "stdout",
     "output_type": "stream",
     "text": [
      "Getting mapping for CHEBI and DRON\n",
      "Mapping page count: 169.\n",
      "Successfully queried page 1.\n",
      "Successfully queried page 2\n",
      "Successfully queried page 3\n",
      "Successfully queried page 4\n",
      "Successfully queried page 5\n",
      "Successfully queried page 6\n",
      "Successfully queried page 7\n",
      "Successfully queried page 8\n",
      "Successfully queried page 9\n",
      "Successfully queried page 10\n",
      "Successfully queried page 11\n",
      "Successfully queried page 12\n",
      "Successfully queried page 13\n",
      "Successfully queried page 14\n",
      "Successfully queried page 15\n",
      "Successfully queried page 16\n",
      "Successfully queried page 17\n",
      "Successfully queried page 18\n",
      "Successfully queried page 19\n",
      "Successfully queried page 20\n",
      "Successfully queried page 21\n",
      "Successfully queried page 22\n",
      "Successfully queried page 23\n",
      "Successfully queried page 24\n",
      "Successfully queried page 25\n",
      "Successfully queried page 26\n",
      "Successfully queried page 27\n",
      "Successfully queried page 28\n",
      "Successfully queried page 29\n",
      "Successfully queried page 30\n",
      "Successfully queried page 31\n",
      "Successfully queried page 32\n",
      "Successfully queried page 33\n",
      "Successfully queried page 34\n",
      "Successfully queried page 35\n",
      "Successfully queried page 36\n",
      "Successfully queried page 37\n",
      "Successfully queried page 38\n",
      "Successfully queried page 39\n",
      "Successfully queried page 40\n",
      "Successfully queried page 41\n",
      "Successfully queried page 42\n",
      "Successfully queried page 43\n",
      "Successfully queried page 44\n",
      "Successfully queried page 45\n",
      "Successfully queried page 46\n",
      "Successfully queried page 47\n",
      "Successfully queried page 48\n",
      "Successfully queried page 49\n",
      "Successfully queried page 50\n",
      "Successfully queried page 51\n",
      "Successfully queried page 52\n",
      "Successfully queried page 53\n",
      "Successfully queried page 54\n",
      "Successfully queried page 55\n",
      "Successfully queried page 56\n",
      "Successfully queried page 57\n",
      "Successfully queried page 58\n",
      "Successfully queried page 59\n",
      "Successfully queried page 60\n",
      "Successfully queried page 61\n",
      "Successfully queried page 62\n",
      "Successfully queried page 63\n",
      "Successfully queried page 64\n",
      "Successfully queried page 65\n",
      "Successfully queried page 66\n",
      "Successfully queried page 67\n",
      "Successfully queried page 68\n",
      "Successfully queried page 69\n",
      "Successfully queried page 70\n",
      "Successfully queried page 71\n",
      "Successfully queried page 72\n",
      "Successfully queried page 73\n",
      "Successfully queried page 74\n",
      "Successfully queried page 75\n",
      "Successfully queried page 76\n",
      "Successfully queried page 77\n",
      "Successfully queried page 78\n",
      "Successfully queried page 79\n",
      "Successfully queried page 80\n",
      "Successfully queried page 81\n",
      "Successfully queried page 82\n",
      "Successfully queried page 83\n",
      "Successfully queried page 84\n",
      "Successfully queried page 85\n",
      "Successfully queried page 86\n",
      "Successfully queried page 87\n",
      "Successfully queried page 88\n",
      "Successfully queried page 89\n",
      "Successfully queried page 90\n",
      "Successfully queried page 91\n",
      "Successfully queried page 92\n",
      "Successfully queried page 93\n",
      "Successfully queried page 94\n",
      "Successfully queried page 95\n",
      "Successfully queried page 96\n",
      "Successfully queried page 97\n",
      "Successfully queried page 98\n",
      "Successfully queried page 99\n",
      "Successfully queried page 100\n",
      "Successfully queried page 101\n",
      "Successfully queried page 102\n",
      "Successfully queried page 103\n",
      "Successfully queried page 104\n",
      "Successfully queried page 105\n",
      "Successfully queried page 106\n",
      "Successfully queried page 107\n",
      "Successfully queried page 108\n",
      "Successfully queried page 109\n",
      "Successfully queried page 110\n",
      "Successfully queried page 111\n",
      "Successfully queried page 112\n",
      "Successfully queried page 113\n",
      "Successfully queried page 114\n",
      "Successfully queried page 115\n",
      "Successfully queried page 116\n",
      "Successfully queried page 117\n",
      "Successfully queried page 118\n",
      "Successfully queried page 119\n",
      "Successfully queried page 120\n",
      "Successfully queried page 121\n",
      "Successfully queried page 122\n",
      "Successfully queried page 123\n",
      "Successfully queried page 124\n",
      "Successfully queried page 125\n",
      "Successfully queried page 126\n",
      "Successfully queried page 127\n",
      "Successfully queried page 128\n",
      "Successfully queried page 129\n",
      "Successfully queried page 130\n",
      "Successfully queried page 131\n",
      "Successfully queried page 132\n",
      "Successfully queried page 133\n",
      "Successfully queried page 134\n",
      "Successfully queried page 135\n",
      "Successfully queried page 136\n",
      "Successfully queried page 137\n",
      "Successfully queried page 138\n",
      "Successfully queried page 139\n",
      "Successfully queried page 140\n",
      "Successfully queried page 141\n",
      "Successfully queried page 142\n",
      "Successfully queried page 143\n",
      "Successfully queried page 144\n",
      "Successfully queried page 145\n",
      "Successfully queried page 146\n",
      "Successfully queried page 147\n",
      "Successfully queried page 148\n",
      "Successfully queried page 149\n",
      "Successfully queried page 150\n",
      "Successfully queried page 151\n",
      "Successfully queried page 152\n",
      "Successfully queried page 153\n",
      "Successfully queried page 154\n",
      "Successfully queried page 155\n",
      "Successfully queried page 156\n",
      "Successfully queried page 157\n",
      "Successfully queried page 158\n",
      "Successfully queried page 159\n",
      "Successfully queried page 160\n",
      "Successfully queried page 161\n",
      "Successfully queried page 162\n",
      "Successfully queried page 163\n",
      "Successfully queried page 164\n",
      "Successfully queried page 165\n",
      "Successfully queried page 166\n",
      "Successfully queried page 167\n",
      "Successfully queried page 168\n",
      "Successfully queried page 169\n",
      "# mappings: 104\n"
     ]
    }
   ],
   "execution_count": 22
  },
  {
   "metadata": {},
   "cell_type": "markdown",
   "source": "## CHEBI & CHIRO",
   "id": "65be35aeae58ec3f"
  },
  {
   "metadata": {
    "ExecuteTime": {
     "end_time": "2024-07-12T11:29:58.634796Z",
     "start_time": "2024-07-12T11:28:50.234768Z"
    }
   },
   "cell_type": "code",
   "source": "extract_bioportal_mapping('CHEBI', 'CHIRO')",
   "id": "e9c8c394e52206b0",
   "outputs": [
    {
     "name": "stdout",
     "output_type": "stream",
     "text": [
      "Getting mapping for CHEBI and CHIRO\n",
      "Mapping page count: 19.\n",
      "Successfully queried page 1.\n",
      "Successfully queried page 2\n",
      "Successfully queried page 3\n",
      "Successfully queried page 4\n",
      "Successfully queried page 5\n",
      "Successfully queried page 6\n",
      "Successfully queried page 7\n",
      "Successfully queried page 8\n",
      "Successfully queried page 9\n",
      "Successfully queried page 10\n",
      "Successfully queried page 11\n",
      "Successfully queried page 12\n",
      "Successfully queried page 13\n",
      "Successfully queried page 14\n",
      "Successfully queried page 15\n",
      "Successfully queried page 16\n",
      "Successfully queried page 17\n",
      "Successfully queried page 18\n",
      "Successfully queried page 19\n",
      "# mappings: 14\n"
     ]
    }
   ],
   "execution_count": 23
  },
  {
   "metadata": {},
   "cell_type": "markdown",
   "source": "## CHEBI & GO",
   "id": "55328cc3b0238dc8"
  },
  {
   "metadata": {
    "ExecuteTime": {
     "end_time": "2024-07-12T11:30:02.683597Z",
     "start_time": "2024-07-12T11:29:58.636628Z"
    }
   },
   "cell_type": "code",
   "source": "extract_bioportal_mapping('CHEBI', 'GO')",
   "id": "3382372da3287ab7",
   "outputs": [
    {
     "name": "stdout",
     "output_type": "stream",
     "text": [
      "Getting mapping for CHEBI and GO\n",
      "Mapping page count: 1.\n",
      "Successfully queried page 1.\n",
      "# mappings: 0\n"
     ]
    }
   ],
   "execution_count": 24
  },
  {
   "metadata": {},
   "cell_type": "markdown",
   "source": "## CHEBI & SBO",
   "id": "71aa5bce9c416b82"
  },
  {
   "metadata": {
    "ExecuteTime": {
     "end_time": "2024-07-12T11:30:04.828555Z",
     "start_time": "2024-07-12T11:30:02.685697Z"
    }
   },
   "cell_type": "code",
   "source": "extract_bioportal_mapping('CHEBI', 'SBO')",
   "id": "b808f9bfe504f016",
   "outputs": [
    {
     "name": "stdout",
     "output_type": "stream",
     "text": [
      "Getting mapping for CHEBI and SBO\n",
      "Mapping page count: 1.\n",
      "Successfully queried page 1.\n",
      "# mappings: 13\n"
     ]
    }
   ],
   "execution_count": 25
  },
  {
   "metadata": {},
   "cell_type": "markdown",
   "source": "## CHEBI & CDNO",
   "id": "6fec74de03556f44"
  },
  {
   "metadata": {
    "ExecuteTime": {
     "end_time": "2024-07-12T11:31:10.932642Z",
     "start_time": "2024-07-12T11:30:04.830585Z"
    }
   },
   "cell_type": "code",
   "source": "extract_bioportal_mapping('CHEBI', 'CDNO')",
   "id": "c16c7bd42902985f",
   "outputs": [
    {
     "name": "stdout",
     "output_type": "stream",
     "text": [
      "Getting mapping for CHEBI and CDNO\n",
      "Mapping page count: 20.\n",
      "Successfully queried page 1.\n",
      "Successfully queried page 2\n",
      "Successfully queried page 3\n",
      "Successfully queried page 4\n",
      "Successfully queried page 5\n",
      "Successfully queried page 6\n",
      "Successfully queried page 7\n",
      "Successfully queried page 8\n",
      "Successfully queried page 9\n",
      "Successfully queried page 10\n",
      "Successfully queried page 11\n",
      "Successfully queried page 12\n",
      "Successfully queried page 13\n",
      "Successfully queried page 14\n",
      "Successfully queried page 15\n",
      "Successfully queried page 16\n",
      "Successfully queried page 17\n",
      "Successfully queried page 18\n",
      "Successfully queried page 19\n",
      "Successfully queried page 20\n",
      "# mappings: 33\n"
     ]
    }
   ],
   "execution_count": 26
  },
  {
   "metadata": {},
   "cell_type": "markdown",
   "source": "## CHEBI & FIDEO",
   "id": "25917b2eacdfc8a8"
  },
  {
   "metadata": {
    "ExecuteTime": {
     "end_time": "2024-07-12T11:31:57.399103Z",
     "start_time": "2024-07-12T11:31:10.934434Z"
    }
   },
   "cell_type": "code",
   "source": "extract_bioportal_mapping('CHEBI', 'FIDEO')",
   "id": "62b27e43e6487750",
   "outputs": [
    {
     "name": "stdout",
     "output_type": "stream",
     "text": [
      "Getting mapping for CHEBI and FIDEO\n",
      "Mapping page count: 15.\n",
      "Successfully queried page 1.\n",
      "Successfully queried page 2\n",
      "Successfully queried page 3\n",
      "Successfully queried page 4\n",
      "Successfully queried page 5\n",
      "Successfully queried page 6\n",
      "Successfully queried page 7\n",
      "Successfully queried page 8\n",
      "Successfully queried page 9\n",
      "Successfully queried page 10\n",
      "Successfully queried page 11\n",
      "Successfully queried page 12\n",
      "Successfully queried page 13\n",
      "Successfully queried page 14\n",
      "Successfully queried page 15\n",
      "# mappings: 51\n"
     ]
    }
   ],
   "execution_count": 27
  },
  {
   "metadata": {},
   "cell_type": "markdown",
   "source": "## CHEBI & FOBI",
   "id": "141a70fbcce3e32d"
  },
  {
   "metadata": {
    "ExecuteTime": {
     "end_time": "2024-07-12T11:32:22.913903Z",
     "start_time": "2024-07-12T11:31:57.400997Z"
    }
   },
   "cell_type": "code",
   "source": "extract_bioportal_mapping('CHEBI', 'FOBI')",
   "id": "15e5a0b544de65f9",
   "outputs": [
    {
     "name": "stdout",
     "output_type": "stream",
     "text": [
      "Getting mapping for CHEBI and FOBI\n",
      "Mapping page count: 8.\n",
      "Successfully queried page 1.\n",
      "Successfully queried page 2\n",
      "Successfully queried page 3\n",
      "Successfully queried page 4\n",
      "Successfully queried page 5\n",
      "Successfully queried page 6\n",
      "Successfully queried page 7\n",
      "Successfully queried page 8\n",
      "# mappings: 236\n"
     ]
    }
   ],
   "execution_count": 28
  },
  {
   "metadata": {},
   "cell_type": "markdown",
   "source": "## DRON & CHIRO",
   "id": "9709d8a2b3c6db46"
  },
  {
   "metadata": {
    "ExecuteTime": {
     "end_time": "2024-07-12T11:33:15.055060Z",
     "start_time": "2024-07-12T11:32:22.915961Z"
    }
   },
   "cell_type": "code",
   "source": "extract_bioportal_mapping('DRON', 'CHIRO')",
   "id": "23950c7b0f27bd60",
   "outputs": [
    {
     "name": "stdout",
     "output_type": "stream",
     "text": [
      "Getting mapping for DRON and CHIRO\n",
      "Mapping page count: 14.\n",
      "Successfully queried page 1.\n",
      "Successfully queried page 2\n",
      "Successfully queried page 3\n",
      "Successfully queried page 4\n",
      "Successfully queried page 5\n",
      "Successfully queried page 6\n",
      "Successfully queried page 7\n",
      "Successfully queried page 8\n",
      "Successfully queried page 9\n",
      "Successfully queried page 10\n",
      "Successfully queried page 11\n",
      "Successfully queried page 12\n",
      "Successfully queried page 13\n",
      "Successfully queried page 14\n",
      "# mappings: 12\n"
     ]
    }
   ],
   "execution_count": 29
  },
  {
   "metadata": {},
   "cell_type": "markdown",
   "source": "## DRON & GO",
   "id": "4d6a97a32f3ceba6"
  },
  {
   "metadata": {
    "ExecuteTime": {
     "end_time": "2024-07-12T11:33:20.615950Z",
     "start_time": "2024-07-12T11:33:15.057016Z"
    }
   },
   "cell_type": "code",
   "source": "extract_bioportal_mapping('DRON', 'GO')",
   "id": "34e4c53395d19fa5",
   "outputs": [
    {
     "name": "stdout",
     "output_type": "stream",
     "text": [
      "Getting mapping for DRON and GO\n",
      "Mapping page count: 1.\n",
      "Successfully queried page 1.\n",
      "# mappings: 0\n"
     ]
    }
   ],
   "execution_count": 30
  },
  {
   "metadata": {},
   "cell_type": "markdown",
   "source": "## DRON & SBO",
   "id": "a0df27419fe55467"
  },
  {
   "metadata": {
    "ExecuteTime": {
     "end_time": "2024-07-12T11:33:23.379927Z",
     "start_time": "2024-07-12T11:33:20.618513Z"
    }
   },
   "cell_type": "code",
   "source": "extract_bioportal_mapping('DRON', 'SBO')",
   "id": "74b0e50975ab2308",
   "outputs": [
    {
     "name": "stdout",
     "output_type": "stream",
     "text": [
      "Getting mapping for DRON and SBO\n",
      "Mapping page count: 1.\n",
      "Successfully queried page 1.\n",
      "# mappings: 10\n"
     ]
    }
   ],
   "execution_count": 31
  },
  {
   "metadata": {},
   "cell_type": "markdown",
   "source": "## DRON & CDNO",
   "id": "ca30b53bc4aa904b"
  },
  {
   "metadata": {
    "ExecuteTime": {
     "end_time": "2024-07-12T11:33:50.606702Z",
     "start_time": "2024-07-12T11:33:23.382578Z"
    }
   },
   "cell_type": "code",
   "source": "extract_bioportal_mapping('DRON', 'CDNO')",
   "id": "bb3e8c29baae7b19",
   "outputs": [
    {
     "name": "stdout",
     "output_type": "stream",
     "text": [
      "Getting mapping for DRON and CDNO\n",
      "Mapping page count: 8.\n",
      "Successfully queried page 1.\n",
      "Successfully queried page 2\n",
      "Successfully queried page 3\n",
      "Successfully queried page 4\n",
      "Successfully queried page 5\n",
      "Successfully queried page 6\n",
      "Successfully queried page 7\n",
      "Successfully queried page 8\n",
      "# mappings: 7\n"
     ]
    }
   ],
   "execution_count": 32
  },
  {
   "metadata": {},
   "cell_type": "markdown",
   "source": "## DRON & FIDEO",
   "id": "7a10eaa61a06999d"
  },
  {
   "metadata": {
    "ExecuteTime": {
     "end_time": "2024-07-12T11:34:42.232567Z",
     "start_time": "2024-07-12T11:33:50.617578Z"
    }
   },
   "cell_type": "code",
   "source": "extract_bioportal_mapping('DRON', 'FIDEO')",
   "id": "4a155ad68a052264",
   "outputs": [
    {
     "name": "stdout",
     "output_type": "stream",
     "text": [
      "Getting mapping for DRON and FIDEO\n",
      "Mapping page count: 15.\n",
      "Successfully queried page 1.\n",
      "Successfully queried page 2\n",
      "Successfully queried page 3\n",
      "Successfully queried page 4\n",
      "Successfully queried page 5\n",
      "Successfully queried page 6\n",
      "Successfully queried page 7\n",
      "Successfully queried page 8\n",
      "Successfully queried page 9\n",
      "Successfully queried page 10\n",
      "Successfully queried page 11\n",
      "Successfully queried page 12\n",
      "Successfully queried page 13\n",
      "Successfully queried page 14\n",
      "Successfully queried page 15\n",
      "# mappings: 61\n"
     ]
    }
   ],
   "execution_count": 33
  },
  {
   "metadata": {},
   "cell_type": "markdown",
   "source": "## DRON & FOBI",
   "id": "cef766f8177b4682"
  },
  {
   "metadata": {
    "ExecuteTime": {
     "end_time": "2024-07-12T11:34:50.197458Z",
     "start_time": "2024-07-12T11:34:42.234502Z"
    }
   },
   "cell_type": "code",
   "source": "extract_bioportal_mapping('DRON', 'FOBI')",
   "id": "4750e2378c3d0410",
   "outputs": [
    {
     "name": "stdout",
     "output_type": "stream",
     "text": [
      "Getting mapping for DRON and FOBI\n",
      "Mapping page count: 3.\n",
      "Successfully queried page 1.\n",
      "Successfully queried page 2\n",
      "Successfully queried page 3\n",
      "# mappings: 58\n"
     ]
    }
   ],
   "execution_count": 34
  },
  {
   "metadata": {},
   "cell_type": "markdown",
   "source": "## CHIRO & GO",
   "id": "3de2304bfb581b02"
  },
  {
   "metadata": {
    "ExecuteTime": {
     "end_time": "2024-07-12T11:37:05.024578Z",
     "start_time": "2024-07-12T11:34:50.200204Z"
    }
   },
   "cell_type": "code",
   "source": "extract_bioportal_mapping('CHIRO', 'GO')",
   "id": "9bf26c25f9ad7c33",
   "outputs": [
    {
     "name": "stdout",
     "output_type": "stream",
     "text": [
      "Getting mapping for CHIRO and GO\n",
      "Mapping page count: 25.\n",
      "Successfully queried page 1.\n",
      "Successfully queried page 2\n",
      "Successfully queried page 3\n",
      "Successfully queried page 4\n",
      "Successfully queried page 5\n",
      "Successfully queried page 6\n",
      "Successfully queried page 7\n",
      "Successfully queried page 8\n",
      "Successfully queried page 9\n",
      "Successfully queried page 10\n",
      "Successfully queried page 11\n",
      "Successfully queried page 12\n",
      "Successfully queried page 13\n",
      "Successfully queried page 14\n",
      "Successfully queried page 15\n",
      "Successfully queried page 16\n",
      "Successfully queried page 17\n",
      "Successfully queried page 18\n",
      "Successfully queried page 19\n",
      "Successfully queried page 20\n",
      "Successfully queried page 21\n",
      "Successfully queried page 22\n",
      "Successfully queried page 23\n",
      "Successfully queried page 24\n",
      "Successfully queried page 25\n",
      "# mappings: 12\n"
     ]
    }
   ],
   "execution_count": 35
  },
  {
   "metadata": {},
   "cell_type": "markdown",
   "source": "## CHIRO & SBO",
   "id": "ac99c66f0eef7797"
  },
  {
   "metadata": {
    "ExecuteTime": {
     "end_time": "2024-07-12T11:37:06.844864Z",
     "start_time": "2024-07-12T11:37:05.026206Z"
    }
   },
   "cell_type": "code",
   "source": "extract_bioportal_mapping('CHIRO', 'SBO')",
   "id": "ad15b58c02e2848",
   "outputs": [
    {
     "name": "stdout",
     "output_type": "stream",
     "text": [
      "Getting mapping for CHIRO and SBO\n",
      "Mapping page count: 1.\n",
      "Successfully queried page 1.\n",
      "# mappings: 12\n"
     ]
    }
   ],
   "execution_count": 36
  },
  {
   "metadata": {},
   "cell_type": "markdown",
   "source": "## CHIRO & CDNO",
   "id": "8c4dd66e57021941"
  },
  {
   "metadata": {
    "ExecuteTime": {
     "end_time": "2024-07-12T11:37:08.041542Z",
     "start_time": "2024-07-12T11:37:06.847709Z"
    }
   },
   "cell_type": "code",
   "source": "extract_bioportal_mapping('CHIRO', 'CDNO')",
   "id": "62d9d30551c34e2a",
   "outputs": [
    {
     "name": "stdout",
     "output_type": "stream",
     "text": [
      "Getting mapping for CHIRO and CDNO\n",
      "Mapping page count: 1.\n",
      "Successfully queried page 1.\n",
      "# mappings: 3\n"
     ]
    }
   ],
   "execution_count": 37
  },
  {
   "metadata": {},
   "cell_type": "markdown",
   "source": "## CHIRO & FIDEO",
   "id": "983ac36e7b9f9ee3"
  },
  {
   "metadata": {
    "ExecuteTime": {
     "end_time": "2024-07-12T11:37:09.576700Z",
     "start_time": "2024-07-12T11:37:08.044260Z"
    }
   },
   "cell_type": "code",
   "source": "extract_bioportal_mapping('CHIRO', 'FIDEO')",
   "id": "2a1e2015bcc700bf",
   "outputs": [
    {
     "name": "stdout",
     "output_type": "stream",
     "text": [
      "Getting mapping for CHIRO and FIDEO\n",
      "Mapping page count: 1.\n",
      "Successfully queried page 1.\n",
      "# mappings: 5\n"
     ]
    }
   ],
   "execution_count": 38
  },
  {
   "metadata": {},
   "cell_type": "markdown",
   "source": "## CHIRO & FOBI",
   "id": "bafb6e663ef86681"
  },
  {
   "metadata": {
    "ExecuteTime": {
     "end_time": "2024-07-12T11:37:10.602973Z",
     "start_time": "2024-07-12T11:37:09.579295Z"
    }
   },
   "cell_type": "code",
   "source": "extract_bioportal_mapping('CHIRO', 'FOBI')",
   "id": "676fc6854ba86bb0",
   "outputs": [
    {
     "name": "stdout",
     "output_type": "stream",
     "text": [
      "Getting mapping for CHIRO and FOBI\n",
      "Mapping page count: 0.\n",
      "Successfully queried page 1.\n",
      "# mappings: 0\n"
     ]
    }
   ],
   "execution_count": 39
  },
  {
   "metadata": {},
   "cell_type": "markdown",
   "source": "## GO & SBO",
   "id": "ba0dfc2806609122"
  },
  {
   "metadata": {
    "ExecuteTime": {
     "end_time": "2024-07-12T11:37:14.083257Z",
     "start_time": "2024-07-12T11:37:10.605219Z"
    }
   },
   "cell_type": "code",
   "source": "extract_bioportal_mapping('GO', 'SBO')",
   "id": "e6fafd59e6f9e6ac",
   "outputs": [
    {
     "name": "stdout",
     "output_type": "stream",
     "text": [
      "Getting mapping for GO and SBO\n",
      "Mapping page count: 1.\n",
      "Successfully queried page 1.\n",
      "# mappings: 8\n"
     ]
    }
   ],
   "execution_count": 40
  },
  {
   "metadata": {},
   "cell_type": "markdown",
   "source": "## GO & CDNO",
   "id": "e5b0a622dc477e6f"
  },
  {
   "metadata": {
    "ExecuteTime": {
     "end_time": "2024-07-12T11:37:16.645397Z",
     "start_time": "2024-07-12T11:37:14.085539Z"
    }
   },
   "cell_type": "code",
   "source": "extract_bioportal_mapping('GO', 'CDNO')",
   "id": "945260bc54f8d986",
   "outputs": [
    {
     "name": "stdout",
     "output_type": "stream",
     "text": [
      "Getting mapping for GO and CDNO\n",
      "Mapping page count: 0.\n",
      "Successfully queried page 1.\n",
      "# mappings: 0\n"
     ]
    }
   ],
   "execution_count": 41
  },
  {
   "metadata": {},
   "cell_type": "markdown",
   "source": "## GO & FIDEO",
   "id": "cc9e408ecc7735d7"
  },
  {
   "metadata": {
    "ExecuteTime": {
     "end_time": "2024-07-12T11:37:19.408707Z",
     "start_time": "2024-07-12T11:37:16.648048Z"
    }
   },
   "cell_type": "code",
   "source": "extract_bioportal_mapping('GO', 'FIDEO')",
   "id": "d193a2bbc5fbeae0",
   "outputs": [
    {
     "name": "stdout",
     "output_type": "stream",
     "text": [
      "Getting mapping for GO and FIDEO\n",
      "Mapping page count: 1.\n",
      "Successfully queried page 1.\n",
      "# mappings: 0\n"
     ]
    }
   ],
   "execution_count": 42
  },
  {
   "metadata": {},
   "cell_type": "markdown",
   "source": "## GO & FOBI",
   "id": "b81824c72929ff31"
  },
  {
   "metadata": {
    "ExecuteTime": {
     "end_time": "2024-07-12T11:37:21.927841Z",
     "start_time": "2024-07-12T11:37:19.410673Z"
    }
   },
   "cell_type": "code",
   "source": "extract_bioportal_mapping('GO', 'FOBI')",
   "id": "69eb136f46d2844f",
   "outputs": [
    {
     "name": "stdout",
     "output_type": "stream",
     "text": [
      "Getting mapping for GO and FOBI\n",
      "Mapping page count: 0.\n",
      "Successfully queried page 1.\n",
      "# mappings: 0\n"
     ]
    }
   ],
   "execution_count": 43
  },
  {
   "metadata": {},
   "cell_type": "markdown",
   "source": "## SBO & CDNO",
   "id": "5dfd2452c1448bce"
  },
  {
   "metadata": {
    "ExecuteTime": {
     "end_time": "2024-07-12T11:37:23.207206Z",
     "start_time": "2024-07-12T11:37:21.929811Z"
    }
   },
   "cell_type": "code",
   "source": "extract_bioportal_mapping('SBO', 'CDNO')",
   "id": "20d1b3c140e6e4ff",
   "outputs": [
    {
     "name": "stdout",
     "output_type": "stream",
     "text": [
      "Getting mapping for SBO and CDNO\n",
      "Mapping page count: 1.\n",
      "Successfully queried page 1.\n",
      "# mappings: 2\n"
     ]
    }
   ],
   "execution_count": 44
  },
  {
   "metadata": {},
   "cell_type": "markdown",
   "source": "## SBO & FIDEO",
   "id": "b4d2a8e34ac277a7"
  },
  {
   "metadata": {
    "ExecuteTime": {
     "end_time": "2024-07-12T11:37:24.434141Z",
     "start_time": "2024-07-12T11:37:23.209163Z"
    }
   },
   "cell_type": "code",
   "source": "extract_bioportal_mapping('SBO', 'FIDEO')",
   "id": "8f1fc937f35e7b5c",
   "outputs": [
    {
     "name": "stdout",
     "output_type": "stream",
     "text": [
      "Getting mapping for SBO and FIDEO\n",
      "Mapping page count: 1.\n",
      "Successfully queried page 1.\n",
      "# mappings: 2\n"
     ]
    }
   ],
   "execution_count": 45
  },
  {
   "metadata": {},
   "cell_type": "markdown",
   "source": "## SBO & FOBI",
   "id": "f230e9c1a48d70eb"
  },
  {
   "metadata": {
    "ExecuteTime": {
     "end_time": "2024-07-12T11:37:25.759973Z",
     "start_time": "2024-07-12T11:37:24.436759Z"
    }
   },
   "cell_type": "code",
   "source": "extract_bioportal_mapping('SBO', 'FOBI')",
   "id": "5e645f4831656e57",
   "outputs": [
    {
     "name": "stdout",
     "output_type": "stream",
     "text": [
      "Getting mapping for SBO and FOBI\n",
      "Mapping page count: 0.\n",
      "Successfully queried page 1.\n",
      "# mappings: 0\n"
     ]
    }
   ],
   "execution_count": 46
  },
  {
   "metadata": {},
   "cell_type": "markdown",
   "source": "## CDNO & FIDEO",
   "id": "ff9f45ea9c657d22"
  },
  {
   "metadata": {
    "ExecuteTime": {
     "end_time": "2024-07-12T11:37:27.076934Z",
     "start_time": "2024-07-12T11:37:25.761914Z"
    }
   },
   "cell_type": "code",
   "source": "extract_bioportal_mapping('CDNO', 'FIDEO')",
   "id": "a7f79f369507b0d5",
   "outputs": [
    {
     "name": "stdout",
     "output_type": "stream",
     "text": [
      "Getting mapping for CDNO and FIDEO\n",
      "Mapping page count: 1.\n",
      "Successfully queried page 1.\n",
      "# mappings: 0\n"
     ]
    }
   ],
   "execution_count": 47
  },
  {
   "metadata": {},
   "cell_type": "markdown",
   "source": "## CDNO & FOBI",
   "id": "d133653f9bfc7e1b"
  },
  {
   "metadata": {
    "ExecuteTime": {
     "end_time": "2024-07-12T11:37:35.559195Z",
     "start_time": "2024-07-12T11:37:27.079269Z"
    }
   },
   "cell_type": "code",
   "source": "extract_bioportal_mapping('CDNO', 'FOBI')",
   "id": "17d2a367b103f0f",
   "outputs": [
    {
     "name": "stdout",
     "output_type": "stream",
     "text": [
      "Getting mapping for CDNO and FOBI\n",
      "Mapping page count: 3.\n",
      "Successfully queried page 1.\n",
      "Successfully queried page 2\n",
      "Successfully queried page 3\n",
      "# mappings: 77\n"
     ]
    }
   ],
   "execution_count": 48
  },
  {
   "metadata": {},
   "cell_type": "markdown",
   "source": "## FIDEO & FOBI",
   "id": "6e9a0cd9879acbc5"
  },
  {
   "metadata": {
    "ExecuteTime": {
     "end_time": "2024-07-12T11:37:37.225103Z",
     "start_time": "2024-07-12T11:37:35.562219Z"
    }
   },
   "cell_type": "code",
   "source": "extract_bioportal_mapping('FOBI', 'FIDEO')",
   "id": "c99bc264a74c97f4",
   "outputs": [
    {
     "name": "stdout",
     "output_type": "stream",
     "text": [
      "Getting mapping for FOBI and FIDEO\n",
      "Mapping page count: 1.\n",
      "Successfully queried page 1.\n",
      "# mappings: 0\n"
     ]
    }
   ],
   "execution_count": 49
  },
  {
   "metadata": {},
   "cell_type": "markdown",
   "source": "## MP (Mammalian Phenotype Ontology)",
   "id": "198543ae703fc68f"
  },
  {
   "metadata": {
    "ExecuteTime": {
     "end_time": "2024-07-12T11:54:12.852489Z",
     "start_time": "2024-07-12T11:37:37.227339Z"
    }
   },
   "cell_type": "code",
   "source": [
    "extract_bioportal_mapping('MP', 'FOODON')\n",
    "extract_bioportal_mapping('MP', 'FOBI')\n",
    "extract_bioportal_mapping('MP', 'FIDEO')\n",
    "extract_bioportal_mapping('MP', 'CDNO')\n",
    "extract_bioportal_mapping('MP', 'CHIRO')\n",
    "extract_bioportal_mapping('MP', 'CHEBI')\n",
    "extract_bioportal_mapping('MP', 'GO')\n",
    "extract_bioportal_mapping('MP', 'SBO')\n",
    "extract_bioportal_mapping('MP', 'DOID')\n",
    "extract_bioportal_mapping('MP', 'DRON')\n",
    "extract_bioportal_mapping('MP', 'HP')\n",
    "extract_bioportal_mapping('MP', 'ENVO')"
   ],
   "id": "43c86c36bd3392e0",
   "outputs": [
    {
     "name": "stdout",
     "output_type": "stream",
     "text": [
      "Getting mapping for MP and FOODON\n",
      "Mapping page count: 1.\n",
      "Successfully queried page 1.\n",
      "# mappings: 1\n",
      "Getting mapping for MP and FOBI\n",
      "Mapping page count: 0.\n",
      "Successfully queried page 1.\n",
      "# mappings: 0\n",
      "Getting mapping for MP and FIDEO\n",
      "Mapping page count: 0.\n",
      "Successfully queried page 1.\n",
      "# mappings: 0\n",
      "Getting mapping for MP and CDNO\n",
      "Mapping page count: 0.\n",
      "Successfully queried page 1.\n",
      "# mappings: 0\n",
      "Getting mapping for MP and CHIRO\n",
      "Mapping page count: 222.\n",
      "Successfully queried page 1.\n",
      "Successfully queried page 2\n",
      "Successfully queried page 3\n",
      "Successfully queried page 4\n",
      "Successfully queried page 5\n",
      "Successfully queried page 6\n",
      "Successfully queried page 7\n",
      "Successfully queried page 8\n",
      "Successfully queried page 9\n",
      "Successfully queried page 10\n",
      "Successfully queried page 11\n",
      "Successfully queried page 12\n",
      "Successfully queried page 13\n",
      "Successfully queried page 14\n",
      "Successfully queried page 15\n",
      "Successfully queried page 16\n",
      "Successfully queried page 17\n",
      "Successfully queried page 18\n",
      "Successfully queried page 19\n",
      "Successfully queried page 20\n",
      "Successfully queried page 21\n",
      "Successfully queried page 22\n",
      "Successfully queried page 23\n",
      "Successfully queried page 24\n",
      "Successfully queried page 25\n",
      "Successfully queried page 26\n",
      "Successfully queried page 27\n",
      "Successfully queried page 28\n",
      "Successfully queried page 29\n",
      "Successfully queried page 30\n",
      "Successfully queried page 31\n",
      "Successfully queried page 32\n",
      "Successfully queried page 33\n",
      "Successfully queried page 34\n",
      "Successfully queried page 35\n",
      "Successfully queried page 36\n",
      "Successfully queried page 37\n",
      "Successfully queried page 38\n",
      "Successfully queried page 39\n",
      "Successfully queried page 40\n",
      "Successfully queried page 41\n",
      "Successfully queried page 42\n",
      "Successfully queried page 43\n",
      "Successfully queried page 44\n",
      "Successfully queried page 45\n",
      "Successfully queried page 46\n",
      "Successfully queried page 47\n",
      "Successfully queried page 48\n",
      "Successfully queried page 49\n",
      "Successfully queried page 50\n",
      "Successfully queried page 51\n",
      "Successfully queried page 52\n",
      "Successfully queried page 53\n",
      "Successfully queried page 54\n",
      "Successfully queried page 55\n",
      "Successfully queried page 56\n",
      "Successfully queried page 57\n",
      "Successfully queried page 58\n",
      "Successfully queried page 59\n",
      "Successfully queried page 60\n",
      "Successfully queried page 61\n",
      "Successfully queried page 62\n",
      "Successfully queried page 63\n",
      "Successfully queried page 64\n",
      "Successfully queried page 65\n",
      "Successfully queried page 66\n",
      "Successfully queried page 67\n",
      "Successfully queried page 68\n",
      "Successfully queried page 69\n",
      "Successfully queried page 70\n",
      "Successfully queried page 71\n",
      "Successfully queried page 72\n",
      "Successfully queried page 73\n",
      "Successfully queried page 74\n",
      "Successfully queried page 75\n",
      "Successfully queried page 76\n",
      "Successfully queried page 77\n",
      "Successfully queried page 78\n",
      "Successfully queried page 79\n",
      "Successfully queried page 80\n",
      "Successfully queried page 81\n",
      "Successfully queried page 82\n",
      "Successfully queried page 83\n",
      "Successfully queried page 84\n",
      "Successfully queried page 85\n",
      "Successfully queried page 86\n",
      "Successfully queried page 87\n",
      "Successfully queried page 88\n",
      "Successfully queried page 89\n",
      "Successfully queried page 90\n",
      "Successfully queried page 91\n",
      "Successfully queried page 92\n",
      "Successfully queried page 93\n",
      "Successfully queried page 94\n",
      "Successfully queried page 95\n",
      "Successfully queried page 96\n",
      "Successfully queried page 97\n",
      "Successfully queried page 98\n",
      "Successfully queried page 99\n",
      "Successfully queried page 100\n",
      "Successfully queried page 101\n",
      "Successfully queried page 102\n",
      "Successfully queried page 103\n",
      "Successfully queried page 104\n",
      "Successfully queried page 105\n",
      "Successfully queried page 106\n",
      "Successfully queried page 107\n",
      "Successfully queried page 108\n",
      "Successfully queried page 109\n",
      "Successfully queried page 110\n",
      "Successfully queried page 111\n",
      "Successfully queried page 112\n",
      "Successfully queried page 113\n",
      "Successfully queried page 114\n",
      "Successfully queried page 115\n",
      "Successfully queried page 116\n",
      "Successfully queried page 117\n",
      "Successfully queried page 118\n",
      "Successfully queried page 119\n",
      "Successfully queried page 120\n",
      "Successfully queried page 121\n",
      "Successfully queried page 122\n",
      "Successfully queried page 123\n",
      "Successfully queried page 124\n",
      "Successfully queried page 125\n",
      "Successfully queried page 126\n",
      "Successfully queried page 127\n",
      "Successfully queried page 128\n",
      "Successfully queried page 129\n",
      "Successfully queried page 130\n",
      "Successfully queried page 131\n",
      "Successfully queried page 132\n",
      "Successfully queried page 133\n",
      "Successfully queried page 134\n",
      "Successfully queried page 135\n",
      "Successfully queried page 136\n",
      "Successfully queried page 137\n",
      "Successfully queried page 138\n",
      "Successfully queried page 139\n",
      "Successfully queried page 140\n",
      "Successfully queried page 141\n",
      "Successfully queried page 142\n",
      "Successfully queried page 143\n",
      "Successfully queried page 144\n",
      "Successfully queried page 145\n",
      "Successfully queried page 146\n",
      "Successfully queried page 147\n",
      "Successfully queried page 148\n",
      "Successfully queried page 149\n",
      "Successfully queried page 150\n",
      "Successfully queried page 151\n",
      "Successfully queried page 152\n",
      "Successfully queried page 153\n",
      "Successfully queried page 154\n",
      "Successfully queried page 155\n",
      "Successfully queried page 156\n",
      "Successfully queried page 157\n",
      "Successfully queried page 158\n",
      "Successfully queried page 159\n",
      "Successfully queried page 160\n",
      "Successfully queried page 161\n",
      "Successfully queried page 162\n",
      "Successfully queried page 163\n",
      "Successfully queried page 164\n",
      "Successfully queried page 165\n",
      "Successfully queried page 166\n",
      "Successfully queried page 167\n",
      "Successfully queried page 168\n",
      "Successfully queried page 169\n",
      "Successfully queried page 170\n",
      "Successfully queried page 171\n",
      "Successfully queried page 172\n",
      "Successfully queried page 173\n",
      "Successfully queried page 174\n",
      "Successfully queried page 175\n",
      "Successfully queried page 176\n",
      "Successfully queried page 177\n",
      "Successfully queried page 178\n",
      "Successfully queried page 179\n",
      "Successfully queried page 180\n",
      "Successfully queried page 181\n",
      "Successfully queried page 182\n",
      "Successfully queried page 183\n",
      "Successfully queried page 184\n",
      "Successfully queried page 185\n",
      "Successfully queried page 186\n",
      "Successfully queried page 187\n",
      "Successfully queried page 188\n",
      "Successfully queried page 189\n",
      "Successfully queried page 190\n",
      "Successfully queried page 191\n",
      "Successfully queried page 192\n",
      "Successfully queried page 193\n",
      "Successfully queried page 194\n",
      "Successfully queried page 195\n",
      "Successfully queried page 196\n",
      "Successfully queried page 197\n",
      "Successfully queried page 198\n",
      "Successfully queried page 199\n",
      "Successfully queried page 200\n",
      "Successfully queried page 201\n",
      "Successfully queried page 202\n",
      "Successfully queried page 203\n",
      "Successfully queried page 204\n",
      "Successfully queried page 205\n",
      "Successfully queried page 206\n",
      "Successfully queried page 207\n",
      "Successfully queried page 208\n",
      "Successfully queried page 209\n",
      "Successfully queried page 210\n",
      "Successfully queried page 211\n",
      "Successfully queried page 212\n",
      "Successfully queried page 213\n",
      "Successfully queried page 214\n",
      "Successfully queried page 215\n",
      "Successfully queried page 216\n",
      "Successfully queried page 217\n",
      "Successfully queried page 218\n",
      "Successfully queried page 219\n",
      "Successfully queried page 220\n",
      "Successfully queried page 221\n",
      "Successfully queried page 222\n",
      "# mappings: 20\n",
      "Getting mapping for MP and CHEBI\n",
      "Mapping page count: 20.\n",
      "Successfully queried page 1.\n",
      "Successfully queried page 2\n",
      "Successfully queried page 3\n",
      "Successfully queried page 4\n",
      "Successfully queried page 5\n",
      "Successfully queried page 6\n",
      "Successfully queried page 7\n",
      "Successfully queried page 8\n",
      "Successfully queried page 9\n",
      "Successfully queried page 10\n",
      "Successfully queried page 11\n",
      "Successfully queried page 12\n",
      "Successfully queried page 13\n",
      "Successfully queried page 14\n",
      "Successfully queried page 15\n",
      "Successfully queried page 16\n",
      "Successfully queried page 17\n",
      "Successfully queried page 18\n",
      "Successfully queried page 19\n",
      "Successfully queried page 20\n",
      "# mappings: 0\n",
      "Getting mapping for MP and GO\n",
      "Mapping page count: 1.\n",
      "Successfully queried page 1.\n",
      "# mappings: 6\n",
      "Getting mapping for MP and SBO\n",
      "Mapping page count: 1.\n",
      "Successfully queried page 1.\n",
      "# mappings: 0\n",
      "Getting mapping for MP and DOID\n",
      "Mapping page count: 10.\n",
      "Successfully queried page 1.\n",
      "Successfully queried page 2\n",
      "Successfully queried page 3\n",
      "Successfully queried page 4\n",
      "Successfully queried page 5\n",
      "Successfully queried page 6\n",
      "Successfully queried page 7\n",
      "Successfully queried page 8\n",
      "Successfully queried page 9\n",
      "Successfully queried page 10\n",
      "# mappings: 481\n",
      "Getting mapping for MP and DRON\n",
      "Mapping page count: 12.\n",
      "Successfully queried page 1.\n",
      "Successfully queried page 2\n",
      "Successfully queried page 3\n",
      "Successfully queried page 4\n",
      "Successfully queried page 5\n",
      "Successfully queried page 6\n",
      "Successfully queried page 7\n",
      "Successfully queried page 8\n",
      "Successfully queried page 9\n",
      "Successfully queried page 10\n",
      "Successfully queried page 11\n",
      "Successfully queried page 12\n",
      "# mappings: 0\n",
      "Getting mapping for MP and HP\n",
      "Mapping page count: 26.\n",
      "Successfully queried page 1.\n",
      "Successfully queried page 2\n",
      "Successfully queried page 3\n",
      "Successfully queried page 4\n",
      "Successfully queried page 5\n",
      "Successfully queried page 6\n",
      "Successfully queried page 7\n",
      "Successfully queried page 8\n",
      "Successfully queried page 9\n",
      "Successfully queried page 10\n",
      "Successfully queried page 11\n",
      "Successfully queried page 12\n",
      "Successfully queried page 13\n",
      "Successfully queried page 14\n",
      "Successfully queried page 15\n",
      "Successfully queried page 16\n",
      "Successfully queried page 17\n",
      "Successfully queried page 18\n",
      "Successfully queried page 19\n",
      "Successfully queried page 20\n",
      "Successfully queried page 21\n",
      "Successfully queried page 22\n",
      "Successfully queried page 23\n",
      "Successfully queried page 24\n",
      "Successfully queried page 25\n",
      "Successfully queried page 26\n",
      "# mappings: 1257\n",
      "Getting mapping for MP and ENVO\n",
      "Mapping page count: 1.\n",
      "Successfully queried page 1.\n",
      "# mappings: 1\n"
     ]
    }
   ],
   "execution_count": 50
  },
  {
   "metadata": {},
   "cell_type": "markdown",
   "source": "## HP",
   "id": "7f8196179084f21e"
  },
  {
   "metadata": {
    "ExecuteTime": {
     "end_time": "2024-07-12T11:58:13.808524Z",
     "start_time": "2024-07-12T11:54:12.855549Z"
    }
   },
   "cell_type": "code",
   "source": [
    "extract_bioportal_mapping('HP', 'FOODON')\n",
    "extract_bioportal_mapping('HP', 'FOBI')\n",
    "extract_bioportal_mapping('HP', 'FIDEO')\n",
    "extract_bioportal_mapping('HP', 'CDNO')\n",
    "extract_bioportal_mapping('HP', 'CHIRO')\n",
    "extract_bioportal_mapping('HP', 'CHEBI')\n",
    "extract_bioportal_mapping('HP', 'GO')\n",
    "extract_bioportal_mapping('HP', 'SBO')\n",
    "extract_bioportal_mapping('HP', 'DOID')\n",
    "extract_bioportal_mapping('HP', 'DRON')\n",
    "extract_bioportal_mapping('HP', 'ENVO')"
   ],
   "id": "b399aa4f1567adc8",
   "outputs": [
    {
     "name": "stdout",
     "output_type": "stream",
     "text": [
      "Getting mapping for HP and FOODON\n",
      "Mapping page count: 1.\n",
      "Successfully queried page 1.\n",
      "# mappings: 2\n",
      "Getting mapping for HP and FOBI\n",
      "Mapping page count: 0.\n",
      "Successfully queried page 1.\n",
      "# mappings: 0\n",
      "Getting mapping for HP and FIDEO\n",
      "Mapping page count: 0.\n",
      "Successfully queried page 1.\n",
      "# mappings: 0\n",
      "Getting mapping for HP and CDNO\n",
      "Mapping page count: 0.\n",
      "Successfully queried page 1.\n",
      "# mappings: 0\n",
      "Getting mapping for HP and CHIRO\n",
      "Mapping page count: 21.\n",
      "Successfully queried page 1.\n",
      "Successfully queried page 2\n",
      "Successfully queried page 3\n",
      "Successfully queried page 4\n",
      "Successfully queried page 5\n",
      "Successfully queried page 6\n",
      "Successfully queried page 7\n",
      "Successfully queried page 8\n",
      "Successfully queried page 9\n",
      "Successfully queried page 10\n",
      "Successfully queried page 11\n",
      "Successfully queried page 12\n",
      "Successfully queried page 13\n",
      "Successfully queried page 14\n",
      "Successfully queried page 15\n",
      "Successfully queried page 16\n",
      "Successfully queried page 17\n",
      "Successfully queried page 18\n",
      "Successfully queried page 19\n",
      "Successfully queried page 20\n",
      "Successfully queried page 21\n",
      "# mappings: 1012\n",
      "Getting mapping for HP and CHEBI\n",
      "Mapping page count: 0.\n",
      "Successfully queried page 1.\n",
      "# mappings: 0\n",
      "Getting mapping for HP and GO\n",
      "Mapping page count: 1.\n",
      "Successfully queried page 1.\n",
      "# mappings: 4\n",
      "Getting mapping for HP and SBO\n",
      "Mapping page count: 1.\n",
      "Successfully queried page 1.\n",
      "# mappings: 1\n",
      "Getting mapping for HP and DOID\n",
      "Mapping page count: 34.\n",
      "Successfully queried page 1.\n",
      "Successfully queried page 2\n",
      "Successfully queried page 3\n",
      "Successfully queried page 4\n",
      "Successfully queried page 5\n",
      "Successfully queried page 6\n",
      "Successfully queried page 7\n",
      "Successfully queried page 8\n",
      "Successfully queried page 9\n",
      "Successfully queried page 10\n",
      "Successfully queried page 11\n",
      "Successfully queried page 12\n",
      "Successfully queried page 13\n",
      "Successfully queried page 14\n",
      "Successfully queried page 15\n",
      "Successfully queried page 16\n",
      "Successfully queried page 17\n",
      "Successfully queried page 18\n",
      "Successfully queried page 19\n",
      "Successfully queried page 20\n",
      "Successfully queried page 21\n",
      "Successfully queried page 22\n",
      "Successfully queried page 23\n",
      "Successfully queried page 24\n",
      "Successfully queried page 25\n",
      "Successfully queried page 26\n",
      "Successfully queried page 27\n",
      "Successfully queried page 28\n",
      "Successfully queried page 29\n",
      "Successfully queried page 30\n",
      "Successfully queried page 31\n",
      "Successfully queried page 32\n",
      "Successfully queried page 33\n",
      "Successfully queried page 34\n",
      "# mappings: 1126\n",
      "Getting mapping for HP and DRON\n",
      "Mapping page count: 0.\n",
      "Successfully queried page 1.\n",
      "# mappings: 0\n",
      "Getting mapping for HP and ENVO\n",
      "Mapping page count: 1.\n",
      "Successfully queried page 1.\n",
      "# mappings: 12\n"
     ]
    }
   ],
   "execution_count": 51
  },
  {
   "metadata": {},
   "cell_type": "markdown",
   "source": "## ENVO",
   "id": "b1099a7839ee2f75"
  },
  {
   "metadata": {
    "ExecuteTime": {
     "end_time": "2024-07-12T12:02:41.686664Z",
     "start_time": "2024-07-12T11:58:13.812266Z"
    }
   },
   "cell_type": "code",
   "source": [
    "extract_bioportal_mapping('ENVO', 'FOODON')\n",
    "extract_bioportal_mapping('ENVO', 'FOBI')\n",
    "extract_bioportal_mapping('ENVO', 'FIDEO')\n",
    "extract_bioportal_mapping('ENVO', 'CDNO')\n",
    "extract_bioportal_mapping('ENVO', 'CHIRO')\n",
    "extract_bioportal_mapping('ENVO', 'CHEBI')\n",
    "extract_bioportal_mapping('ENVO', 'GO')\n",
    "extract_bioportal_mapping('ENVO', 'SBO')\n",
    "extract_bioportal_mapping('ENVO', 'DOID')\n",
    "extract_bioportal_mapping('ENVO', 'DRON')"
   ],
   "id": "952e8361c4979ce6",
   "outputs": [
    {
     "name": "stdout",
     "output_type": "stream",
     "text": [
      "Getting mapping for ENVO and FOODON\n",
      "Mapping page count: 27.\n",
      "Successfully queried page 1.\n",
      "Successfully queried page 2\n",
      "Successfully queried page 3\n",
      "Successfully queried page 4\n",
      "Successfully queried page 5\n",
      "Successfully queried page 6\n",
      "Successfully queried page 7\n",
      "Successfully queried page 8\n",
      "Successfully queried page 9\n",
      "Successfully queried page 10\n",
      "Successfully queried page 11\n",
      "Successfully queried page 12\n",
      "Successfully queried page 13\n",
      "Successfully queried page 14\n",
      "Successfully queried page 15\n",
      "Successfully queried page 16\n",
      "Successfully queried page 17\n",
      "Successfully queried page 18\n",
      "Successfully queried page 19\n",
      "Successfully queried page 20\n",
      "Successfully queried page 21\n",
      "Successfully queried page 22\n",
      "Successfully queried page 23\n",
      "Successfully queried page 24\n",
      "Successfully queried page 25\n",
      "Successfully queried page 26\n",
      "Successfully queried page 27\n",
      "# mappings: 45\n",
      "Getting mapping for ENVO and FOBI\n",
      "Mapping page count: 1.\n",
      "Successfully queried page 1.\n",
      "# mappings: 4\n",
      "Getting mapping for ENVO and FIDEO\n",
      "Mapping page count: 1.\n",
      "Successfully queried page 1.\n",
      "# mappings: 2\n",
      "Getting mapping for ENVO and CDNO\n",
      "Mapping page count: 2.\n",
      "Successfully queried page 1.\n",
      "Successfully queried page 2\n",
      "# mappings: 2\n",
      "Getting mapping for ENVO and CHIRO\n",
      "Mapping page count: 4.\n",
      "Successfully queried page 1.\n",
      "Successfully queried page 2\n",
      "Successfully queried page 3\n",
      "Successfully queried page 4\n",
      "# mappings: 9\n",
      "Getting mapping for ENVO and CHEBI\n",
      "Mapping page count: 20.\n",
      "Successfully queried page 1.\n",
      "Successfully queried page 2\n",
      "Successfully queried page 3\n",
      "Successfully queried page 4\n",
      "Successfully queried page 5\n",
      "Successfully queried page 6\n",
      "Successfully queried page 7\n",
      "Successfully queried page 8\n",
      "Successfully queried page 9\n",
      "Successfully queried page 10\n",
      "Successfully queried page 11\n",
      "Successfully queried page 12\n",
      "Successfully queried page 13\n",
      "Successfully queried page 14\n",
      "Successfully queried page 15\n",
      "Successfully queried page 16\n",
      "Successfully queried page 17\n",
      "Successfully queried page 18\n",
      "Successfully queried page 19\n",
      "Successfully queried page 20\n",
      "# mappings: 21\n",
      "Getting mapping for ENVO and GO\n",
      "Mapping page count: 1.\n",
      "Successfully queried page 1.\n",
      "# mappings: 1\n",
      "Getting mapping for ENVO and SBO\n",
      "Mapping page count: 1.\n",
      "Successfully queried page 1.\n",
      "# mappings: 15\n",
      "Getting mapping for ENVO and DOID\n",
      "Mapping page count: 10.\n",
      "Successfully queried page 1.\n",
      "Successfully queried page 2\n",
      "Successfully queried page 3\n",
      "Successfully queried page 4\n",
      "Successfully queried page 5\n",
      "Successfully queried page 6\n",
      "Successfully queried page 7\n",
      "Successfully queried page 8\n",
      "Successfully queried page 9\n",
      "Successfully queried page 10\n",
      "# mappings: 8\n",
      "Getting mapping for ENVO and DRON\n",
      "Mapping page count: 16.\n",
      "Successfully queried page 1.\n",
      "Successfully queried page 2\n",
      "Successfully queried page 3\n",
      "Successfully queried page 4\n",
      "Successfully queried page 5\n",
      "Successfully queried page 6\n",
      "Successfully queried page 7\n",
      "Successfully queried page 8\n",
      "Successfully queried page 9\n",
      "Successfully queried page 10\n",
      "Successfully queried page 11\n",
      "Successfully queried page 12\n",
      "Successfully queried page 13\n",
      "Successfully queried page 14\n",
      "Successfully queried page 15\n",
      "Successfully queried page 16\n",
      "# mappings: 21\n"
     ]
    }
   ],
   "execution_count": 52
  },
  {
   "metadata": {},
   "cell_type": "markdown",
   "source": "# Merge Dataframes",
   "id": "4f4004e79cd8ecce"
  },
  {
   "metadata": {
    "ExecuteTime": {
     "end_time": "2024-07-12T14:35:29.223452Z",
     "start_time": "2024-07-12T14:35:29.145759Z"
    }
   },
   "cell_type": "code",
   "source": [
    "file_count = 0\n",
    "\n",
    "all_mappings = pd.DataFrame(columns=['entity_1', 'entity_2'])\n",
    "\n",
    "for file in os.listdir(ontology_folder):\n",
    "    print(file)\n",
    "    file_count += 1\n",
    "    file_path = os.path.join(ontology_folder, file)\n",
    "    df_temp = pd.read_csv(file_path)\n",
    "    df_temp.columns = ['entity_1', 'entity_2']\n",
    "    all_mappings = pd.concat([all_mappings, df_temp], ignore_index=True)\n",
    "    \n",
    "file_count"
   ],
   "id": "be402e646dcb0563",
   "outputs": [
    {
     "name": "stdout",
     "output_type": "stream",
     "text": [
      "DRON_CDNO_mapping.csv\n",
      "MP_CDNO_mapping.csv\n",
      "CHIRO_SBO_mapping.csv\n",
      "HP_CDNO_mapping.csv\n",
      "DOID_DRON_mapping.csv\n",
      "FOODON_FOBI_mapping.csv\n",
      "CHIRO_CDNO_mapping.csv\n",
      "FOODON_GO_mapping.csv\n",
      "DOID_CHEBI_mapping.csv\n",
      "CHIRO_FIDEO_mapping.csv\n",
      "CHEBI_FOBI_mapping.csv\n",
      "DOID_GO_mapping.csv\n",
      "ENVO_DOID_mapping.csv\n",
      "MP_ENVO_mapping.csv\n",
      "HP_DOID_mapping.csv\n",
      "DOID_CHIRO_mapping.csv\n",
      "FOBI_FIDEO_mapping.csv\n",
      "GO_SBO_mapping.csv\n",
      "HP_ENVO_mapping.csv\n",
      "HP_FOODON_mapping.csv\n",
      "MP_DOID_mapping.csv\n",
      "CDNO_FOBI_mapping.csv\n",
      "DOID_FOBI_mapping.csv\n",
      "FOODON_DRON_mapping.csv\n",
      "FOODON_SBO_mapping.csv\n",
      "SBO_FOBI_mapping.csv\n",
      "MP_GO_mapping.csv\n",
      "ENVO_CDNO_mapping.csv\n",
      "GO_FOBI_mapping.csv\n",
      "CHEBI_DRON_mapping.csv\n",
      "GO_FIDEO_mapping.csv\n",
      "MP_FOODON_mapping.csv\n",
      "ENVO_FOBI_mapping.csv\n",
      "GO_CDNO_mapping.csv\n",
      "ENVO_SBO_mapping.csv\n",
      "CDNO_FIDEO_mapping.csv\n",
      "ENVO_CHEBI_mapping.csv\n",
      "CHEBI_SBO_mapping.csv\n",
      "HP_FIDEO_mapping.csv\n",
      "FOODON_CHEBI_mapping.csv\n",
      "HP_CHIRO_mapping.csv\n",
      "DRON_GO_mapping.csv\n",
      "HP_SBO_mapping.csv\n",
      "HP_GO_mapping.csv\n",
      "FOODON_DOID_mapping.csv\n",
      "MP_DRON_mapping.csv\n",
      "DOID_CDNO_mapping.csv\n",
      "CHEBI_FIDEO_mapping.csv\n",
      "CHEBI_CHIRO_mapping.csv\n",
      "SBO_CDNO_mapping.csv\n",
      "MP_CHEBI_mapping.csv\n",
      "HP_DRON_mapping.csv\n",
      "ENVO_DRON_mapping.csv\n",
      "SBO_FIDEO_mapping.csv\n",
      "CHEBI_CDNO_mapping.csv\n",
      "CHIRO_FOBI_mapping.csv\n",
      "ENVO_FOODON_mapping.csv\n",
      "DRON_CHIRO_mapping.csv\n",
      "DOID_SBO_mapping.csv\n",
      "DRON_FIDEO_mapping.csv\n",
      "CHEBI_GO_mapping.csv\n",
      "MP_CHIRO_mapping.csv\n",
      "MP_FIDEO_mapping.csv\n",
      "ENVO_CHIRO_mapping.csv\n",
      "MP_SBO_mapping.csv\n",
      "DRON_FOBI_mapping.csv\n",
      "ENVO_FIDEO_mapping.csv\n",
      "MP_FOBI_mapping.csv\n",
      "DRON_SBO_mapping.csv\n",
      "FOODON_CDNO_mapping.csv\n",
      "HP_CHEBI_mapping.csv\n",
      "FOODON_CHIRO_mapping.csv\n",
      "ENVO_GO_mapping.csv\n",
      "CHIRO_GO_mapping.csv\n",
      "HP_FOBI_mapping.csv\n",
      "MP_HP_mapping.csv\n",
      "FOODON_FIDEO_mapping.csv\n"
     ]
    },
    {
     "data": {
      "text/plain": [
       "77"
      ]
     },
     "execution_count": 54,
     "metadata": {},
     "output_type": "execute_result"
    }
   ],
   "execution_count": 54
  },
  {
   "metadata": {
    "ExecuteTime": {
     "end_time": "2024-07-12T14:35:33.326697Z",
     "start_time": "2024-07-12T14:35:33.319919Z"
    }
   },
   "cell_type": "code",
   "source": "all_mappings",
   "id": "81e14cca896a740f",
   "outputs": [
    {
     "data": {
      "text/plain": [
       "                                            entity_1  \\\n",
       "0         http://purl.obolibrary.org/obo/CHEBI_15600   \n",
       "1         http://purl.obolibrary.org/obo/CHEBI_36080   \n",
       "2         http://purl.obolibrary.org/obo/CHEBI_22470   \n",
       "3        http://purl.obolibrary.org/obo/CHEBI_176843   \n",
       "4         http://purl.obolibrary.org/obo/CHEBI_42255   \n",
       "...                                              ...   \n",
       "5629  http://purl.obolibrary.org/obo/FOODON_03412050   \n",
       "5630      http://purl.obolibrary.org/obo/CHEBI_31608   \n",
       "5631  http://purl.obolibrary.org/obo/NCBITaxon_65561   \n",
       "5632  http://purl.obolibrary.org/obo/FOODON_00003718   \n",
       "5633      http://purl.obolibrary.org/obo/CHEBI_24041   \n",
       "\n",
       "                                               entity_2  \n",
       "0            http://purl.obolibrary.org/obo/CHEBI_23053  \n",
       "1           http://purl.obolibrary.org/obo/PR_000000001  \n",
       "2            http://purl.obolibrary.org/obo/CHEBI_18145  \n",
       "3            http://purl.obolibrary.org/obo/CHEBI_17439  \n",
       "4            http://purl.obolibrary.org/obo/CHEBI_71227  \n",
       "...                                                 ...  \n",
       "5629     http://purl.obolibrary.org/obo/FOODON_03414195  \n",
       "5630       http://purl.obolibrary.org/obo/DRON_00016651  \n",
       "5631  http://purl.obolibrary.org/obo/fideo/FIDEO_000...  \n",
       "5632       http://purl.obolibrary.org/obo/DRON_00012309  \n",
       "5633         http://purl.obolibrary.org/obo/CHEBI_17621  \n",
       "\n",
       "[5634 rows x 2 columns]"
      ],
      "text/html": [
       "<div>\n",
       "<style scoped>\n",
       "    .dataframe tbody tr th:only-of-type {\n",
       "        vertical-align: middle;\n",
       "    }\n",
       "\n",
       "    .dataframe tbody tr th {\n",
       "        vertical-align: top;\n",
       "    }\n",
       "\n",
       "    .dataframe thead th {\n",
       "        text-align: right;\n",
       "    }\n",
       "</style>\n",
       "<table border=\"1\" class=\"dataframe\">\n",
       "  <thead>\n",
       "    <tr style=\"text-align: right;\">\n",
       "      <th></th>\n",
       "      <th>entity_1</th>\n",
       "      <th>entity_2</th>\n",
       "    </tr>\n",
       "  </thead>\n",
       "  <tbody>\n",
       "    <tr>\n",
       "      <th>0</th>\n",
       "      <td>http://purl.obolibrary.org/obo/CHEBI_15600</td>\n",
       "      <td>http://purl.obolibrary.org/obo/CHEBI_23053</td>\n",
       "    </tr>\n",
       "    <tr>\n",
       "      <th>1</th>\n",
       "      <td>http://purl.obolibrary.org/obo/CHEBI_36080</td>\n",
       "      <td>http://purl.obolibrary.org/obo/PR_000000001</td>\n",
       "    </tr>\n",
       "    <tr>\n",
       "      <th>2</th>\n",
       "      <td>http://purl.obolibrary.org/obo/CHEBI_22470</td>\n",
       "      <td>http://purl.obolibrary.org/obo/CHEBI_18145</td>\n",
       "    </tr>\n",
       "    <tr>\n",
       "      <th>3</th>\n",
       "      <td>http://purl.obolibrary.org/obo/CHEBI_176843</td>\n",
       "      <td>http://purl.obolibrary.org/obo/CHEBI_17439</td>\n",
       "    </tr>\n",
       "    <tr>\n",
       "      <th>4</th>\n",
       "      <td>http://purl.obolibrary.org/obo/CHEBI_42255</td>\n",
       "      <td>http://purl.obolibrary.org/obo/CHEBI_71227</td>\n",
       "    </tr>\n",
       "    <tr>\n",
       "      <th>...</th>\n",
       "      <td>...</td>\n",
       "      <td>...</td>\n",
       "    </tr>\n",
       "    <tr>\n",
       "      <th>5629</th>\n",
       "      <td>http://purl.obolibrary.org/obo/FOODON_03412050</td>\n",
       "      <td>http://purl.obolibrary.org/obo/FOODON_03414195</td>\n",
       "    </tr>\n",
       "    <tr>\n",
       "      <th>5630</th>\n",
       "      <td>http://purl.obolibrary.org/obo/CHEBI_31608</td>\n",
       "      <td>http://purl.obolibrary.org/obo/DRON_00016651</td>\n",
       "    </tr>\n",
       "    <tr>\n",
       "      <th>5631</th>\n",
       "      <td>http://purl.obolibrary.org/obo/NCBITaxon_65561</td>\n",
       "      <td>http://purl.obolibrary.org/obo/fideo/FIDEO_000...</td>\n",
       "    </tr>\n",
       "    <tr>\n",
       "      <th>5632</th>\n",
       "      <td>http://purl.obolibrary.org/obo/FOODON_00003718</td>\n",
       "      <td>http://purl.obolibrary.org/obo/DRON_00012309</td>\n",
       "    </tr>\n",
       "    <tr>\n",
       "      <th>5633</th>\n",
       "      <td>http://purl.obolibrary.org/obo/CHEBI_24041</td>\n",
       "      <td>http://purl.obolibrary.org/obo/CHEBI_17621</td>\n",
       "    </tr>\n",
       "  </tbody>\n",
       "</table>\n",
       "<p>5634 rows × 2 columns</p>\n",
       "</div>"
      ]
     },
     "execution_count": 55,
     "metadata": {},
     "output_type": "execute_result"
    }
   ],
   "execution_count": 55
  },
  {
   "metadata": {
    "ExecuteTime": {
     "end_time": "2024-07-12T14:35:38.977213Z",
     "start_time": "2024-07-12T14:35:38.968684Z"
    }
   },
   "cell_type": "code",
   "source": "all_mappings[all_mappings.duplicated()]",
   "id": "2928f4d2f5376cc2",
   "outputs": [
    {
     "data": {
      "text/plain": [
       "                                            entity_1  \\\n",
       "125       http://purl.obolibrary.org/obo/CHEBI_50906   \n",
       "132   http://purl.obolibrary.org/obo/NCBITaxon_29189   \n",
       "367       http://purl.obolibrary.org/obo/CHEBI_15600   \n",
       "381   http://purl.obolibrary.org/obo/NCBITaxon_29189   \n",
       "386       http://purl.obolibrary.org/obo/CHEBI_50906   \n",
       "...                                              ...   \n",
       "5624       http://purl.obolibrary.org/obo/HP_0003298   \n",
       "5626       http://purl.obolibrary.org/obo/HP_0000326   \n",
       "5627       http://purl.obolibrary.org/obo/HP_0001196   \n",
       "5628       http://purl.obolibrary.org/obo/HP_0012506   \n",
       "5632  http://purl.obolibrary.org/obo/FOODON_00003718   \n",
       "\n",
       "                                          entity_2  \n",
       "125     http://purl.obolibrary.org/obo/BFO_0000023  \n",
       "132     http://purl.obolibrary.org/obo/CHEBI_16134  \n",
       "367     http://purl.obolibrary.org/obo/CHEBI_23053  \n",
       "381     http://purl.obolibrary.org/obo/CHEBI_16134  \n",
       "386     http://purl.obolibrary.org/obo/BFO_0000023  \n",
       "...                                            ...  \n",
       "5624     http://purl.obolibrary.org/obo/MP_0005297  \n",
       "5626     http://purl.obolibrary.org/obo/MP_0000455  \n",
       "5627     http://purl.obolibrary.org/obo/MP_0012304  \n",
       "5628     http://purl.obolibrary.org/obo/MP_0005361  \n",
       "5632  http://purl.obolibrary.org/obo/DRON_00012309  \n",
       "\n",
       "[1913 rows x 2 columns]"
      ],
      "text/html": [
       "<div>\n",
       "<style scoped>\n",
       "    .dataframe tbody tr th:only-of-type {\n",
       "        vertical-align: middle;\n",
       "    }\n",
       "\n",
       "    .dataframe tbody tr th {\n",
       "        vertical-align: top;\n",
       "    }\n",
       "\n",
       "    .dataframe thead th {\n",
       "        text-align: right;\n",
       "    }\n",
       "</style>\n",
       "<table border=\"1\" class=\"dataframe\">\n",
       "  <thead>\n",
       "    <tr style=\"text-align: right;\">\n",
       "      <th></th>\n",
       "      <th>entity_1</th>\n",
       "      <th>entity_2</th>\n",
       "    </tr>\n",
       "  </thead>\n",
       "  <tbody>\n",
       "    <tr>\n",
       "      <th>125</th>\n",
       "      <td>http://purl.obolibrary.org/obo/CHEBI_50906</td>\n",
       "      <td>http://purl.obolibrary.org/obo/BFO_0000023</td>\n",
       "    </tr>\n",
       "    <tr>\n",
       "      <th>132</th>\n",
       "      <td>http://purl.obolibrary.org/obo/NCBITaxon_29189</td>\n",
       "      <td>http://purl.obolibrary.org/obo/CHEBI_16134</td>\n",
       "    </tr>\n",
       "    <tr>\n",
       "      <th>367</th>\n",
       "      <td>http://purl.obolibrary.org/obo/CHEBI_15600</td>\n",
       "      <td>http://purl.obolibrary.org/obo/CHEBI_23053</td>\n",
       "    </tr>\n",
       "    <tr>\n",
       "      <th>381</th>\n",
       "      <td>http://purl.obolibrary.org/obo/NCBITaxon_29189</td>\n",
       "      <td>http://purl.obolibrary.org/obo/CHEBI_16134</td>\n",
       "    </tr>\n",
       "    <tr>\n",
       "      <th>386</th>\n",
       "      <td>http://purl.obolibrary.org/obo/CHEBI_50906</td>\n",
       "      <td>http://purl.obolibrary.org/obo/BFO_0000023</td>\n",
       "    </tr>\n",
       "    <tr>\n",
       "      <th>...</th>\n",
       "      <td>...</td>\n",
       "      <td>...</td>\n",
       "    </tr>\n",
       "    <tr>\n",
       "      <th>5624</th>\n",
       "      <td>http://purl.obolibrary.org/obo/HP_0003298</td>\n",
       "      <td>http://purl.obolibrary.org/obo/MP_0005297</td>\n",
       "    </tr>\n",
       "    <tr>\n",
       "      <th>5626</th>\n",
       "      <td>http://purl.obolibrary.org/obo/HP_0000326</td>\n",
       "      <td>http://purl.obolibrary.org/obo/MP_0000455</td>\n",
       "    </tr>\n",
       "    <tr>\n",
       "      <th>5627</th>\n",
       "      <td>http://purl.obolibrary.org/obo/HP_0001196</td>\n",
       "      <td>http://purl.obolibrary.org/obo/MP_0012304</td>\n",
       "    </tr>\n",
       "    <tr>\n",
       "      <th>5628</th>\n",
       "      <td>http://purl.obolibrary.org/obo/HP_0012506</td>\n",
       "      <td>http://purl.obolibrary.org/obo/MP_0005361</td>\n",
       "    </tr>\n",
       "    <tr>\n",
       "      <th>5632</th>\n",
       "      <td>http://purl.obolibrary.org/obo/FOODON_00003718</td>\n",
       "      <td>http://purl.obolibrary.org/obo/DRON_00012309</td>\n",
       "    </tr>\n",
       "  </tbody>\n",
       "</table>\n",
       "<p>1913 rows × 2 columns</p>\n",
       "</div>"
      ]
     },
     "execution_count": 56,
     "metadata": {},
     "output_type": "execute_result"
    }
   ],
   "execution_count": 56
  },
  {
   "metadata": {
    "ExecuteTime": {
     "end_time": "2024-07-12T14:35:40.404845Z",
     "start_time": "2024-07-12T14:35:40.399239Z"
    }
   },
   "cell_type": "code",
   "source": "all_mappings = all_mappings.drop_duplicates()",
   "id": "1538b8b6c5b08308",
   "outputs": [],
   "execution_count": 57
  },
  {
   "metadata": {
    "ExecuteTime": {
     "end_time": "2024-07-12T14:35:42.528025Z",
     "start_time": "2024-07-12T14:35:42.516904Z"
    }
   },
   "cell_type": "code",
   "source": "all_mappings.to_csv(os.path.join(ontology_folder, 'all_mappings.csv'))",
   "id": "1a1362e924a4b04c",
   "outputs": [],
   "execution_count": 58
  },
  {
   "metadata": {},
   "cell_type": "code",
   "outputs": [],
   "execution_count": null,
   "source": "",
   "id": "680260dcf1754056"
  }
 ],
 "metadata": {
  "kernelspec": {
   "display_name": "Python 3",
   "language": "python",
   "name": "python3"
  },
  "language_info": {
   "codemirror_mode": {
    "name": "ipython",
    "version": 2
   },
   "file_extension": ".py",
   "mimetype": "text/x-python",
   "name": "python",
   "nbconvert_exporter": "python",
   "pygments_lexer": "ipython2",
   "version": "2.7.6"
  }
 },
 "nbformat": 4,
 "nbformat_minor": 5
}
