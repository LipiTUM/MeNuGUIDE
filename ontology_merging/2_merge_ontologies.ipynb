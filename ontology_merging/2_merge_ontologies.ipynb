{
 "cells": [
  {
   "cell_type": "code",
   "id": "initial_id",
   "metadata": {
    "collapsed": true,
    "ExecuteTime": {
     "end_time": "2024-07-22T13:24:33.526944Z",
     "start_time": "2024-07-22T13:24:32.844482Z"
    }
   },
   "source": [
    "import os\n",
    "import pandas as pd\n",
    "from rdflib import Graph, RDF, OWL, URIRef, RDFS"
   ],
   "outputs": [],
   "execution_count": 1
  },
  {
   "metadata": {},
   "cell_type": "markdown",
   "source": [
    "*MeNU GUIDE*\n",
    "# Ontology Merging\n",
    "## Load Ontologies"
   ],
   "id": "ce80482ba198e560"
  },
  {
   "metadata": {},
   "cell_type": "code",
   "outputs": [],
   "execution_count": null,
   "source": "ontology_folder = \"/path/to/ontologies/\"",
   "id": "48870e98ef38153c"
  },
  {
   "metadata": {
    "ExecuteTime": {
     "end_time": "2024-07-22T13:24:33.530664Z",
     "start_time": "2024-07-22T13:24:33.527836Z"
    }
   },
   "cell_type": "code",
   "source": "merged_graph = Graph()",
   "id": "56badf38ef43d6c4",
   "outputs": [],
   "execution_count": 2
  },
  {
   "metadata": {
    "ExecuteTime": {
     "end_time": "2024-07-22T13:28:29.504292Z",
     "start_time": "2024-07-22T13:24:34.497459Z"
    }
   },
   "cell_type": "code",
   "source": [
    "merged_graph.parse(os.path.join(ontology_folder, \"chebi.owl\"), format=\"xml\")\n",
    "len(merged_graph)"
   ],
   "id": "9f10eb602efeeb62",
   "outputs": [
    {
     "data": {
      "text/plain": [
       "6918400"
      ]
     },
     "execution_count": 3,
     "metadata": {},
     "output_type": "execute_result"
    }
   ],
   "execution_count": 3
  },
  {
   "metadata": {
    "ExecuteTime": {
     "end_time": "2024-07-22T13:28:37.058826Z",
     "start_time": "2024-07-22T13:28:36.935762Z"
    }
   },
   "cell_type": "code",
   "source": [
    "merged_graph.parse(os.path.join(ontology_folder, \"chiro.owl\"), format=\"xml\")\n",
    "len(merged_graph)"
   ],
   "id": "890897da1c8ccfaf",
   "outputs": [
    {
     "data": {
      "text/plain": [
       "6921523"
      ]
     },
     "execution_count": 4,
     "metadata": {},
     "output_type": "execute_result"
    }
   ],
   "execution_count": 4
  },
  {
   "metadata": {
    "ExecuteTime": {
     "end_time": "2024-07-22T13:30:30.512405Z",
     "start_time": "2024-07-22T13:28:40.691686Z"
    }
   },
   "cell_type": "code",
   "source": [
    "merged_graph.parse(os.path.join(ontology_folder, \"go-plus.owl\"), format=\"xml\")\n",
    "len(merged_graph)"
   ],
   "id": "853eaf65c6601a2e",
   "outputs": [
    {
     "data": {
      "text/plain": [
       "9248945"
      ]
     },
     "execution_count": 5,
     "metadata": {},
     "output_type": "execute_result"
    }
   ],
   "execution_count": 5
  },
  {
   "metadata": {
    "ExecuteTime": {
     "end_time": "2024-07-22T13:30:30.691289Z",
     "start_time": "2024-07-22T13:30:30.514742Z"
    }
   },
   "cell_type": "code",
   "source": [
    "merged_graph.parse(os.path.join(ontology_folder, \"SBO_OWL.owl\"), format=\"xml\")\n",
    "len(merged_graph)"
   ],
   "id": "fe7eda119aea5c26",
   "outputs": [
    {
     "data": {
      "text/plain": [
       "9251935"
      ]
     },
     "execution_count": 6,
     "metadata": {},
     "output_type": "execute_result"
    }
   ],
   "execution_count": 6
  },
  {
   "metadata": {
    "ExecuteTime": {
     "end_time": "2024-07-22T13:32:01.660053Z",
     "start_time": "2024-07-22T13:30:30.691882Z"
    }
   },
   "cell_type": "code",
   "source": [
    "merged_graph.parse(os.path.join(ontology_folder, \"doid-merged.owl\"), format=\"xml\")\n",
    "len(merged_graph)"
   ],
   "id": "bed78fea25dcf0f3",
   "outputs": [
    {
     "data": {
      "text/plain": [
       "9538669"
      ]
     },
     "execution_count": 7,
     "metadata": {},
     "output_type": "execute_result"
    }
   ],
   "execution_count": 7
  },
  {
   "metadata": {
    "ExecuteTime": {
     "end_time": "2024-07-22T13:40:38.255688Z",
     "start_time": "2024-07-22T13:32:01.663519Z"
    }
   },
   "cell_type": "code",
   "source": [
    "merged_graph.parse(os.path.join(ontology_folder, \"dron.owl\"), format=\"xml\")\n",
    "len(merged_graph)"
   ],
   "id": "580c0197ea79965d",
   "outputs": [
    {
     "data": {
      "text/plain": [
       "16766330"
      ]
     },
     "execution_count": 8,
     "metadata": {},
     "output_type": "execute_result"
    }
   ],
   "execution_count": 8
  },
  {
   "metadata": {
    "ExecuteTime": {
     "end_time": "2024-07-22T13:40:48.704478Z",
     "start_time": "2024-07-22T13:40:38.286860Z"
    }
   },
   "cell_type": "code",
   "source": [
    "merged_graph.parse(os.path.join(ontology_folder, \"foodon.owl\"), format=\"xml\")\n",
    "len(merged_graph)"
   ],
   "id": "383f3913a7faae53",
   "outputs": [
    {
     "data": {
      "text/plain": [
       "17191883"
      ]
     },
     "execution_count": 9,
     "metadata": {},
     "output_type": "execute_result"
    }
   ],
   "execution_count": 9
  },
  {
   "metadata": {
    "ExecuteTime": {
     "end_time": "2024-07-22T13:40:49.456086Z",
     "start_time": "2024-07-22T13:40:48.707229Z"
    }
   },
   "cell_type": "code",
   "source": [
    "merged_graph.parse(os.path.join(ontology_folder, \"fobi.owl\"), format=\"xml\")\n",
    "len(merged_graph)"
   ],
   "id": "f5fe97841b5d3321",
   "outputs": [
    {
     "data": {
      "text/plain": [
       "17223156"
      ]
     },
     "execution_count": 10,
     "metadata": {},
     "output_type": "execute_result"
    }
   ],
   "execution_count": 10
  },
  {
   "metadata": {
    "ExecuteTime": {
     "end_time": "2024-07-22T13:40:50.981709Z",
     "start_time": "2024-07-22T13:40:49.457039Z"
    }
   },
   "cell_type": "code",
   "source": [
    "merged_graph.parse(os.path.join(ontology_folder, \"fideo.owl\"), format=\"xml\")\n",
    "len(merged_graph)"
   ],
   "id": "aa6f5d5c9c2d9b0",
   "outputs": [
    {
     "data": {
      "text/plain": [
       "17267534"
      ]
     },
     "execution_count": 11,
     "metadata": {},
     "output_type": "execute_result"
    }
   ],
   "execution_count": 11
  },
  {
   "metadata": {
    "ExecuteTime": {
     "end_time": "2024-07-22T13:40:54.068446Z",
     "start_time": "2024-07-22T13:40:50.983052Z"
    }
   },
   "cell_type": "code",
   "source": [
    "merged_graph.parse(os.path.join(ontology_folder, \"cdno.owl\"), format=\"xml\")\n",
    "len(merged_graph)"
   ],
   "id": "b4788e8eae0e513",
   "outputs": [
    {
     "data": {
      "text/plain": [
       "17373676"
      ]
     },
     "execution_count": 12,
     "metadata": {},
     "output_type": "execute_result"
    }
   ],
   "execution_count": 12
  },
  {
   "metadata": {
    "ExecuteTime": {
     "end_time": "2024-07-22T13:41:25.374472Z",
     "start_time": "2024-07-22T13:40:54.070880Z"
    }
   },
   "cell_type": "code",
   "source": [
    "merged_graph.parse(os.path.join(ontology_folder, \"mp-full.owl\"), format=\"xml\")\n",
    "len(merged_graph)"
   ],
   "id": "1af6d1f078b6265d",
   "outputs": [
    {
     "data": {
      "text/plain": [
       "18714653"
      ]
     },
     "execution_count": 13,
     "metadata": {},
     "output_type": "execute_result"
    }
   ],
   "execution_count": 13
  },
  {
   "metadata": {
    "ExecuteTime": {
     "end_time": "2024-07-22T13:48:37.243242Z",
     "start_time": "2024-07-22T13:41:25.378870Z"
    }
   },
   "cell_type": "code",
   "source": [
    "merged_graph.parse(os.path.join(ontology_folder, \"hp.owl\"), format=\"xml\")\n",
    "len(merged_graph)"
   ],
   "id": "6b5f04247489dd3d",
   "outputs": [
    {
     "data": {
      "text/plain": [
       "19473236"
      ]
     },
     "execution_count": 14,
     "metadata": {},
     "output_type": "execute_result"
    }
   ],
   "execution_count": 14
  },
  {
   "metadata": {
    "ExecuteTime": {
     "end_time": "2024-07-22T13:48:40.066716Z",
     "start_time": "2024-07-22T13:48:37.251787Z"
    }
   },
   "cell_type": "code",
   "source": [
    "merged_graph.parse(os.path.join(ontology_folder, \"envo.owl\"), format=\"xml\")\n",
    "len(merged_graph)"
   ],
   "id": "91562f5f89f6fa6",
   "outputs": [
    {
     "data": {
      "text/plain": [
       "19565843"
      ]
     },
     "execution_count": 15,
     "metadata": {},
     "output_type": "execute_result"
    }
   ],
   "execution_count": 15
  },
  {
   "metadata": {
    "ExecuteTime": {
     "end_time": "2024-07-22T15:58:14.562439Z",
     "start_time": "2024-07-22T15:21:00.440441Z"
    }
   },
   "cell_type": "code",
   "source": "merged_graph.serialize(destination=os.path.join(ontology_folder, \"merged_without_mapping.ttl\"), format=\"turtle\")",
   "id": "45242e22c7aea38b",
   "outputs": [
    {
     "data": {
      "text/plain": [
       "<Graph identifier=Nbe05403737fa44c3968f5fac07b9513b (<class 'rdflib.graph.Graph'>)>"
      ]
     },
     "execution_count": 18,
     "metadata": {},
     "output_type": "execute_result"
    }
   ],
   "execution_count": 18
  },
  {
   "metadata": {
    "ExecuteTime": {
     "end_time": "2024-07-22T17:06:32.544405Z",
     "start_time": "2024-07-22T15:58:14.570503Z"
    }
   },
   "cell_type": "code",
   "source": [
    "merged_graph = Graph()\n",
    "merged_graph.parse(os.path.join(ontology_folder, \"merged_without_mapping.ttl\"), format=\"turtle\")\n",
    "len(merged_graph)"
   ],
   "id": "24c112f7855437d5",
   "outputs": [
    {
     "data": {
      "text/plain": [
       "19565861"
      ]
     },
     "execution_count": 19,
     "metadata": {},
     "output_type": "execute_result"
    }
   ],
   "execution_count": 19
  },
  {
   "metadata": {},
   "cell_type": "markdown",
   "source": "## Add mapping info",
   "id": "62ae49137a394b02"
  },
  {
   "metadata": {
    "ExecuteTime": {
     "end_time": "2024-07-23T10:02:57.550242Z",
     "start_time": "2024-07-23T10:02:57.420558Z"
    }
   },
   "cell_type": "code",
   "source": "mapping_file = pd.read_csv(os.path.join(ontology_folder, \"all_mappings.csv\"))",
   "id": "16ec273dba804c7d",
   "outputs": [],
   "execution_count": 20
  },
  {
   "metadata": {
    "ExecuteTime": {
     "end_time": "2024-07-23T10:02:58.348602Z",
     "start_time": "2024-07-23T10:02:58.335588Z"
    }
   },
   "cell_type": "code",
   "source": "mapping_file",
   "id": "c31a9597bf29f674",
   "outputs": [
    {
     "data": {
      "text/plain": [
       "      Unnamed: 0                                        entity_1  \\\n",
       "0              0      http://purl.obolibrary.org/obo/CHEBI_15600   \n",
       "1              1      http://purl.obolibrary.org/obo/CHEBI_36080   \n",
       "2              2      http://purl.obolibrary.org/obo/CHEBI_22470   \n",
       "3              3     http://purl.obolibrary.org/obo/CHEBI_176843   \n",
       "4              4      http://purl.obolibrary.org/obo/CHEBI_42255   \n",
       "...          ...                                             ...   \n",
       "3716        5625       http://purl.obolibrary.org/obo/HP_0001572   \n",
       "3717        5629  http://purl.obolibrary.org/obo/FOODON_03412050   \n",
       "3718        5630      http://purl.obolibrary.org/obo/CHEBI_31608   \n",
       "3719        5631  http://purl.obolibrary.org/obo/NCBITaxon_65561   \n",
       "3720        5633      http://purl.obolibrary.org/obo/CHEBI_24041   \n",
       "\n",
       "                                               entity_2  \n",
       "0            http://purl.obolibrary.org/obo/CHEBI_23053  \n",
       "1           http://purl.obolibrary.org/obo/PR_000000001  \n",
       "2            http://purl.obolibrary.org/obo/CHEBI_18145  \n",
       "3            http://purl.obolibrary.org/obo/CHEBI_17439  \n",
       "4            http://purl.obolibrary.org/obo/CHEBI_71227  \n",
       "...                                                 ...  \n",
       "3716          http://purl.obolibrary.org/obo/MP_0030091  \n",
       "3717     http://purl.obolibrary.org/obo/FOODON_03414195  \n",
       "3718       http://purl.obolibrary.org/obo/DRON_00016651  \n",
       "3719  http://purl.obolibrary.org/obo/fideo/FIDEO_000...  \n",
       "3720         http://purl.obolibrary.org/obo/CHEBI_17621  \n",
       "\n",
       "[3721 rows x 3 columns]"
      ],
      "text/html": [
       "<div>\n",
       "<style scoped>\n",
       "    .dataframe tbody tr th:only-of-type {\n",
       "        vertical-align: middle;\n",
       "    }\n",
       "\n",
       "    .dataframe tbody tr th {\n",
       "        vertical-align: top;\n",
       "    }\n",
       "\n",
       "    .dataframe thead th {\n",
       "        text-align: right;\n",
       "    }\n",
       "</style>\n",
       "<table border=\"1\" class=\"dataframe\">\n",
       "  <thead>\n",
       "    <tr style=\"text-align: right;\">\n",
       "      <th></th>\n",
       "      <th>Unnamed: 0</th>\n",
       "      <th>entity_1</th>\n",
       "      <th>entity_2</th>\n",
       "    </tr>\n",
       "  </thead>\n",
       "  <tbody>\n",
       "    <tr>\n",
       "      <th>0</th>\n",
       "      <td>0</td>\n",
       "      <td>http://purl.obolibrary.org/obo/CHEBI_15600</td>\n",
       "      <td>http://purl.obolibrary.org/obo/CHEBI_23053</td>\n",
       "    </tr>\n",
       "    <tr>\n",
       "      <th>1</th>\n",
       "      <td>1</td>\n",
       "      <td>http://purl.obolibrary.org/obo/CHEBI_36080</td>\n",
       "      <td>http://purl.obolibrary.org/obo/PR_000000001</td>\n",
       "    </tr>\n",
       "    <tr>\n",
       "      <th>2</th>\n",
       "      <td>2</td>\n",
       "      <td>http://purl.obolibrary.org/obo/CHEBI_22470</td>\n",
       "      <td>http://purl.obolibrary.org/obo/CHEBI_18145</td>\n",
       "    </tr>\n",
       "    <tr>\n",
       "      <th>3</th>\n",
       "      <td>3</td>\n",
       "      <td>http://purl.obolibrary.org/obo/CHEBI_176843</td>\n",
       "      <td>http://purl.obolibrary.org/obo/CHEBI_17439</td>\n",
       "    </tr>\n",
       "    <tr>\n",
       "      <th>4</th>\n",
       "      <td>4</td>\n",
       "      <td>http://purl.obolibrary.org/obo/CHEBI_42255</td>\n",
       "      <td>http://purl.obolibrary.org/obo/CHEBI_71227</td>\n",
       "    </tr>\n",
       "    <tr>\n",
       "      <th>...</th>\n",
       "      <td>...</td>\n",
       "      <td>...</td>\n",
       "      <td>...</td>\n",
       "    </tr>\n",
       "    <tr>\n",
       "      <th>3716</th>\n",
       "      <td>5625</td>\n",
       "      <td>http://purl.obolibrary.org/obo/HP_0001572</td>\n",
       "      <td>http://purl.obolibrary.org/obo/MP_0030091</td>\n",
       "    </tr>\n",
       "    <tr>\n",
       "      <th>3717</th>\n",
       "      <td>5629</td>\n",
       "      <td>http://purl.obolibrary.org/obo/FOODON_03412050</td>\n",
       "      <td>http://purl.obolibrary.org/obo/FOODON_03414195</td>\n",
       "    </tr>\n",
       "    <tr>\n",
       "      <th>3718</th>\n",
       "      <td>5630</td>\n",
       "      <td>http://purl.obolibrary.org/obo/CHEBI_31608</td>\n",
       "      <td>http://purl.obolibrary.org/obo/DRON_00016651</td>\n",
       "    </tr>\n",
       "    <tr>\n",
       "      <th>3719</th>\n",
       "      <td>5631</td>\n",
       "      <td>http://purl.obolibrary.org/obo/NCBITaxon_65561</td>\n",
       "      <td>http://purl.obolibrary.org/obo/fideo/FIDEO_000...</td>\n",
       "    </tr>\n",
       "    <tr>\n",
       "      <th>3720</th>\n",
       "      <td>5633</td>\n",
       "      <td>http://purl.obolibrary.org/obo/CHEBI_24041</td>\n",
       "      <td>http://purl.obolibrary.org/obo/CHEBI_17621</td>\n",
       "    </tr>\n",
       "  </tbody>\n",
       "</table>\n",
       "<p>3721 rows × 3 columns</p>\n",
       "</div>"
      ]
     },
     "execution_count": 21,
     "metadata": {},
     "output_type": "execute_result"
    }
   ],
   "execution_count": 21
  },
  {
   "metadata": {
    "ExecuteTime": {
     "end_time": "2024-07-23T10:02:59.807491Z",
     "start_time": "2024-07-23T10:02:59.801199Z"
    }
   },
   "cell_type": "code",
   "source": [
    "def is_class_or_property(uri):\n",
    "    if (uri, RDF.type, OWL.Class) in merged_graph or (uri, RDF.type, RDFS.Class) in merged_graph:\n",
    "        return 'class'\n",
    "    elif (uri, RDF.type, RDF.Property) in merged_graph or (uri, RDF.type, OWL.ObjectProperty) in merged_graph or (uri, RDF.type, OWL.DatatypeProperty) in merged_graph:\n",
    "        return 'property'\n",
    "    else:\n",
    "        return None\n",
    "    \n",
    "def uri_exists(uri):\n",
    "    \"\"\"Check if a URI exists in the graph as a subject, predicate, or object.\"\"\"\n",
    "    uri_ref = URIRef(uri)\n",
    "    if (uri_ref, None, None) in merged_graph or (None, uri_ref, None) in merged_graph or (None, None, uri_ref) in merged_graph:\n",
    "        return True\n",
    "    return False"
   ],
   "id": "620de112a8564ef2",
   "outputs": [],
   "execution_count": 22
  },
  {
   "metadata": {
    "ExecuteTime": {
     "end_time": "2024-07-23T10:03:14.674478Z",
     "start_time": "2024-07-23T10:03:09.259539Z"
    }
   },
   "cell_type": "code",
   "source": [
    "for index, row in mapping_file.iterrows():\n",
    "    entity1 = URIRef(row['entity_1'])\n",
    "    entity2 = URIRef(row['entity_2'])\n",
    "    \n",
    "    if uri_exists(entity1) and uri_exists(entity2):\n",
    "        entity1_type = is_class_or_property(entity1)\n",
    "        entity2_type = is_class_or_property(entity2)\n",
    "        \n",
    "        if entity1_type == 'class' and entity2_type == 'class':\n",
    "            merged_graph.add((entity1, OWL.equivalentClass, entity2))\n",
    "            merged_graph.add((entity2, OWL.equivalentClass, entity1))\n",
    "        elif entity1_type == 'property' and entity2_type == 'property':\n",
    "            merged_graph.add((entity1, OWL.equivalentProperty, entity2))\n",
    "            merged_graph.add((entity2, OWL.equivalentProperty, entity1))\n",
    "        else:\n",
    "            print(f\"Warning: Could not determine type for entities {entity1} and {entity2}\")\n",
    "    else:\n",
    "        print(f\"Warning: entity 1 {entity1} {'exists' if uri_exists(entity1) else 'does not exist'} in the graph, entity 2 {entity2} {'exists' if uri_exists(entity2) else 'does not exist'} in the graph.\")"
   ],
   "id": "979c076217a0aff",
   "outputs": [
    {
     "name": "stdout",
     "output_type": "stream",
     "text": [
      "Warning: entity 1 http://purl.obolibrary.org/obo/HP_6000817 does not exist in the graph, entity 2 http://purl.obolibrary.org/obo/DOID_4253 exists in the graph.\n",
      "Warning: entity 1 http://purl.obolibrary.org/obo/HP_6000852 does not exist in the graph, entity 2 http://purl.obolibrary.org/obo/DOID_11372 exists in the graph.\n",
      "Warning: entity 1 http://purl.obolibrary.org/obo/HP_6000895 does not exist in the graph, entity 2 http://purl.obolibrary.org/obo/DOID_7540 exists in the graph.\n",
      "Warning: entity 1 http://purl.obolibrary.org/obo/HP_6000894 does not exist in the graph, entity 2 http://purl.obolibrary.org/obo/DOID_1625 exists in the graph.\n",
      "Warning: entity 1 http://purl.obolibrary.org/obo/HP_6000793 does not exist in the graph, entity 2 http://purl.obolibrary.org/obo/SYMP_0019158 exists in the graph.\n",
      "Warning: entity 1 http://purl.obolibrary.org/obo/DRON_00874909 exists in the graph, entity 2 http://purl.obolibrary.org/obo/CHEBI_231598 does not exist in the graph.\n",
      "Warning: entity 1 http://purl.obolibrary.org/obo/DRON_00013025 exists in the graph, entity 2 http://purl.obolibrary.org/obo/CHEBI_231601 does not exist in the graph.\n",
      "Warning: entity 1 http://purl.obolibrary.org/obo/DRON_00012982 exists in the graph, entity 2 http://purl.obolibrary.org/obo/CHEBI_231505 does not exist in the graph.\n",
      "Warning: entity 1 http://purl.obolibrary.org/obo/DRON_00015646 exists in the graph, entity 2 http://purl.obolibrary.org/obo/CHEBI_231501 does not exist in the graph.\n",
      "Warning: entity 1 http://purl.obolibrary.org/obo/DRON_00750833 exists in the graph, entity 2 http://purl.obolibrary.org/obo/CHEBI_231614 does not exist in the graph.\n",
      "Warning: entity 1 http://purl.obolibrary.org/obo/HP_0025733 does not exist in the graph, entity 2 http://purl.obolibrary.org/obo/MP_0002214 exists in the graph.\n",
      "Warning: entity 1 http://purl.obolibrary.org/obo/HP_6000852 does not exist in the graph, entity 2 http://purl.obolibrary.org/obo/MP_0002731 exists in the graph.\n",
      "Warning: entity 1 http://purl.obolibrary.org/obo/HP_6000717 does not exist in the graph, entity 2 http://purl.obolibrary.org/obo/MP_0010047 exists in the graph.\n",
      "Warning: entity 1 http://purl.obolibrary.org/obo/CHEBI_75761 does not exist in the graph, entity 2 http://purl.obolibrary.org/obo/CHEBI_76971 exists in the graph.\n",
      "Warning: entity 1 http://purl.obolibrary.org/obo/HP_0032351 exists in the graph, entity 2 http://purl.obolibrary.org/obo/MP_0031642 does not exist in the graph.\n",
      "Warning: entity 1 http://purl.obolibrary.org/obo/HP_0032352 exists in the graph, entity 2 http://purl.obolibrary.org/obo/MP_0031637 does not exist in the graph.\n",
      "Warning: entity 1 http://purl.obolibrary.org/obo/HP_0020078 exists in the graph, entity 2 http://purl.obolibrary.org/obo/MP_0031641 does not exist in the graph.\n"
     ]
    }
   ],
   "execution_count": 23
  },
  {
   "metadata": {
    "ExecuteTime": {
     "end_time": "2024-07-23T10:03:14.683195Z",
     "start_time": "2024-07-23T10:03:14.675711Z"
    }
   },
   "cell_type": "code",
   "source": "len(merged_graph)",
   "id": "788c8786f9a02a4d",
   "outputs": [
    {
     "data": {
      "text/plain": [
       "19572895"
      ]
     },
     "execution_count": 24,
     "metadata": {},
     "output_type": "execute_result"
    }
   ],
   "execution_count": 24
  },
  {
   "metadata": {
    "ExecuteTime": {
     "end_time": "2024-07-23T10:03:14.705415Z",
     "start_time": "2024-07-23T10:03:14.685338Z"
    }
   },
   "cell_type": "code",
   "source": "len(merged_graph) - 19565843",
   "id": "47bc98625a9d84d1",
   "outputs": [
    {
     "data": {
      "text/plain": [
       "7052"
      ]
     },
     "execution_count": 25,
     "metadata": {},
     "output_type": "execute_result"
    }
   ],
   "execution_count": 25
  },
  {
   "metadata": {
    "ExecuteTime": {
     "end_time": "2024-07-23T10:31:39.968419Z",
     "start_time": "2024-07-23T10:03:15.906987Z"
    }
   },
   "cell_type": "code",
   "source": "merged_graph.serialize(destination=os.path.join(ontology_folder, \"merged_with_mapping.ttl\"), format=\"turtle\")",
   "id": "1d9f2d27e98aae95",
   "outputs": [
    {
     "data": {
      "text/plain": [
       "<Graph identifier=Nf3d2833ed65449258be3ec1ec1cde025 (<class 'rdflib.graph.Graph'>)>"
      ]
     },
     "execution_count": 26,
     "metadata": {},
     "output_type": "execute_result"
    }
   ],
   "execution_count": 26
  },
  {
   "metadata": {},
   "cell_type": "code",
   "outputs": [],
   "execution_count": null,
   "source": "",
   "id": "caa2d3135201a04d"
  }
 ],
 "metadata": {
  "kernelspec": {
   "display_name": "Python 3",
   "language": "python",
   "name": "python3"
  },
  "language_info": {
   "codemirror_mode": {
    "name": "ipython",
    "version": 2
   },
   "file_extension": ".py",
   "mimetype": "text/x-python",
   "name": "python",
   "nbconvert_exporter": "python",
   "pygments_lexer": "ipython2",
   "version": "2.7.6"
  }
 },
 "nbformat": 4,
 "nbformat_minor": 5
}
